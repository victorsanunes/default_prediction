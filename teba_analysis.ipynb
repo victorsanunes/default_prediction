{
 "cells": [
  {
   "cell_type": "code",
   "execution_count": 1,
   "metadata": {},
   "outputs": [],
   "source": [
    "import pandas as pd\n",
    "import numpy as np\n",
    "import matplotlib.pyplot as plt\n",
    "import seaborn as sns\n",
    "\n",
    "%matplotlib inline\n",
    "from IPython.core.interactiveshell import InteractiveShell\n",
    "InteractiveShell.ast_node_interactivity = \"all\"\n",
    "plt.style.use('ggplot')"
   ]
  },
  {
   "cell_type": "code",
   "execution_count": 2,
   "metadata": {},
   "outputs": [],
   "source": [
    "teba = pd.read_excel(\"teba.xlsx\")\n",
    "teba.drop(\"id\", axis=1, inplace=True)"
   ]
  },
  {
   "cell_type": "code",
   "execution_count": 3,
   "metadata": {},
   "outputs": [
    {
     "data": {
      "text/html": [
       "<div>\n",
       "<style scoped>\n",
       "    .dataframe tbody tr th:only-of-type {\n",
       "        vertical-align: middle;\n",
       "    }\n",
       "\n",
       "    .dataframe tbody tr th {\n",
       "        vertical-align: top;\n",
       "    }\n",
       "\n",
       "    .dataframe thead th {\n",
       "        text-align: right;\n",
       "    }\n",
       "</style>\n",
       "<table border=\"1\" class=\"dataframe\">\n",
       "  <thead>\n",
       "    <tr style=\"text-align: right;\">\n",
       "      <th></th>\n",
       "      <th>idade</th>\n",
       "      <th>linhas</th>\n",
       "      <th>temp_cli</th>\n",
       "      <th>renda</th>\n",
       "      <th>fatura</th>\n",
       "      <th>temp_rsd</th>\n",
       "      <th>local</th>\n",
       "      <th>tvcabo</th>\n",
       "      <th>debaut</th>\n",
       "      <th>cancel</th>\n",
       "      <th>Y</th>\n",
       "    </tr>\n",
       "  </thead>\n",
       "  <tbody>\n",
       "    <tr>\n",
       "      <th>0</th>\n",
       "      <td>51</td>\n",
       "      <td>4</td>\n",
       "      <td>26</td>\n",
       "      <td>5320.0</td>\n",
       "      <td>543</td>\n",
       "      <td>7.3</td>\n",
       "      <td>A</td>\n",
       "      <td>sim</td>\n",
       "      <td>nao</td>\n",
       "      <td>nao</td>\n",
       "      <td>0</td>\n",
       "    </tr>\n",
       "    <tr>\n",
       "      <th>1</th>\n",
       "      <td>36</td>\n",
       "      <td>2</td>\n",
       "      <td>16</td>\n",
       "      <td>5620.0</td>\n",
       "      <td>482</td>\n",
       "      <td>4.5</td>\n",
       "      <td>A</td>\n",
       "      <td>sim</td>\n",
       "      <td>nao</td>\n",
       "      <td>nao</td>\n",
       "      <td>0</td>\n",
       "    </tr>\n",
       "    <tr>\n",
       "      <th>2</th>\n",
       "      <td>35</td>\n",
       "      <td>1</td>\n",
       "      <td>15</td>\n",
       "      <td>4860.0</td>\n",
       "      <td>593</td>\n",
       "      <td>4.8</td>\n",
       "      <td>A</td>\n",
       "      <td>nao</td>\n",
       "      <td>nao</td>\n",
       "      <td>nao</td>\n",
       "      <td>0</td>\n",
       "    </tr>\n",
       "    <tr>\n",
       "      <th>3</th>\n",
       "      <td>40</td>\n",
       "      <td>1</td>\n",
       "      <td>22</td>\n",
       "      <td>6590.0</td>\n",
       "      <td>1184</td>\n",
       "      <td>6.2</td>\n",
       "      <td>C</td>\n",
       "      <td>sim</td>\n",
       "      <td>nao</td>\n",
       "      <td>nao</td>\n",
       "      <td>0</td>\n",
       "    </tr>\n",
       "    <tr>\n",
       "      <th>4</th>\n",
       "      <td>52</td>\n",
       "      <td>1</td>\n",
       "      <td>30</td>\n",
       "      <td>6370.0</td>\n",
       "      <td>634</td>\n",
       "      <td>2.2</td>\n",
       "      <td>A</td>\n",
       "      <td>nao</td>\n",
       "      <td>nao</td>\n",
       "      <td>nao</td>\n",
       "      <td>0</td>\n",
       "    </tr>\n",
       "  </tbody>\n",
       "</table>\n",
       "</div>"
      ],
      "text/plain": [
       "   idade  linhas  temp_cli   renda  fatura  temp_rsd local tvcabo debaut  \\\n",
       "0     51       4        26  5320.0     543       7.3     A    sim    nao   \n",
       "1     36       2        16  5620.0     482       4.5     A    sim    nao   \n",
       "2     35       1        15  4860.0     593       4.8     A    nao    nao   \n",
       "3     40       1        22  6590.0    1184       6.2     C    sim    nao   \n",
       "4     52       1        30  6370.0     634       2.2     A    nao    nao   \n",
       "\n",
       "  cancel  Y  \n",
       "0    nao  0  \n",
       "1    nao  0  \n",
       "2    nao  0  \n",
       "3    nao  0  \n",
       "4    nao  0  "
      ]
     },
     "execution_count": 3,
     "metadata": {},
     "output_type": "execute_result"
    }
   ],
   "source": [
    "teba.head()"
   ]
  },
  {
   "cell_type": "markdown",
   "metadata": {},
   "source": [
    "By analysing the info of teba dataframe, we can see that it seems like there is no missing data.<br/>\n",
    "(Ao analisar as informacoes do dataframe, podemos ver que aparentemente nao ha valores ausentes)"
   ]
  },
  {
   "cell_type": "code",
   "execution_count": 4,
   "metadata": {},
   "outputs": [
    {
     "name": "stdout",
     "output_type": "stream",
     "text": [
      "<class 'pandas.core.frame.DataFrame'>\n",
      "RangeIndex: 2000 entries, 0 to 1999\n",
      "Data columns (total 11 columns):\n",
      "idade       2000 non-null int64\n",
      "linhas      2000 non-null int64\n",
      "temp_cli    2000 non-null int64\n",
      "renda       2000 non-null float64\n",
      "fatura      2000 non-null int64\n",
      "temp_rsd    2000 non-null float64\n",
      "local       2000 non-null object\n",
      "tvcabo      2000 non-null object\n",
      "debaut      2000 non-null object\n",
      "cancel      2000 non-null object\n",
      "Y           2000 non-null int64\n",
      "dtypes: float64(2), int64(5), object(4)\n",
      "memory usage: 172.0+ KB\n"
     ]
    }
   ],
   "source": [
    "teba.info()"
   ]
  },
  {
   "cell_type": "markdown",
   "metadata": {},
   "source": [
    "## Missing\n"
   ]
  },
  {
   "cell_type": "markdown",
   "metadata": {},
   "source": [
    "Just to confirm, let's plot a heatmap of the missing data. If they exist, they will be shown as yellow bars<br/>\n",
    "(Apenas para confirmar, vamos plotar um mapa de calor dos dados ausentes. Caso eles existam, irao aparecer em barras amarelas)"
   ]
  },
  {
   "cell_type": "code",
   "execution_count": 5,
   "metadata": {},
   "outputs": [
    {
     "data": {
      "text/plain": [
       "<matplotlib.figure.Figure at 0x1f537ebf048>"
      ]
     },
     "execution_count": 5,
     "metadata": {},
     "output_type": "execute_result"
    },
    {
     "data": {
      "text/plain": [
       "<matplotlib.axes._subplots.AxesSubplot at 0x1f537e99128>"
      ]
     },
     "execution_count": 5,
     "metadata": {},
     "output_type": "execute_result"
    },
    {
     "data": {
      "image/png": "[encoded data removed]",
      "text/plain": [
       "<matplotlib.figure.Figure at 0x1f537ebf048>"
      ]
     },
     "metadata": {},
     "output_type": "display_data"
    }
   ],
   "source": [
    "plt.figure(figsize=(12, 6))\n",
    "sns.heatmap(teba.isnull(), yticklabels=False, cbar=False, cmap=\"viridis\")"
   ]
  },
  {
   "cell_type": "markdown",
   "metadata": {},
   "source": [
    "Like we expected, missing are missing in this database ;)<br/>\n",
    "(Como esperado, os dados ausentes estao ausentes neta base de dados ;) )"
   ]
  },
  {
   "cell_type": "markdown",
   "metadata": {},
   "source": [
    "## Debito Automatico\n"
   ]
  },
  {
   "cell_type": "markdown",
   "metadata": {},
   "source": [
    "Let's look on how the age is distributed among the data. We will group the plot by the column \"debaut\"<br/>\n",
    "(Vamos olhar como as idades sao distribuidadas entre os dados. Iremos agrupar a plotagem pela coluna \"debaut\")"
   ]
  },
  {
   "cell_type": "code",
   "execution_count": 6,
   "metadata": {},
   "outputs": [
    {
     "data": {
      "text/plain": [
       "array([<matplotlib.axes._subplots.AxesSubplot object at 0x000001F53A28DCC0>,\n",
       "       <matplotlib.axes._subplots.AxesSubplot object at 0x000001F537FC3048>], dtype=object)"
      ]
     },
     "execution_count": 6,
     "metadata": {},
     "output_type": "execute_result"
    },
    {
     "data": {
      "image/png": "[encoded data removed]",
      "text/plain": [
       "<matplotlib.figure.Figure at 0x1f53a28d400>"
      ]
     },
     "metadata": {},
     "output_type": "display_data"
    }
   ],
   "source": [
    "teba.hist(column=\"idade\", figsize=(12,6), bins=10, by=\"debaut\")"
   ]
  },
  {
   "cell_type": "code",
   "execution_count": 7,
   "metadata": {},
   "outputs": [
    {
     "data": {
      "text/plain": [
       "<matplotlib.axes._subplots.AxesSubplot at 0x1f53a37d588>"
      ]
     },
     "execution_count": 7,
     "metadata": {},
     "output_type": "execute_result"
    },
    {
     "data": {
      "image/png": "[encoded data removed]",
      "text/plain": [
       "<matplotlib.figure.Figure at 0x1f53a2f79e8>"
      ]
     },
     "metadata": {},
     "output_type": "display_data"
    }
   ],
   "source": [
    "teba.boxplot(column=\"idade\", by=\"debaut\", figsize=(12,6))"
   ]
  },
  {
   "cell_type": "markdown",
   "metadata": {},
   "source": [
    "Both those who pays in automatic debt or don't, the most frequent age is middle age (30-40 years)<br/>\n",
    "(Ambas as pessoas que pagam ou nao em debito automatic estao na meia idade (30-40 anos) )\n",
    "\n",
    "How many people are in each category?<br/>\n",
    "(Quantas pessoas estao em cada categoria?)"
   ]
  },
  {
   "cell_type": "code",
   "execution_count": 8,
   "metadata": {},
   "outputs": [
    {
     "name": "stderr",
     "output_type": "stream",
     "text": [
      "C:\\Users\\ePricing\\Anaconda3\\lib\\site-packages\\seaborn\\categorical.py:1460: FutureWarning: remove_na is deprecated and is a private function. Do not use.\n",
      "  stat_data = remove_na(group_data)\n"
     ]
    },
    {
     "data": {
      "text/plain": [
       "<matplotlib.axes._subplots.AxesSubplot at 0x1f53a3834e0>"
      ]
     },
     "execution_count": 8,
     "metadata": {},
     "output_type": "execute_result"
    },
    {
     "data": {
      "image/png": "[encoded data removed]",
      "text/plain": [
       "<matplotlib.figure.Figure at 0x1f53a23e470>"
      ]
     },
     "metadata": {},
     "output_type": "display_data"
    }
   ],
   "source": [
    "sns.countplot(x=\"debaut\", data=teba)"
   ]
  },
  {
   "cell_type": "markdown",
   "metadata": {},
   "source": [
    "1200 don't pay in automatic debt. 800 pay in this way<br/>\n",
    "(1200 pessoas nao pagam no debito automatico. 800 pagam)"
   ]
  },
  {
   "cell_type": "markdown",
   "metadata": {},
   "source": [
    "Let's look the amount of people who canceled the tv divided by those who pays in automatic debt"
   ]
  },
  {
   "cell_type": "code",
   "execution_count": 9,
   "metadata": {
    "scrolled": false
   },
   "outputs": [
    {
     "name": "stderr",
     "output_type": "stream",
     "text": [
      "C:\\Users\\ePricing\\Anaconda3\\lib\\site-packages\\seaborn\\categorical.py:1508: FutureWarning: remove_na is deprecated and is a private function. Do not use.\n",
      "  stat_data = remove_na(group_data[hue_mask])\n"
     ]
    },
    {
     "data": {
      "text/plain": [
       "<matplotlib.axes._subplots.AxesSubplot at 0x1f53a5dea20>"
      ]
     },
     "execution_count": 9,
     "metadata": {},
     "output_type": "execute_result"
    },
    {
     "data": {
      "image/png": "[encoded data removed]",
      "text/plain": [
       "<matplotlib.figure.Figure at 0x1f53809d518>"
      ]
     },
     "metadata": {},
     "output_type": "display_data"
    }
   ],
   "source": [
    "sns.countplot(x=\"debaut\", hue=\"cancel\", data=teba)"
   ]
  },
  {
   "cell_type": "markdown",
   "metadata": {},
   "source": [
    "## TV a cabo"
   ]
  },
  {
   "cell_type": "markdown",
   "metadata": {},
   "source": [
    "Now, let's how the column \"idade\" is distributed grouped by the column \"tvcabo\" <br/>\n",
    "(Agora vamos ver como a coluna \"idade\" esta distribuida agrupada pela coluna \"tvcabo\")"
   ]
  },
  {
   "cell_type": "code",
   "execution_count": 10,
   "metadata": {},
   "outputs": [
    {
     "data": {
      "text/plain": [
       "array([<matplotlib.axes._subplots.AxesSubplot object at 0x000001F53A5E47F0>,\n",
       "       <matplotlib.axes._subplots.AxesSubplot object at 0x000001F53A8616D8>], dtype=object)"
      ]
     },
     "execution_count": 10,
     "metadata": {},
     "output_type": "execute_result"
    },
    {
     "data": {
      "image/png": "[encoded data removed]",
      "text/plain": [
       "<matplotlib.figure.Figure at 0x1f53a66a7b8>"
      ]
     },
     "metadata": {},
     "output_type": "display_data"
    }
   ],
   "source": [
    "teba.hist(column=\"idade\", figsize=(12,6), bins=10, by=\"tvcabo\")"
   ]
  },
  {
   "cell_type": "markdown",
   "metadata": {},
   "source": [
    "What is the mean age of those who has and don't have tv a cabo?"
   ]
  },
  {
   "cell_type": "code",
   "execution_count": 11,
   "metadata": {},
   "outputs": [
    {
     "name": "stdout",
     "output_type": "stream",
     "text": [
      "Possui tv a cabo: 38\n",
      "NAO Possui tv a cabo: 38\n"
     ]
    }
   ],
   "source": [
    "print(\"Possui tv a cabo: \" + str(int(teba[teba[\"tvcabo\"]==\"sim\"][\"idade\"].mean())))\n",
    "print(\"NAO Possui tv a cabo: \" + str(int(teba[teba[\"tvcabo\"]==\"nao\"][\"idade\"].mean())))"
   ]
  },
  {
   "cell_type": "code",
   "execution_count": 12,
   "metadata": {},
   "outputs": [
    {
     "data": {
      "text/plain": [
       "<matplotlib.axes._subplots.AxesSubplot at 0x1f53a8e76a0>"
      ]
     },
     "execution_count": 12,
     "metadata": {},
     "output_type": "execute_result"
    },
    {
     "data": {
      "image/png": "[encoded data removed]",
      "text/plain": [
       "<matplotlib.figure.Figure at 0x1f53a7e3550>"
      ]
     },
     "metadata": {},
     "output_type": "display_data"
    }
   ],
   "source": [
    "teba.boxplot(column=\"idade\", by=\"tvcabo\", figsize=(12,6))"
   ]
  },
  {
   "cell_type": "markdown",
   "metadata": {},
   "source": [
    "(Analisando os boxplot podemos ver que as idades sao muito parecidas entre aqueles que possuem e os que nao possuem tv a cabo)"
   ]
  },
  {
   "cell_type": "code",
   "execution_count": 13,
   "metadata": {},
   "outputs": [
    {
     "name": "stderr",
     "output_type": "stream",
     "text": [
      "C:\\Users\\ePricing\\Anaconda3\\lib\\site-packages\\seaborn\\categorical.py:1460: FutureWarning: remove_na is deprecated and is a private function. Do not use.\n",
      "  stat_data = remove_na(group_data)\n"
     ]
    },
    {
     "data": {
      "text/plain": [
       "<matplotlib.axes._subplots.AxesSubplot at 0x1f53a634278>"
      ]
     },
     "execution_count": 13,
     "metadata": {},
     "output_type": "execute_result"
    },
    {
     "data": {
      "image/png": "[encoded data removed]",
      "text/plain": [
       "<matplotlib.figure.Figure at 0x1f53a8f0748>"
      ]
     },
     "metadata": {},
     "output_type": "display_data"
    }
   ],
   "source": [
    "sns.countplot(x=\"tvcabo\", data=teba)"
   ]
  },
  {
   "cell_type": "code",
   "execution_count": 14,
   "metadata": {},
   "outputs": [
    {
     "name": "stderr",
     "output_type": "stream",
     "text": [
      "C:\\Users\\ePricing\\Anaconda3\\lib\\site-packages\\seaborn\\categorical.py:1508: FutureWarning: remove_na is deprecated and is a private function. Do not use.\n",
      "  stat_data = remove_na(group_data[hue_mask])\n"
     ]
    },
    {
     "data": {
      "text/plain": [
       "<matplotlib.axes._subplots.AxesSubplot at 0x1f53abad550>"
      ]
     },
     "execution_count": 14,
     "metadata": {},
     "output_type": "execute_result"
    },
    {
     "data": {
      "image/png": "[encoded data removed]",
      "text/plain": [
       "<matplotlib.figure.Figure at 0x1f537eed518>"
      ]
     },
     "metadata": {},
     "output_type": "display_data"
    }
   ],
   "source": [
    "sns.countplot(x=\"cancel\", data=teba, hue=\"tvcabo\")"
   ]
  },
  {
   "cell_type": "markdown",
   "metadata": {},
   "source": [
    "## Idade\n",
    "(Como as idades sao distribuidas entre as pessoas que cancelaram e as que nao cancelaram)"
   ]
  },
  {
   "cell_type": "code",
   "execution_count": 15,
   "metadata": {},
   "outputs": [
    {
     "data": {
      "text/plain": [
       "array([<matplotlib.axes._subplots.AxesSubplot object at 0x000001F53ABD45C0>,\n",
       "       <matplotlib.axes._subplots.AxesSubplot object at 0x000001F53AE2B7B8>], dtype=object)"
      ]
     },
     "execution_count": 15,
     "metadata": {},
     "output_type": "execute_result"
    },
    {
     "data": {
      "text/plain": [
       "<matplotlib.axes._subplots.AxesSubplot at 0x1f53ae56f98>"
      ]
     },
     "execution_count": 15,
     "metadata": {},
     "output_type": "execute_result"
    },
    {
     "data": {
      "image/png": "[encoded data removed]",
      "text/plain": [
       "<matplotlib.figure.Figure at 0x1f53abee4a8>"
      ]
     },
     "metadata": {},
     "output_type": "display_data"
    },
    {
     "data": {
      "image/png": "[encoded data removed]",
      "text/plain": [
       "<matplotlib.figure.Figure at 0x1f53b0355c0>"
      ]
     },
     "metadata": {},
     "output_type": "display_data"
    }
   ],
   "source": [
    "teba.hist(column=\"idade\", figsize=(12,6), bins=10, by=\"cancel\")\n",
    "teba.boxplot(column=\"idade\", by=\"cancel\", figsize=(12,6))"
   ]
  },
  {
   "cell_type": "markdown",
   "metadata": {},
   "source": [
    "(Pessoas que cancelaram costumam ser mais novas do que as que nao cancelaram. Entre 25 e 30 anos sao as que mais cancelaram)"
   ]
  },
  {
   "cell_type": "code",
   "execution_count": 16,
   "metadata": {},
   "outputs": [
    {
     "data": {
      "text/plain": [
       "array([[<matplotlib.axes._subplots.AxesSubplot object at 0x000001F53ADC7E48>]], dtype=object)"
      ]
     },
     "execution_count": 16,
     "metadata": {},
     "output_type": "execute_result"
    },
    {
     "data": {
      "image/png": "[encoded data removed]",
      "text/plain": [
       "<matplotlib.figure.Figure at 0x1f53adae0b8>"
      ]
     },
     "metadata": {},
     "output_type": "display_data"
    }
   ],
   "source": [
    "teba.hist(column=\"idade\", figsize=(12,6), bins=10)"
   ]
  },
  {
   "cell_type": "code",
   "execution_count": 17,
   "metadata": {},
   "outputs": [
    {
     "name": "stdout",
     "output_type": "stream",
     "text": [
      "Media de idade para a classe cancel\n",
      "Cancelou: 35\n",
      "NAO Cancelou: 39\n"
     ]
    }
   ],
   "source": [
    "print(\"Media de idade para a classe cancel\")\n",
    "print(\"Cancelou: \" + str(int(teba[teba[\"cancel\"]==\"sim\"][\"idade\"].mean())))\n",
    "print(\"NAO Cancelou: \" + str(int(teba[teba[\"cancel\"]==\"nao\"][\"idade\"].mean())))"
   ]
  },
  {
   "cell_type": "code",
   "execution_count": 18,
   "metadata": {},
   "outputs": [
    {
     "data": {
      "text/html": [
       "<div>\n",
       "<style scoped>\n",
       "    .dataframe tbody tr th:only-of-type {\n",
       "        vertical-align: middle;\n",
       "    }\n",
       "\n",
       "    .dataframe tbody tr th {\n",
       "        vertical-align: top;\n",
       "    }\n",
       "\n",
       "    .dataframe thead th {\n",
       "        text-align: right;\n",
       "    }\n",
       "</style>\n",
       "<table border=\"1\" class=\"dataframe\">\n",
       "  <thead>\n",
       "    <tr style=\"text-align: right;\">\n",
       "      <th></th>\n",
       "      <th>Cancelou</th>\n",
       "      <th>Nao Cancelou</th>\n",
       "    </tr>\n",
       "  </thead>\n",
       "  <tbody>\n",
       "    <tr>\n",
       "      <th>media</th>\n",
       "      <td>35</td>\n",
       "      <td>39</td>\n",
       "    </tr>\n",
       "    <tr>\n",
       "      <th>min</th>\n",
       "      <td>23</td>\n",
       "      <td>23</td>\n",
       "    </tr>\n",
       "    <tr>\n",
       "      <th>max</th>\n",
       "      <td>59</td>\n",
       "      <td>61</td>\n",
       "    </tr>\n",
       "  </tbody>\n",
       "</table>\n",
       "</div>"
      ],
      "text/plain": [
       "       Cancelou  Nao Cancelou\n",
       "media        35            39\n",
       "min          23            23\n",
       "max          59            61"
      ]
     },
     "execution_count": 18,
     "metadata": {},
     "output_type": "execute_result"
    }
   ],
   "source": [
    "pd.DataFrame(data={\"Cancelou\":[int(teba[teba[\"cancel\"]==\"sim\"][\"idade\"].mean()), \n",
    "                            int(teba[teba[\"cancel\"]==\"sim\"][\"idade\"].min()),\n",
    "                            int(teba[teba[\"cancel\"]==\"sim\"][\"idade\"].max())],\n",
    "             \n",
    "            \"Nao Cancelou\":[int(teba[teba[\"cancel\"]==\"nao\"][\"idade\"].mean()),\n",
    "                           int(teba[teba[\"cancel\"]==\"nao\"][\"idade\"].min()),\n",
    "                           int(teba[teba[\"cancel\"]==\"nao\"][\"idade\"].max())]},\n",
    "            index=[\"media\", \"min\", \"max\"])"
   ]
  },
  {
   "cell_type": "markdown",
   "metadata": {},
   "source": [
    "## Renda\n",
    "\n",
    "(Vamos olhar para a renda. Vamos ver qual a renda media, minima e maxima dos que cancelaram e os que nao cancelaram)"
   ]
  },
  {
   "cell_type": "code",
   "execution_count": 19,
   "metadata": {},
   "outputs": [
    {
     "data": {
      "text/html": [
       "<div>\n",
       "<style scoped>\n",
       "    .dataframe tbody tr th:only-of-type {\n",
       "        vertical-align: middle;\n",
       "    }\n",
       "\n",
       "    .dataframe tbody tr th {\n",
       "        vertical-align: top;\n",
       "    }\n",
       "\n",
       "    .dataframe thead th {\n",
       "        text-align: right;\n",
       "    }\n",
       "</style>\n",
       "<table border=\"1\" class=\"dataframe\">\n",
       "  <thead>\n",
       "    <tr style=\"text-align: right;\">\n",
       "      <th></th>\n",
       "      <th>Cancelou</th>\n",
       "      <th>Nao Cancelou</th>\n",
       "    </tr>\n",
       "  </thead>\n",
       "  <tbody>\n",
       "    <tr>\n",
       "      <th>media</th>\n",
       "      <td>7126</td>\n",
       "      <td>7833</td>\n",
       "    </tr>\n",
       "    <tr>\n",
       "      <th>min</th>\n",
       "      <td>4210</td>\n",
       "      <td>4230</td>\n",
       "    </tr>\n",
       "    <tr>\n",
       "      <th>max</th>\n",
       "      <td>30030</td>\n",
       "      <td>42130</td>\n",
       "    </tr>\n",
       "  </tbody>\n",
       "</table>\n",
       "</div>"
      ],
      "text/plain": [
       "       Cancelou  Nao Cancelou\n",
       "media      7126          7833\n",
       "min        4210          4230\n",
       "max       30030         42130"
      ]
     },
     "execution_count": 19,
     "metadata": {},
     "output_type": "execute_result"
    }
   ],
   "source": [
    "pd.DataFrame(data={\"Cancelou\":[int(teba[teba[\"cancel\"]==\"sim\"][\"renda\"].mean()), \n",
    "                            int(teba[teba[\"cancel\"]==\"sim\"][\"renda\"].min()),\n",
    "                            int(teba[teba[\"cancel\"]==\"sim\"][\"renda\"].max())],\n",
    "             \n",
    "            \"Nao Cancelou\":[int(teba[teba[\"cancel\"]==\"nao\"][\"renda\"].mean()),\n",
    "                           int(teba[teba[\"cancel\"]==\"nao\"][\"renda\"].min()),\n",
    "                           int(teba[teba[\"cancel\"]==\"nao\"][\"renda\"].max())]},\n",
    "            index=[\"media\", \"min\", \"max\"])"
   ]
  },
  {
   "cell_type": "code",
   "execution_count": 20,
   "metadata": {},
   "outputs": [
    {
     "data": {
      "text/plain": [
       "<matplotlib.figure.Figure at 0x1f53ade78d0>"
      ]
     },
     "execution_count": 20,
     "metadata": {},
     "output_type": "execute_result"
    },
    {
     "data": {
      "image/png": "[encoded data removed]",
      "text/plain": [
       "<matplotlib.figure.Figure at 0x1f53ade78d0>"
      ]
     },
     "metadata": {},
     "output_type": "display_data"
    }
   ],
   "source": [
    "plt.figure(figsize=(12,6))\n",
    "ax = sns.kdeplot(teba.renda, teba.idade,\n",
    "                 cmap=\"Reds\", shade=True, shade_lowest=False)"
   ]
  },
  {
   "cell_type": "code",
   "execution_count": 21,
   "metadata": {},
   "outputs": [
    {
     "data": {
      "text/plain": [
       "<matplotlib.axes._subplots.AxesSubplot at 0x1f53b17a9e8>"
      ]
     },
     "execution_count": 21,
     "metadata": {},
     "output_type": "execute_result"
    },
    {
     "data": {
      "image/png": "[encoded data removed]",
      "text/plain": [
       "<matplotlib.figure.Figure at 0x1f53b151a20>"
      ]
     },
     "metadata": {},
     "output_type": "display_data"
    }
   ],
   "source": [
    "teba.boxplot(column=\"renda\", by=\"cancel\", figsize=(12,6))"
   ]
  },
  {
   "cell_type": "code",
   "execution_count": 22,
   "metadata": {},
   "outputs": [
    {
     "data": {
      "text/plain": [
       "count     1523.000000\n",
       "mean      7833.118844\n",
       "std       3976.018790\n",
       "min       4230.000000\n",
       "25%       5510.000000\n",
       "50%       6570.000000\n",
       "75%       8560.000000\n",
       "max      42130.000000\n",
       "Name: renda, dtype: float64"
      ]
     },
     "execution_count": 22,
     "metadata": {},
     "output_type": "execute_result"
    }
   ],
   "source": [
    "teba[teba[\"cancel\"]==\"nao\"][\"renda\"].describe()"
   ]
  },
  {
   "cell_type": "code",
   "execution_count": 23,
   "metadata": {},
   "outputs": [
    {
     "data": {
      "text/plain": [
       "count      477.000000\n",
       "mean      7126.184486\n",
       "std       3743.716095\n",
       "min       4210.000000\n",
       "25%       5160.000000\n",
       "50%       5840.000000\n",
       "75%       7570.000000\n",
       "max      30030.000000\n",
       "Name: renda, dtype: float64"
      ]
     },
     "execution_count": 23,
     "metadata": {},
     "output_type": "execute_result"
    }
   ],
   "source": [
    "teba[teba[\"cancel\"]==\"sim\"][\"renda\"].describe()"
   ]
  },
  {
   "cell_type": "code",
   "execution_count": 24,
   "metadata": {},
   "outputs": [],
   "source": [
    "greatest = teba[\"renda\"].max() \n",
    "def normalizeColumn(a):\n",
    "    return a/greatest\n",
    "\n",
    "renda_normalizada = teba[\"renda\"].apply(normalizeColumn)"
   ]
  },
  {
   "cell_type": "markdown",
   "metadata": {},
   "source": [
    "(Como estao as rendas dos clientes? Iremos discretizar as rendas por classe social)"
   ]
  },
  {
   "cell_type": "code",
   "execution_count": 25,
   "metadata": {},
   "outputs": [
    {
     "data": {
      "text/plain": [
       "<matplotlib.axes._subplots.AxesSubplot at 0x1f53adae550>"
      ]
     },
     "execution_count": 25,
     "metadata": {},
     "output_type": "execute_result"
    },
    {
     "data": {
      "image/png": "[encoded data removed]",
      "text/plain": [
       "<matplotlib.figure.Figure at 0x1f53b26f160>"
      ]
     },
     "metadata": {},
     "output_type": "display_data"
    }
   ],
   "source": [
    "# teba[\"renda\"] = renda_normalizada\n",
    "bins = [0, 1576.00, 3152.00, 7880.00, 15760.00]\n",
    "cats = pd.cut(teba[\"renda\"], bins)\n",
    "pd.value_counts(cats).plot()"
   ]
  },
  {
   "cell_type": "markdown",
   "metadata": {},
   "source": [
    "(Podemos ver que a maioria dos clientes (mais de 1400 clientes), possuem renda entre R\\$ 3152,00 e R\\$ 7880,00)"
   ]
  },
  {
   "cell_type": "code",
   "execution_count": 26,
   "metadata": {},
   "outputs": [],
   "source": [
    "def discretizaRenda(x):\n",
    "    if x >= 0 and x <= 1576.00:\n",
    "        return \"E\"\n",
    "    if x > 1576.00 and x <= 3152.00:\n",
    "        return \"D\"\n",
    "    if x > 3152.00 and x <= 7880.00:\n",
    "        return \"C\"\n",
    "    if x > 7880.00 and x <= 15760.00:\n",
    "        return \"B\"\n",
    "    if x > 15760.00:\n",
    "        return \"A\"\n",
    "\n",
    "classe_social = teba[\"renda\"].apply(discretizaRenda)\n",
    "teba[\"classe_social\"] = classe_social"
   ]
  },
  {
   "cell_type": "markdown",
   "metadata": {},
   "source": [
    "(E como estao os cancelamentos por classe social? Qual classe social cancela mais?)"
   ]
  },
  {
   "cell_type": "code",
   "execution_count": 27,
   "metadata": {},
   "outputs": [
    {
     "data": {
      "text/plain": [
       "<matplotlib.figure.Figure at 0x1f53ae25eb8>"
      ]
     },
     "execution_count": 27,
     "metadata": {},
     "output_type": "execute_result"
    },
    {
     "name": "stderr",
     "output_type": "stream",
     "text": [
      "C:\\Users\\ePricing\\Anaconda3\\lib\\site-packages\\seaborn\\categorical.py:1508: FutureWarning: remove_na is deprecated and is a private function. Do not use.\n",
      "  stat_data = remove_na(group_data[hue_mask])\n"
     ]
    },
    {
     "data": {
      "text/plain": [
       "<matplotlib.axes._subplots.AxesSubplot at 0x1f537ea1898>"
      ]
     },
     "execution_count": 27,
     "metadata": {},
     "output_type": "execute_result"
    },
    {
     "data": {
      "image/png": "[encoded data removed]",
      "text/plain": [
       "<matplotlib.figure.Figure at 0x1f53ae25eb8>"
      ]
     },
     "metadata": {},
     "output_type": "display_data"
    }
   ],
   "source": [
    "plt.figure(figsize=(12, 6))\n",
    "sns.countplot(x=\"classe_social\", data=teba, hue=\"cancel\")\n"
   ]
  },
  {
   "cell_type": "markdown",
   "metadata": {},
   "source": [
    "(Podemos ver que a classe C eh a que mais cancelou planos. Mais precisamento 1424 cancelamentos contra 96 da classe A)"
   ]
  },
  {
   "cell_type": "code",
   "execution_count": 28,
   "metadata": {},
   "outputs": [
    {
     "data": {
      "text/plain": [
       "1424"
      ]
     },
     "execution_count": 28,
     "metadata": {},
     "output_type": "execute_result"
    },
    {
     "data": {
      "text/plain": [
       "96"
      ]
     },
     "execution_count": 28,
     "metadata": {},
     "output_type": "execute_result"
    }
   ],
   "source": [
    "teba[teba[\"classe_social\"]==\"C\"][\"renda\"].count()\n",
    "teba[teba[\"classe_social\"]==\"A\"][\"renda\"].count()"
   ]
  },
  {
   "cell_type": "code",
   "execution_count": 29,
   "metadata": {},
   "outputs": [
    {
     "name": "stderr",
     "output_type": "stream",
     "text": [
      "C:\\Users\\ePricing\\Anaconda3\\lib\\site-packages\\seaborn\\categorical.py:1508: FutureWarning: remove_na is deprecated and is a private function. Do not use.\n",
      "  stat_data = remove_na(group_data[hue_mask])\n"
     ]
    },
    {
     "data": {
      "text/plain": [
       "<matplotlib.axes._subplots.AxesSubplot at 0x1f53b2e2860>"
      ]
     },
     "execution_count": 29,
     "metadata": {},
     "output_type": "execute_result"
    },
    {
     "data": {
      "image/png": "[encoded data removed]",
      "text/plain": [
       "<matplotlib.figure.Figure at 0x1f53b25be80>"
      ]
     },
     "metadata": {},
     "output_type": "display_data"
    }
   ],
   "source": [
    "def discretizaIdade(x):\n",
    "    if x <= 30:\n",
    "        return \"jovem\"\n",
    "    if x > 30 and x <= 50:\n",
    "        return \"adulto\"\n",
    "    if x > 50:\n",
    "        return \"idoso\"\n",
    "\n",
    "idade_faixa = teba[\"idade\"].apply(discretizaIdade)\n",
    "teba[\"idade_faixa\"] = idade_faixa\n",
    "sns.countplot(y=\"classe_social\", data=teba, hue=\"idade_faixa\")"
   ]
  },
  {
   "cell_type": "markdown",
   "metadata": {},
   "source": [
    "## Data preparation\n",
    "(Agora iremos preparar os dados, transforma-los para poder aplicar algoritmos de machine learning)\n",
    "<br/>Vamos iniciar transformando a variavel idade. Iremos discretiza-la"
   ]
  },
  {
   "cell_type": "code",
   "execution_count": 30,
   "metadata": {},
   "outputs": [
    {
     "data": {
      "text/html": [
       "<div>\n",
       "<style scoped>\n",
       "    .dataframe tbody tr th:only-of-type {\n",
       "        vertical-align: middle;\n",
       "    }\n",
       "\n",
       "    .dataframe tbody tr th {\n",
       "        vertical-align: top;\n",
       "    }\n",
       "\n",
       "    .dataframe thead th {\n",
       "        text-align: right;\n",
       "    }\n",
       "</style>\n",
       "<table border=\"1\" class=\"dataframe\">\n",
       "  <thead>\n",
       "    <tr style=\"text-align: right;\">\n",
       "      <th></th>\n",
       "      <th>idade</th>\n",
       "      <th>linhas</th>\n",
       "      <th>temp_cli</th>\n",
       "      <th>renda</th>\n",
       "      <th>fatura</th>\n",
       "      <th>temp_rsd</th>\n",
       "      <th>local</th>\n",
       "      <th>tvcabo</th>\n",
       "      <th>debaut</th>\n",
       "      <th>cancel</th>\n",
       "      <th>Y</th>\n",
       "      <th>classe_social</th>\n",
       "      <th>idade_faixa</th>\n",
       "    </tr>\n",
       "  </thead>\n",
       "  <tbody>\n",
       "    <tr>\n",
       "      <th>0</th>\n",
       "      <td>51</td>\n",
       "      <td>4</td>\n",
       "      <td>26</td>\n",
       "      <td>5320.0</td>\n",
       "      <td>543</td>\n",
       "      <td>7.3</td>\n",
       "      <td>A</td>\n",
       "      <td>sim</td>\n",
       "      <td>nao</td>\n",
       "      <td>nao</td>\n",
       "      <td>0</td>\n",
       "      <td>C</td>\n",
       "      <td>idoso</td>\n",
       "    </tr>\n",
       "    <tr>\n",
       "      <th>1</th>\n",
       "      <td>36</td>\n",
       "      <td>2</td>\n",
       "      <td>16</td>\n",
       "      <td>5620.0</td>\n",
       "      <td>482</td>\n",
       "      <td>4.5</td>\n",
       "      <td>A</td>\n",
       "      <td>sim</td>\n",
       "      <td>nao</td>\n",
       "      <td>nao</td>\n",
       "      <td>0</td>\n",
       "      <td>C</td>\n",
       "      <td>adulto</td>\n",
       "    </tr>\n",
       "    <tr>\n",
       "      <th>2</th>\n",
       "      <td>35</td>\n",
       "      <td>1</td>\n",
       "      <td>15</td>\n",
       "      <td>4860.0</td>\n",
       "      <td>593</td>\n",
       "      <td>4.8</td>\n",
       "      <td>A</td>\n",
       "      <td>nao</td>\n",
       "      <td>nao</td>\n",
       "      <td>nao</td>\n",
       "      <td>0</td>\n",
       "      <td>C</td>\n",
       "      <td>adulto</td>\n",
       "    </tr>\n",
       "    <tr>\n",
       "      <th>3</th>\n",
       "      <td>40</td>\n",
       "      <td>1</td>\n",
       "      <td>22</td>\n",
       "      <td>6590.0</td>\n",
       "      <td>1184</td>\n",
       "      <td>6.2</td>\n",
       "      <td>C</td>\n",
       "      <td>sim</td>\n",
       "      <td>nao</td>\n",
       "      <td>nao</td>\n",
       "      <td>0</td>\n",
       "      <td>C</td>\n",
       "      <td>adulto</td>\n",
       "    </tr>\n",
       "    <tr>\n",
       "      <th>4</th>\n",
       "      <td>52</td>\n",
       "      <td>1</td>\n",
       "      <td>30</td>\n",
       "      <td>6370.0</td>\n",
       "      <td>634</td>\n",
       "      <td>2.2</td>\n",
       "      <td>A</td>\n",
       "      <td>nao</td>\n",
       "      <td>nao</td>\n",
       "      <td>nao</td>\n",
       "      <td>0</td>\n",
       "      <td>C</td>\n",
       "      <td>idoso</td>\n",
       "    </tr>\n",
       "  </tbody>\n",
       "</table>\n",
       "</div>"
      ],
      "text/plain": [
       "   idade  linhas  temp_cli   renda  fatura  temp_rsd local tvcabo debaut  \\\n",
       "0     51       4        26  5320.0     543       7.3     A    sim    nao   \n",
       "1     36       2        16  5620.0     482       4.5     A    sim    nao   \n",
       "2     35       1        15  4860.0     593       4.8     A    nao    nao   \n",
       "3     40       1        22  6590.0    1184       6.2     C    sim    nao   \n",
       "4     52       1        30  6370.0     634       2.2     A    nao    nao   \n",
       "\n",
       "  cancel  Y classe_social idade_faixa  \n",
       "0    nao  0             C       idoso  \n",
       "1    nao  0             C      adulto  \n",
       "2    nao  0             C      adulto  \n",
       "3    nao  0             C      adulto  \n",
       "4    nao  0             C       idoso  "
      ]
     },
     "execution_count": 30,
     "metadata": {},
     "output_type": "execute_result"
    }
   ],
   "source": [
    "teba.head()"
   ]
  },
  {
   "cell_type": "code",
   "execution_count": 31,
   "metadata": {},
   "outputs": [],
   "source": [
    "# from statsmodels.graphics.mosaicplot import mosaic\n",
    "# plt.figure(figsize=(12,6))\n",
    "# mosaic(teba, [\"idade_faixa\", \"classe_social\"],)"
   ]
  },
  {
   "cell_type": "code",
   "execution_count": 32,
   "metadata": {},
   "outputs": [],
   "source": [
    "# mosaic(teba, ['idade', 'classe_social'])"
   ]
  },
  {
   "cell_type": "code",
   "execution_count": 33,
   "metadata": {},
   "outputs": [
    {
     "data": {
      "text/plain": [
       "<matplotlib.figure.Figure at 0x1f53b2f7b38>"
      ]
     },
     "execution_count": 33,
     "metadata": {},
     "output_type": "execute_result"
    },
    {
     "name": "stderr",
     "output_type": "stream",
     "text": [
      "C:\\Users\\ePricing\\Anaconda3\\lib\\site-packages\\seaborn\\categorical.py:1460: FutureWarning: remove_na is deprecated and is a private function. Do not use.\n",
      "  stat_data = remove_na(group_data)\n"
     ]
    },
    {
     "data": {
      "text/plain": [
       "[<matplotlib.text.Text at 0x1f53b5be5f8>]"
      ]
     },
     "execution_count": 33,
     "metadata": {},
     "output_type": "execute_result"
    },
    {
     "data": {
      "image/png": "[encoded data removed]",
      "text/plain": [
       "<matplotlib.figure.Figure at 0x1f53b2f7b38>"
      ]
     },
     "metadata": {},
     "output_type": "display_data"
    }
   ],
   "source": [
    "plt.figure(figsize=(12,6))\n",
    "ax = sns.barplot(x=\"linhas\", data=teba, y=\"linhas\",  estimator=lambda x: len(x) / len(teba) * 100,orient=\"h\")\n",
    "ax.set(xlabel=\"Porcentagem(%)\")"
   ]
  },
  {
   "cell_type": "markdown",
   "metadata": {},
   "source": [
    "## Correlation\n",
    "\n",
    "(Vamos verificar como está a correlação entre as variáveis)"
   ]
  },
  {
   "cell_type": "code",
   "execution_count": 34,
   "metadata": {},
   "outputs": [
    {
     "data": {
      "text/html": [
       "<div>\n",
       "<style scoped>\n",
       "    .dataframe tbody tr th:only-of-type {\n",
       "        vertical-align: middle;\n",
       "    }\n",
       "\n",
       "    .dataframe tbody tr th {\n",
       "        vertical-align: top;\n",
       "    }\n",
       "\n",
       "    .dataframe thead th {\n",
       "        text-align: right;\n",
       "    }\n",
       "</style>\n",
       "<table border=\"1\" class=\"dataframe\">\n",
       "  <thead>\n",
       "    <tr style=\"text-align: right;\">\n",
       "      <th></th>\n",
       "      <th>idade</th>\n",
       "      <th>linhas</th>\n",
       "      <th>temp_cli</th>\n",
       "      <th>renda</th>\n",
       "      <th>fatura</th>\n",
       "      <th>temp_rsd</th>\n",
       "      <th>Y</th>\n",
       "    </tr>\n",
       "  </thead>\n",
       "  <tbody>\n",
       "    <tr>\n",
       "      <th>idade</th>\n",
       "      <td>1.000000</td>\n",
       "      <td>0.028147</td>\n",
       "      <td>0.540477</td>\n",
       "      <td>0.499257</td>\n",
       "      <td>0.242335</td>\n",
       "      <td>0.019522</td>\n",
       "      <td>-0.195531</td>\n",
       "    </tr>\n",
       "    <tr>\n",
       "      <th>linhas</th>\n",
       "      <td>0.028147</td>\n",
       "      <td>1.000000</td>\n",
       "      <td>-0.166182</td>\n",
       "      <td>0.210515</td>\n",
       "      <td>0.122893</td>\n",
       "      <td>-0.001804</td>\n",
       "      <td>0.124831</td>\n",
       "    </tr>\n",
       "    <tr>\n",
       "      <th>temp_cli</th>\n",
       "      <td>0.540477</td>\n",
       "      <td>-0.166182</td>\n",
       "      <td>1.000000</td>\n",
       "      <td>0.646815</td>\n",
       "      <td>0.343246</td>\n",
       "      <td>0.003268</td>\n",
       "      <td>-0.270114</td>\n",
       "    </tr>\n",
       "    <tr>\n",
       "      <th>renda</th>\n",
       "      <td>0.499257</td>\n",
       "      <td>0.210515</td>\n",
       "      <td>0.646815</td>\n",
       "      <td>1.000000</td>\n",
       "      <td>0.531427</td>\n",
       "      <td>0.008555</td>\n",
       "      <td>-0.076630</td>\n",
       "    </tr>\n",
       "    <tr>\n",
       "      <th>fatura</th>\n",
       "      <td>0.242335</td>\n",
       "      <td>0.122893</td>\n",
       "      <td>0.343246</td>\n",
       "      <td>0.531427</td>\n",
       "      <td>1.000000</td>\n",
       "      <td>0.016325</td>\n",
       "      <td>0.252565</td>\n",
       "    </tr>\n",
       "    <tr>\n",
       "      <th>temp_rsd</th>\n",
       "      <td>0.019522</td>\n",
       "      <td>-0.001804</td>\n",
       "      <td>0.003268</td>\n",
       "      <td>0.008555</td>\n",
       "      <td>0.016325</td>\n",
       "      <td>1.000000</td>\n",
       "      <td>0.022739</td>\n",
       "    </tr>\n",
       "    <tr>\n",
       "      <th>Y</th>\n",
       "      <td>-0.195531</td>\n",
       "      <td>0.124831</td>\n",
       "      <td>-0.270114</td>\n",
       "      <td>-0.076630</td>\n",
       "      <td>0.252565</td>\n",
       "      <td>0.022739</td>\n",
       "      <td>1.000000</td>\n",
       "    </tr>\n",
       "  </tbody>\n",
       "</table>\n",
       "</div>"
      ],
      "text/plain": [
       "             idade    linhas  temp_cli     renda    fatura  temp_rsd         Y\n",
       "idade     1.000000  0.028147  0.540477  0.499257  0.242335  0.019522 -0.195531\n",
       "linhas    0.028147  1.000000 -0.166182  0.210515  0.122893 -0.001804  0.124831\n",
       "temp_cli  0.540477 -0.166182  1.000000  0.646815  0.343246  0.003268 -0.270114\n",
       "renda     0.499257  0.210515  0.646815  1.000000  0.531427  0.008555 -0.076630\n",
       "fatura    0.242335  0.122893  0.343246  0.531427  1.000000  0.016325  0.252565\n",
       "temp_rsd  0.019522 -0.001804  0.003268  0.008555  0.016325  1.000000  0.022739\n",
       "Y        -0.195531  0.124831 -0.270114 -0.076630  0.252565  0.022739  1.000000"
      ]
     },
     "execution_count": 34,
     "metadata": {},
     "output_type": "execute_result"
    }
   ],
   "source": [
    "teba.corr()"
   ]
  },
  {
   "cell_type": "code",
   "execution_count": 36,
   "metadata": {},
   "outputs": [
    {
     "data": {
      "text/html": [
       "<div>\n",
       "<style scoped>\n",
       "    .dataframe tbody tr th:only-of-type {\n",
       "        vertical-align: middle;\n",
       "    }\n",
       "\n",
       "    .dataframe tbody tr th {\n",
       "        vertical-align: top;\n",
       "    }\n",
       "\n",
       "    .dataframe thead th {\n",
       "        text-align: right;\n",
       "    }\n",
       "</style>\n",
       "<table border=\"1\" class=\"dataframe\">\n",
       "  <thead>\n",
       "    <tr style=\"text-align: right;\">\n",
       "      <th></th>\n",
       "      <th>idade</th>\n",
       "      <th>linhas</th>\n",
       "      <th>temp_cli</th>\n",
       "      <th>renda</th>\n",
       "      <th>fatura</th>\n",
       "      <th>temp_rsd</th>\n",
       "      <th>local</th>\n",
       "      <th>tvcabo</th>\n",
       "      <th>debaut</th>\n",
       "      <th>cancel</th>\n",
       "      <th>...</th>\n",
       "      <th>idade_faixa</th>\n",
       "      <th>local_B</th>\n",
       "      <th>local_C</th>\n",
       "      <th>local_D</th>\n",
       "      <th>idade_faixa_idoso</th>\n",
       "      <th>idade_faixa_jovem</th>\n",
       "      <th>tvcabo_sim</th>\n",
       "      <th>debaut_sim</th>\n",
       "      <th>classe_social_B</th>\n",
       "      <th>classe_social_C</th>\n",
       "    </tr>\n",
       "  </thead>\n",
       "  <tbody>\n",
       "    <tr>\n",
       "      <th>0</th>\n",
       "      <td>51</td>\n",
       "      <td>4</td>\n",
       "      <td>26</td>\n",
       "      <td>5320.0</td>\n",
       "      <td>543</td>\n",
       "      <td>7.3</td>\n",
       "      <td>A</td>\n",
       "      <td>sim</td>\n",
       "      <td>nao</td>\n",
       "      <td>nao</td>\n",
       "      <td>...</td>\n",
       "      <td>idoso</td>\n",
       "      <td>0</td>\n",
       "      <td>0</td>\n",
       "      <td>0</td>\n",
       "      <td>1</td>\n",
       "      <td>0</td>\n",
       "      <td>1</td>\n",
       "      <td>0</td>\n",
       "      <td>0</td>\n",
       "      <td>1</td>\n",
       "    </tr>\n",
       "    <tr>\n",
       "      <th>1</th>\n",
       "      <td>36</td>\n",
       "      <td>2</td>\n",
       "      <td>16</td>\n",
       "      <td>5620.0</td>\n",
       "      <td>482</td>\n",
       "      <td>4.5</td>\n",
       "      <td>A</td>\n",
       "      <td>sim</td>\n",
       "      <td>nao</td>\n",
       "      <td>nao</td>\n",
       "      <td>...</td>\n",
       "      <td>adulto</td>\n",
       "      <td>0</td>\n",
       "      <td>0</td>\n",
       "      <td>0</td>\n",
       "      <td>0</td>\n",
       "      <td>0</td>\n",
       "      <td>1</td>\n",
       "      <td>0</td>\n",
       "      <td>0</td>\n",
       "      <td>1</td>\n",
       "    </tr>\n",
       "    <tr>\n",
       "      <th>2</th>\n",
       "      <td>35</td>\n",
       "      <td>1</td>\n",
       "      <td>15</td>\n",
       "      <td>4860.0</td>\n",
       "      <td>593</td>\n",
       "      <td>4.8</td>\n",
       "      <td>A</td>\n",
       "      <td>nao</td>\n",
       "      <td>nao</td>\n",
       "      <td>nao</td>\n",
       "      <td>...</td>\n",
       "      <td>adulto</td>\n",
       "      <td>0</td>\n",
       "      <td>0</td>\n",
       "      <td>0</td>\n",
       "      <td>0</td>\n",
       "      <td>0</td>\n",
       "      <td>0</td>\n",
       "      <td>0</td>\n",
       "      <td>0</td>\n",
       "      <td>1</td>\n",
       "    </tr>\n",
       "    <tr>\n",
       "      <th>3</th>\n",
       "      <td>40</td>\n",
       "      <td>1</td>\n",
       "      <td>22</td>\n",
       "      <td>6590.0</td>\n",
       "      <td>1184</td>\n",
       "      <td>6.2</td>\n",
       "      <td>C</td>\n",
       "      <td>sim</td>\n",
       "      <td>nao</td>\n",
       "      <td>nao</td>\n",
       "      <td>...</td>\n",
       "      <td>adulto</td>\n",
       "      <td>0</td>\n",
       "      <td>1</td>\n",
       "      <td>0</td>\n",
       "      <td>0</td>\n",
       "      <td>0</td>\n",
       "      <td>1</td>\n",
       "      <td>0</td>\n",
       "      <td>0</td>\n",
       "      <td>1</td>\n",
       "    </tr>\n",
       "    <tr>\n",
       "      <th>4</th>\n",
       "      <td>52</td>\n",
       "      <td>1</td>\n",
       "      <td>30</td>\n",
       "      <td>6370.0</td>\n",
       "      <td>634</td>\n",
       "      <td>2.2</td>\n",
       "      <td>A</td>\n",
       "      <td>nao</td>\n",
       "      <td>nao</td>\n",
       "      <td>nao</td>\n",
       "      <td>...</td>\n",
       "      <td>idoso</td>\n",
       "      <td>0</td>\n",
       "      <td>0</td>\n",
       "      <td>0</td>\n",
       "      <td>1</td>\n",
       "      <td>0</td>\n",
       "      <td>0</td>\n",
       "      <td>0</td>\n",
       "      <td>0</td>\n",
       "      <td>1</td>\n",
       "    </tr>\n",
       "  </tbody>\n",
       "</table>\n",
       "<p>5 rows × 22 columns</p>\n",
       "</div>"
      ],
      "text/plain": [
       "   idade  linhas  temp_cli   renda  fatura  temp_rsd local tvcabo debaut  \\\n",
       "0     51       4        26  5320.0     543       7.3     A    sim    nao   \n",
       "1     36       2        16  5620.0     482       4.5     A    sim    nao   \n",
       "2     35       1        15  4860.0     593       4.8     A    nao    nao   \n",
       "3     40       1        22  6590.0    1184       6.2     C    sim    nao   \n",
       "4     52       1        30  6370.0     634       2.2     A    nao    nao   \n",
       "\n",
       "  cancel       ...         idade_faixa local_B local_C  local_D  \\\n",
       "0    nao       ...               idoso       0       0        0   \n",
       "1    nao       ...              adulto       0       0        0   \n",
       "2    nao       ...              adulto       0       0        0   \n",
       "3    nao       ...              adulto       0       1        0   \n",
       "4    nao       ...               idoso       0       0        0   \n",
       "\n",
       "   idade_faixa_idoso  idade_faixa_jovem  tvcabo_sim  debaut_sim  \\\n",
       "0                  1                  0           1           0   \n",
       "1                  0                  0           1           0   \n",
       "2                  0                  0           0           0   \n",
       "3                  0                  0           1           0   \n",
       "4                  1                  0           0           0   \n",
       "\n",
       "   classe_social_B  classe_social_C  \n",
       "0                0                1  \n",
       "1                0                1  \n",
       "2                0                1  \n",
       "3                0                1  \n",
       "4                0                1  \n",
       "\n",
       "[5 rows x 22 columns]"
      ]
     },
     "execution_count": 36,
     "metadata": {},
     "output_type": "execute_result"
    }
   ],
   "source": [
    "dummy = pd.get_dummies(teba[\"local\"], prefix=\"local\", drop_first=True)\n",
    "teba = pd.concat([teba, \n",
    "            dummy, \n",
    "            pd.get_dummies(teba[\"idade_faixa\"], prefix=\"idade_faixa\", drop_first=True),\n",
    "            pd.get_dummies(teba[\"tvcabo\"], prefix=\"tvcabo\", drop_first=True),\n",
    "            pd.get_dummies(teba[\"debaut\"], prefix=\"debaut\", drop_first=True),\n",
    "            pd.get_dummies(teba[\"classe_social\"], prefix=\"classe_social\", drop_first=True)     ], axis=1)\n",
    "teba.head()"
   ]
  },
  {
   "cell_type": "markdown",
   "metadata": {},
   "source": [
    "## Machine Learning\n",
    "\n",
    "(Agora iremos comecar a montar, treinar e testar os algoritmos de aprendizado de maquina)\n",
    "\n",
    "### Decision Tree\n",
    "\n",
    "(O primeiro algoritmo a ser implementado sera uma arvore de decisao )"
   ]
  },
  {
   "cell_type": "code",
   "execution_count": 37,
   "metadata": {},
   "outputs": [],
   "source": [
    "from sklearn import tree\n",
    "from sklearn.model_selection import train_test_split\n",
    "from sklearn import metrics"
   ]
  },
  {
   "cell_type": "code",
   "execution_count": 38,
   "metadata": {},
   "outputs": [],
   "source": [
    "X = teba.drop([\"local\", \"tvcabo\", \"debaut\", \"cancel\", \"Y\", \"classe_social\", \"idade_faixa\"], axis=1)\n",
    "Y = teba[\"Y\"]\n",
    "\n",
    "X_train, X_test, Y_train, Y_test = train_test_split(X, Y, test_size=0.33, random_state=42)"
   ]
  },
  {
   "cell_type": "code",
   "execution_count": 39,
   "metadata": {},
   "outputs": [],
   "source": [
    "clf = tree.DecisionTreeClassifier()\n",
    "clf = clf.fit(X_train, Y_train)"
   ]
  },
  {
   "cell_type": "code",
   "execution_count": 40,
   "metadata": {},
   "outputs": [],
   "source": [
    "predict = clf.predict(X_test)"
   ]
  },
  {
   "cell_type": "code",
   "execution_count": 41,
   "metadata": {},
   "outputs": [
    {
     "name": "stdout",
     "output_type": "stream",
     "text": [
      "Accuracy: 0.745454545455\n",
      "Precision: 0.510067114094\n",
      "Recall: 0.444444444444\n",
      "F1: 0.475\n",
      "ROC: 0.647580095433\n"
     ]
    }
   ],
   "source": [
    "print(\"Accuracy: \"+ str(metrics.accuracy_score(Y_test, predict)))\n",
    "print(\"Precision: \" + str(metrics.precision_score(Y_test, predict)))\n",
    "print(\"Recall: \" + str(metrics.recall_score(Y_test, predict)))\n",
    "print(\"F1: \" + str(metrics.f1_score(Y_test, predict)))\n",
    "print(\"ROC: \" + str(metrics.roc_auc_score(Y_test, predict)))\n"
   ]
  },
  {
   "cell_type": "code",
   "execution_count": 42,
   "metadata": {},
   "outputs": [],
   "source": [
    "# Compute ROC curve and ROC area for each class\n",
    "n_classes =  Y.shape[0]\n",
    "fpr = dict()\n",
    "tpr = dict()\n",
    "roc_auc = dict()\n",
    "\n",
    "for i in range(n_classes):\n",
    "    fpr[i], tpr[i], t = metrics.roc_curve(Y_test, predict)\n",
    "    roc_auc[i] = metrics.auc(fpr[i], tpr[i])\n",
    "\n",
    "# Compute micro-average ROC curve and ROC area\n",
    "fpr[\"micro\"], tpr[\"micro\"], _ = metrics.roc_curve(Y_test.ravel(), predict.ravel())\n",
    "roc_auc[\"micro\"] = metrics.auc(fpr[\"micro\"], tpr[\"micro\"])\n"
   ]
  },
  {
   "cell_type": "code",
   "execution_count": null,
   "metadata": {},
   "outputs": [],
   "source": []
  },
  {
   "cell_type": "code",
   "execution_count": null,
   "metadata": {},
   "outputs": [],
   "source": []
  },
  {
   "cell_type": "code",
   "execution_count": null,
   "metadata": {},
   "outputs": [],
   "source": []
  },
  {
   "cell_type": "code",
   "execution_count": null,
   "metadata": {},
   "outputs": [],
   "source": []
  }
 ],
 "metadata": {
  "kernelspec": {
   "display_name": "Python 3",
   "language": "python",
   "name": "python3"
  },
  "language_info": {
   "codemirror_mode": {
    "name": "ipython",
    "version": 3
   },
   "file_extension": ".py",
   "mimetype": "text/x-python",
   "name": "python",
   "nbconvert_exporter": "python",
   "pygments_lexer": "ipython3",
   "version": "3.6.4"
  }
 },
 "nbformat": 4,
 "nbformat_minor": 2
}
