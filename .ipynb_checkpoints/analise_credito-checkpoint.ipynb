{
 "cells": [
  {
   "cell_type": "code",
   "execution_count": 1,
   "metadata": {},
   "outputs": [],
   "source": [
    "import pandas as pd\n",
    "import numpy as np\n",
    "import matplotlib.pyplot as plt\n",
    "import seaborn as sns\n",
    "\n",
    "%matplotlib inline\n",
    "from IPython.core.interactiveshell import InteractiveShell\n",
    "InteractiveShell.ast_node_interactivity = \"all\"\n",
    "plt.style.use('ggplot')"
   ]
  },
  {
   "cell_type": "code",
   "execution_count": 2,
   "metadata": {},
   "outputs": [],
   "source": [
    "df = pd.read_excel(\"credito.xlsx\")"
   ]
  },
  {
   "cell_type": "code",
   "execution_count": 3,
   "metadata": {},
   "outputs": [
    {
     "name": "stdout",
     "output_type": "stream",
     "text": [
      "<class 'pandas.core.frame.DataFrame'>\n",
      "RangeIndex: 25000 entries, 0 to 24999\n",
      "Data columns (total 10 columns):\n",
      "IDENTIDADE      25000 non-null int64\n",
      "ALVO            25000 non-null int64\n",
      "STATUS          25000 non-null object\n",
      "UF              25000 non-null object\n",
      "SEXO            25000 non-null object\n",
      "ESCOLARIDADE    25000 non-null object\n",
      "ESTCIV          25000 non-null object\n",
      "RENDA           25000 non-null int64\n",
      "NATUREZA        25000 non-null object\n",
      "NATURAL         25000 non-null object\n",
      "dtypes: int64(3), object(7)\n",
      "memory usage: 1.9+ MB\n"
     ]
    }
   ],
   "source": [
    "df.info()"
   ]
  },
  {
   "cell_type": "code",
   "execution_count": 4,
   "metadata": {},
   "outputs": [
    {
     "data": {
      "text/html": [
       "<div>\n",
       "<style scoped>\n",
       "    .dataframe tbody tr th:only-of-type {\n",
       "        vertical-align: middle;\n",
       "    }\n",
       "\n",
       "    .dataframe tbody tr th {\n",
       "        vertical-align: top;\n",
       "    }\n",
       "\n",
       "    .dataframe thead th {\n",
       "        text-align: right;\n",
       "    }\n",
       "</style>\n",
       "<table border=\"1\" class=\"dataframe\">\n",
       "  <thead>\n",
       "    <tr style=\"text-align: right;\">\n",
       "      <th></th>\n",
       "      <th>IDENTIDADE</th>\n",
       "      <th>ALVO</th>\n",
       "      <th>STATUS</th>\n",
       "      <th>UF</th>\n",
       "      <th>SEXO</th>\n",
       "      <th>ESCOLARIDADE</th>\n",
       "      <th>ESTCIV</th>\n",
       "      <th>RENDA</th>\n",
       "      <th>NATUREZA</th>\n",
       "      <th>NATURAL</th>\n",
       "    </tr>\n",
       "  </thead>\n",
       "  <tbody>\n",
       "    <tr>\n",
       "      <th>0</th>\n",
       "      <td>1001</td>\n",
       "      <td>0</td>\n",
       "      <td>inad</td>\n",
       "      <td>SP</td>\n",
       "      <td>F</td>\n",
       "      <td>secundario</td>\n",
       "      <td>solt</td>\n",
       "      <td>3886</td>\n",
       "      <td>outros</td>\n",
       "      <td>C</td>\n",
       "    </tr>\n",
       "    <tr>\n",
       "      <th>1</th>\n",
       "      <td>1002</td>\n",
       "      <td>1</td>\n",
       "      <td>admpl</td>\n",
       "      <td>MG</td>\n",
       "      <td>M</td>\n",
       "      <td>secundario</td>\n",
       "      <td>casado</td>\n",
       "      <td>3870</td>\n",
       "      <td>vivederenda</td>\n",
       "      <td>C</td>\n",
       "    </tr>\n",
       "    <tr>\n",
       "      <th>2</th>\n",
       "      <td>1003</td>\n",
       "      <td>1</td>\n",
       "      <td>admpl</td>\n",
       "      <td>SP</td>\n",
       "      <td>F</td>\n",
       "      <td>superior</td>\n",
       "      <td>solt</td>\n",
       "      <td>2010</td>\n",
       "      <td>empregado</td>\n",
       "      <td>F</td>\n",
       "    </tr>\n",
       "    <tr>\n",
       "      <th>3</th>\n",
       "      <td>1004</td>\n",
       "      <td>1</td>\n",
       "      <td>admpl</td>\n",
       "      <td>SP</td>\n",
       "      <td>F</td>\n",
       "      <td>posgrad</td>\n",
       "      <td>solt</td>\n",
       "      <td>2441</td>\n",
       "      <td>func_publico</td>\n",
       "      <td>B</td>\n",
       "    </tr>\n",
       "    <tr>\n",
       "      <th>4</th>\n",
       "      <td>1005</td>\n",
       "      <td>0</td>\n",
       "      <td>inad</td>\n",
       "      <td>SP</td>\n",
       "      <td>F</td>\n",
       "      <td>primario</td>\n",
       "      <td>divorciado</td>\n",
       "      <td>1139</td>\n",
       "      <td>func_publico</td>\n",
       "      <td>A</td>\n",
       "    </tr>\n",
       "  </tbody>\n",
       "</table>\n",
       "</div>"
      ],
      "text/plain": [
       "   IDENTIDADE  ALVO STATUS  UF SEXO ESCOLARIDADE      ESTCIV  RENDA  \\\n",
       "0        1001     0   inad  SP    F   secundario        solt   3886   \n",
       "1        1002     1  admpl  MG    M   secundario      casado   3870   \n",
       "2        1003     1  admpl  SP    F     superior        solt   2010   \n",
       "3        1004     1  admpl  SP    F      posgrad        solt   2441   \n",
       "4        1005     0   inad  SP    F     primario  divorciado   1139   \n",
       "\n",
       "       NATUREZA NATURAL   \n",
       "0        outros        C  \n",
       "1   vivederenda        C  \n",
       "2     empregado        F  \n",
       "3  func_publico        B  \n",
       "4  func_publico        A  "
      ]
     },
     "execution_count": 4,
     "metadata": {},
     "output_type": "execute_result"
    }
   ],
   "source": [
    "df.head()"
   ]
  },
  {
   "cell_type": "markdown",
   "metadata": {},
   "source": [
    "## Análise Exploratória"
   ]
  },
  {
   "cell_type": "markdown",
   "metadata": {},
   "source": [
    "### Dados ausentes\n",
    "\n",
    "Vamos olhar como a ausência de dados está distribuida na base"
   ]
  },
  {
   "cell_type": "code",
   "execution_count": 5,
   "metadata": {},
   "outputs": [
    {
     "data": {
      "text/plain": [
       "<matplotlib.figure.Figure at 0x7fd259808320>"
      ]
     },
     "execution_count": 5,
     "metadata": {},
     "output_type": "execute_result"
    },
    {
     "data": {
      "text/plain": [
       "<matplotlib.axes._subplots.AxesSubplot at 0x7fd2597fce80>"
      ]
     },
     "execution_count": 5,
     "metadata": {},
     "output_type": "execute_result"
    },
    {
     "data": {
      "image/png": "[encoded data removed]",
      "text/plain": [
       "<matplotlib.figure.Figure at 0x7fd259808320>"
      ]
     },
     "metadata": {},
     "output_type": "display_data"
    }
   ],
   "source": [
    "plt.figure(figsize=(12, 6))\n",
    "sns.heatmap(df.isnull(), yticklabels=False, cbar=False, cmap=\"viridis\")"
   ]
  },
  {
   "cell_type": "markdown",
   "metadata": {},
   "source": [
    "### Variável alvo\n"
   ]
  },
  {
   "cell_type": "code",
   "execution_count": 6,
   "metadata": {},
   "outputs": [
    {
     "data": {
      "text/plain": [
       "<matplotlib.figure.Figure at 0x7fd259808390>"
      ]
     },
     "execution_count": 6,
     "metadata": {},
     "output_type": "execute_result"
    },
    {
     "data": {
      "text/plain": [
       "<matplotlib.axes._subplots.AxesSubplot at 0x7fd2598082e8>"
      ]
     },
     "execution_count": 6,
     "metadata": {},
     "output_type": "execute_result"
    },
    {
     "data": {
      "image/png": "[encoded data removed]",
      "text/plain": [
       "<matplotlib.figure.Figure at 0x7fd259808390>"
      ]
     },
     "metadata": {},
     "output_type": "display_data"
    }
   ],
   "source": [
    "plt.figure(figsize=(12, 6))\n",
    "sns.countplot(x=\"STATUS\", data=df)"
   ]
  },
  {
   "cell_type": "markdown",
   "metadata": {},
   "source": [
    "### Variáveis \n",
    "Como não há dados ausentes, vamos verificar a distriuição de cada variável\n",
    "\n",
    "---\n",
    "<br>\n",
    "#### UF\n",
    "Este gráfico mostra a distribuição de frequências de cada estado na base de dados"
   ]
  },
  {
   "cell_type": "code",
   "execution_count": 7,
   "metadata": {},
   "outputs": [],
   "source": [
    "def plotOneVarGraph(var, target, dataframe):\n",
    "    plt.figure(figsize=(12, 6))\n",
    "    sns.countplot(x=var, data=dataframe)\n",
    "\n",
    "    plt.figure(figsize=(12, 6))\n",
    "    sns.countplot(x=var, data=dataframe, hue=target)"
   ]
  },
  {
   "cell_type": "code",
   "execution_count": 8,
   "metadata": {},
   "outputs": [
    {
     "data": {
      "text/plain": [
       "<matplotlib.figure.Figure at 0x7fd259808518>"
      ]
     },
     "execution_count": 8,
     "metadata": {},
     "output_type": "execute_result"
    },
    {
     "data": {
      "text/plain": [
       "<matplotlib.axes._subplots.AxesSubplot at 0x7fd259808da0>"
      ]
     },
     "execution_count": 8,
     "metadata": {},
     "output_type": "execute_result"
    },
    {
     "data": {
      "image/png": "[encoded data removed]",
      "text/plain": [
       "<matplotlib.figure.Figure at 0x7fd259808518>"
      ]
     },
     "metadata": {},
     "output_type": "display_data"
    }
   ],
   "source": [
    "plt.figure(figsize=(12, 6))\n",
    "sns.countplot(x=\"UF\", data=df)"
   ]
  },
  {
   "cell_type": "markdown",
   "metadata": {},
   "source": [
    "Olhando para o estado de São Paulo, temos: "
   ]
  },
  {
   "cell_type": "code",
   "execution_count": 9,
   "metadata": {},
   "outputs": [
    {
     "data": {
      "text/plain": [
       "<matplotlib.figure.Figure at 0x7fd2584bb3c8>"
      ]
     },
     "execution_count": 9,
     "metadata": {},
     "output_type": "execute_result"
    },
    {
     "data": {
      "text/plain": [
       "<matplotlib.axes._subplots.AxesSubplot at 0x7fd258592390>"
      ]
     },
     "execution_count": 9,
     "metadata": {},
     "output_type": "execute_result"
    },
    {
     "data": {
      "image/png": "[encoded data removed]",
      "text/plain": [
       "<matplotlib.figure.Figure at 0x7fd2584bb3c8>"
      ]
     },
     "metadata": {},
     "output_type": "display_data"
    }
   ],
   "source": [
    "df_SP = df[df[\"UF\"] == \"SP\"]\n",
    "plt.figure(figsize=(12, 6))\n",
    "sns.countplot(x=\"UF\", data=df_SP, hue=\"STATUS\")"
   ]
  },
  {
   "cell_type": "markdown",
   "metadata": {},
   "source": [
    "Olhando para o estadeo de Minas Gerais, temos: "
   ]
  },
  {
   "cell_type": "code",
   "execution_count": 10,
   "metadata": {},
   "outputs": [
    {
     "data": {
      "text/plain": [
       "<matplotlib.figure.Figure at 0x7fd258464e10>"
      ]
     },
     "execution_count": 10,
     "metadata": {},
     "output_type": "execute_result"
    },
    {
     "data": {
      "text/plain": [
       "<matplotlib.axes._subplots.AxesSubplot at 0x7fd25841bd30>"
      ]
     },
     "execution_count": 10,
     "metadata": {},
     "output_type": "execute_result"
    },
    {
     "data": {
      "image/png": "[encoded data removed]",
      "text/plain": [
       "<matplotlib.figure.Figure at 0x7fd258464e10>"
      ]
     },
     "metadata": {},
     "output_type": "display_data"
    }
   ],
   "source": [
    "df_MG = df[df[\"UF\"] == \"MG\"]\n",
    "plt.figure(figsize=(12, 6))\n",
    "sns.countplot(x=\"UF\", data=df_MG, hue=\"STATUS\")"
   ]
  },
  {
   "cell_type": "markdown",
   "metadata": {},
   "source": [
    "### Sexo\n",
    "O gráfico a seguir mostra a distribuição dos sexos ao longo da base. A distribuição parece estar razoavelmente equilibrada"
   ]
  },
  {
   "cell_type": "code",
   "execution_count": 11,
   "metadata": {},
   "outputs": [
    {
     "data": {
      "text/plain": [
       "<matplotlib.figure.Figure at 0x7fd25844e630>"
      ]
     },
     "execution_count": 11,
     "metadata": {},
     "output_type": "execute_result"
    },
    {
     "data": {
      "text/plain": [
       "<matplotlib.axes._subplots.AxesSubplot at 0x7fd25844e5c0>"
      ]
     },
     "execution_count": 11,
     "metadata": {},
     "output_type": "execute_result"
    },
    {
     "data": {
      "image/png": "[encoded data removed]",
      "text/plain": [
       "<matplotlib.figure.Figure at 0x7fd25844e630>"
      ]
     },
     "metadata": {},
     "output_type": "display_data"
    }
   ],
   "source": [
    "plt.figure(figsize=(12, 6))\n",
    "sns.countplot(x=\"SEXO\", data=df)"
   ]
  },
  {
   "cell_type": "markdown",
   "metadata": {},
   "source": [
    "Vamos olhar para a distribuição de sexo por status. Existe menos mulheres inadimplentes do que homens adimplentes"
   ]
  },
  {
   "cell_type": "code",
   "execution_count": 12,
   "metadata": {},
   "outputs": [
    {
     "data": {
      "text/plain": [
       "<matplotlib.figure.Figure at 0x7fd258432fd0>"
      ]
     },
     "execution_count": 12,
     "metadata": {},
     "output_type": "execute_result"
    },
    {
     "data": {
      "text/plain": [
       "<matplotlib.axes._subplots.AxesSubplot at 0x7fd2584016d8>"
      ]
     },
     "execution_count": 12,
     "metadata": {},
     "output_type": "execute_result"
    },
    {
     "data": {
      "image/png": "[encoded data removed]",
      "text/plain": [
       "<matplotlib.figure.Figure at 0x7fd258432fd0>"
      ]
     },
     "metadata": {},
     "output_type": "display_data"
    }
   ],
   "source": [
    "plt.figure(figsize=(12, 6))\n",
    "sns.countplot(x=\"SEXO\", data=df, hue=\"STATUS\")"
   ]
  },
  {
   "cell_type": "markdown",
   "metadata": {},
   "source": [
    "### Escolaridade\n",
    "Os gráficos a seguir mostram a disribuição de escolaridade ao longo da base"
   ]
  },
  {
   "cell_type": "code",
   "execution_count": 13,
   "metadata": {},
   "outputs": [
    {
     "data": {
      "text/plain": [
       "<matplotlib.figure.Figure at 0x7fd2583bae80>"
      ]
     },
     "execution_count": 13,
     "metadata": {},
     "output_type": "execute_result"
    },
    {
     "data": {
      "text/plain": [
       "<matplotlib.axes._subplots.AxesSubplot at 0x7fd2583baef0>"
      ]
     },
     "execution_count": 13,
     "metadata": {},
     "output_type": "execute_result"
    },
    {
     "data": {
      "text/plain": [
       "<matplotlib.figure.Figure at 0x7fd2583c6588>"
      ]
     },
     "execution_count": 13,
     "metadata": {},
     "output_type": "execute_result"
    },
    {
     "data": {
      "text/plain": [
       "<matplotlib.axes._subplots.AxesSubplot at 0x7fd2583c6a20>"
      ]
     },
     "execution_count": 13,
     "metadata": {},
     "output_type": "execute_result"
    },
    {
     "data": {
      "image/png": "[encoded data removed]",
      "text/plain": [
       "<matplotlib.figure.Figure at 0x7fd2583bae80>"
      ]
     },
     "metadata": {},
     "output_type": "display_data"
    },
    {
     "data": {
      "image/png": "[encoded data removed]",
      "text/plain": [
       "<matplotlib.figure.Figure at 0x7fd2583c6588>"
      ]
     },
     "metadata": {},
     "output_type": "display_data"
    }
   ],
   "source": [
    "plt.figure(figsize=(12, 6))\n",
    "sns.countplot(x=\"ESCOLARIDADE\", data=df)\n",
    "\n",
    "plt.figure(figsize=(12, 6))\n",
    "sns.countplot(x=\"ESCOLARIDADE\", data=df, hue=\"STATUS\")"
   ]
  },
  {
   "cell_type": "code",
   "execution_count": 14,
   "metadata": {},
   "outputs": [
    {
     "data": {
      "image/png": "[encoded data removed]",
      "text/plain": [
       "<matplotlib.figure.Figure at 0x7fd258351630>"
      ]
     },
     "metadata": {},
     "output_type": "display_data"
    },
    {
     "data": {
      "image/png": "[encoded data removed]",
      "text/plain": [
       "<matplotlib.figure.Figure at 0x7fd24d730a90>"
      ]
     },
     "metadata": {},
     "output_type": "display_data"
    }
   ],
   "source": [
    "plotOneVarGraph(\"ESTCIV\", \"STATUS\", df)"
   ]
  },
  {
   "cell_type": "markdown",
   "metadata": {},
   "source": [
    "### Natureza"
   ]
  },
  {
   "cell_type": "code",
   "execution_count": 15,
   "metadata": {},
   "outputs": [
    {
     "data": {
      "image/png": "[encoded data removed]",
      "text/plain": [
       "<matplotlib.figure.Figure at 0x7fd24d69c470>"
      ]
     },
     "metadata": {},
     "output_type": "display_data"
    },
    {
     "data": {
      "image/png": "[encoded data removed]",
      "text/plain": [
       "<matplotlib.figure.Figure at 0x7fd24d689160>"
      ]
     },
     "metadata": {},
     "output_type": "display_data"
    }
   ],
   "source": [
    "plotOneVarGraph(\"NATUREZA\", \"STATUS\", df)"
   ]
  },
  {
   "cell_type": "markdown",
   "metadata": {},
   "source": [
    "### Natural\n",
    "\n",
    "O significado da variável Natural é desconhecido"
   ]
  },
  {
   "cell_type": "code",
   "execution_count": 16,
   "metadata": {},
   "outputs": [
    {
     "data": {
      "image/png": "[encoded data removed]",
      "text/plain": [
       "<matplotlib.figure.Figure at 0x7fd258349be0>"
      ]
     },
     "metadata": {},
     "output_type": "display_data"
    },
    {
     "data": {
      "image/png": "[encoded data removed]",
      "text/plain": [
       "<matplotlib.figure.Figure at 0x7fd24d6b4e48>"
      ]
     },
     "metadata": {},
     "output_type": "display_data"
    }
   ],
   "source": [
    "plotOneVarGraph(\"NATURAL \", \"STATUS\", df)"
   ]
  },
  {
   "cell_type": "markdown",
   "metadata": {},
   "source": [
    "### Renda\n",
    "\n",
    "Antes de analisar a renda, vamos categorizar os registros"
   ]
  },
  {
   "cell_type": "code",
   "execution_count": 17,
   "metadata": {},
   "outputs": [],
   "source": [
    "def discretizaRenda(x):\n",
    "    if x >= 0 and x <= 1576.00:\n",
    "        return \"E\"\n",
    "    if x > 1576.00 and x <= 3152.00:\n",
    "        return \"D\"\n",
    "    if x > 3152.00 and x <= 7880.00:\n",
    "        return \"C\"\n",
    "    if x > 7880.00 and x <= 15760.00:\n",
    "        return \"B\"\n",
    "    if x > 15760.00:\n",
    "        return \"A\"\n",
    "\n",
    "classe_social = df[\"RENDA\"].apply(discretizaRenda)\n",
    "df[\"CLASSE_SOCIAL\"] = classe_social"
   ]
  },
  {
   "cell_type": "code",
   "execution_count": 18,
   "metadata": {},
   "outputs": [
    {
     "data": {
      "image/png": "[encoded data removed]",
      "text/plain": [
       "<matplotlib.figure.Figure at 0x7fd258351630>"
      ]
     },
     "metadata": {},
     "output_type": "display_data"
    },
    {
     "data": {
      "image/png": "[encoded data removed]",
      "text/plain": [
       "<matplotlib.figure.Figure at 0x7fd24d17c630>"
      ]
     },
     "metadata": {},
     "output_type": "display_data"
    }
   ],
   "source": [
    "plotOneVarGraph(\"CLASSE_SOCIAL\", \"STATUS\", df)"
   ]
  },
  {
   "cell_type": "markdown",
   "metadata": {},
   "source": [
    "Como é possível observar, a classe A é a que possui maior proporção de inadimplência"
   ]
  },
  {
   "cell_type": "markdown",
   "metadata": {},
   "source": [
    "## Pré-processamento\n",
    "\n",
    "0: Inadimplente\n",
    "1: Adimplente"
   ]
  },
  {
   "cell_type": "code",
   "execution_count": 19,
   "metadata": {},
   "outputs": [],
   "source": [
    "df.drop(labels=[\"IDENTIDADE\", \"STATUS\", \"RENDA\", \"NATURAL \"], inplace=True, axis=1)\n"
   ]
  },
  {
   "cell_type": "code",
   "execution_count": 20,
   "metadata": {},
   "outputs": [
    {
     "name": "stdout",
     "output_type": "stream",
     "text": [
      "<class 'pandas.core.frame.DataFrame'>\n",
      "RangeIndex: 25000 entries, 0 to 24999\n",
      "Data columns (total 7 columns):\n",
      "ALVO             25000 non-null int64\n",
      "UF               25000 non-null object\n",
      "SEXO             25000 non-null object\n",
      "ESCOLARIDADE     25000 non-null object\n",
      "ESTCIV           25000 non-null object\n",
      "NATUREZA         25000 non-null object\n",
      "CLASSE_SOCIAL    25000 non-null object\n",
      "dtypes: int64(1), object(6)\n",
      "memory usage: 1.3+ MB\n"
     ]
    }
   ],
   "source": [
    "df.info()"
   ]
  },
  {
   "cell_type": "code",
   "execution_count": 21,
   "metadata": {},
   "outputs": [],
   "source": [
    "uf_dummy = pd.get_dummies(df[\"UF\"], 'uf')\n",
    "sexo_dummy = pd.get_dummies(df[\"SEXO\"], 'sexo')\n",
    "escolaridade_dummy = pd.get_dummies(df[\"ESCOLARIDADE\"], 'escol')\n",
    "estadoCivil_dummy = pd.get_dummies(df[\"ESTCIV\"], 'estCivil')\n",
    "natureza_dummy = pd.get_dummies(df[\"NATUREZA\"], 'nat')\n",
    "classeSocial_dummy = pd.get_dummies(df[\"CLASSE_SOCIAL\"], 'classeSocial')\n",
    "alvo_dummy = pd.get_dummies(df[\"ALVO\"], 'target')"
   ]
  },
  {
   "cell_type": "code",
   "execution_count": 22,
   "metadata": {},
   "outputs": [],
   "source": [
    "final_df = pd.concat([uf_dummy,\n",
    "                      sexo_dummy,\n",
    "                      escolaridade_dummy,\n",
    "                      estadoCivil_dummy,\n",
    "                      natureza_dummy,\n",
    "                      classeSocial_dummy,\n",
    "                     alvo_dummy], axis=1)"
   ]
  },
  {
   "cell_type": "code",
   "execution_count": 25,
   "metadata": {},
   "outputs": [
    {
     "data": {
      "text/plain": [
       "Index(['uf_BA', 'uf_GO', 'uf_MG', 'uf_MS', 'uf_MT', 'uf_PA', 'uf_PE', 'uf_PR',\n",
       "       'uf_RJ', 'uf_RS', 'uf_SE', 'uf_SP', 'sexo_F', 'sexo_M', 'escol_posgrad',\n",
       "       'escol_primario', 'escol_secundario', 'escol_superior',\n",
       "       'estCivil_casado', 'estCivil_divorciado', 'estCivil_outros',\n",
       "       'estCivil_solt', 'estCivil_viuvo', 'nat_aposentado', 'nat_autonomo',\n",
       "       'nat_empregado', 'nat_empresario', 'nat_func_publico', 'nat_outros',\n",
       "       'nat_prof_liberal', 'nat_vivederenda', 'classeSocial_A',\n",
       "       'classeSocial_B', 'classeSocial_C', 'classeSocial_D', 'classeSocial_E',\n",
       "       'target_0', 'target_1'],\n",
       "      dtype='object')"
      ]
     },
     "execution_count": 25,
     "metadata": {},
     "output_type": "execute_result"
    }
   ],
   "source": [
    "final_df.columns"
   ]
  },
  {
   "cell_type": "markdown",
   "metadata": {},
   "source": [
    "## Treinamento"
   ]
  },
  {
   "cell_type": "code",
   "execution_count": 23,
   "metadata": {},
   "outputs": [
    {
     "name": "stderr",
     "output_type": "stream",
     "text": [
      "/home/victor/anaconda3/lib/python3.6/site-packages/sklearn/cross_validation.py:41: DeprecationWarning: This module was deprecated in version 0.18 in favor of the model_selection module into which all the refactored classes and functions are moved. Also note that the interface of the new CV iterators are different from that of this module. This module will be removed in 0.20.\n",
      "  \"This module will be removed in 0.20.\", DeprecationWarning)\n"
     ]
    }
   ],
   "source": [
    "from sklearn.cross_validation import train_test_split\n",
    "from sklearn.tree import DecisionTreeClassifier\n",
    "from sklearn.metrics import accuracy_score, roc_auc_score, roc_curve, auc, confusion_matrix\n",
    "\n",
    "from sklearn.model_selection import cross_val_score\n",
    "from sklearn.model_selection import StratifiedKFold"
   ]
  },
  {
   "cell_type": "code",
   "execution_count": 89,
   "metadata": {},
   "outputs": [
    {
     "name": "stderr",
     "output_type": "stream",
     "text": [
      "/home/victor/anaconda3/lib/python3.6/site-packages/ipykernel_launcher.py:3: SettingWithCopyWarning: \n",
      "A value is trying to be set on a copy of a slice from a DataFrame\n",
      "\n",
      "See the caveats in the documentation: http://pandas.pydata.org/pandas-docs/stable/indexing.html#indexing-view-versus-copy\n",
      "  This is separate from the ipykernel package so we can avoid doing imports until\n",
      "/home/victor/anaconda3/lib/python3.6/site-packages/ipykernel_launcher.py:7: SettingWithCopyWarning: \n",
      "A value is trying to be set on a copy of a slice from a DataFrame\n",
      "\n",
      "See the caveats in the documentation: http://pandas.pydata.org/pandas-docs/stable/indexing.html#indexing-view-versus-copy\n",
      "  import sys\n"
     ]
    }
   ],
   "source": [
    "X_DEFAULT = pd.DataFrame()\n",
    "X_DEFAULT = final_df[final_df[\"target_0\"] == 1]\n",
    "X_DEFAULT.drop(inplace=True, axis=1, labels=\"target_1\")\n",
    "\n",
    "X_NOT_DEFAULT = pd.DataFrame()\n",
    "X_NOT_DEFAULT = final_df[final_df[\"target_0\"] == 0]\n",
    "X_NOT_DEFAULT.drop(inplace=True, axis=1, labels=\"target_1\")\n",
    "\n",
    "minTam = min(len(X_DEFAULT), len(X_NOT_DEFAULT))\n",
    "targetName = \"target_0\""
   ]
  },
  {
   "cell_type": "code",
   "execution_count": null,
   "metadata": {
    "scrolled": true
   },
   "outputs": [],
   "source": []
  },
  {
   "cell_type": "code",
   "execution_count": 92,
   "metadata": {},
   "outputs": [],
   "source": [
    "def val_score(clf, X_TARGET, X_NOT_TARGET, tam, nr = 1):\n",
    "    \n",
    "    times_run = nr\n",
    "    \n",
    "    # List of models with number of times to run the algorithm\n",
    "    fit_gini = [None] * times_run\n",
    "    acc = [None] * times_run\n",
    "    confusion = [None] * times_run\n",
    "\n",
    "    for col in range(len(fit_gini)):\n",
    "        \n",
    "        # Samples the dataframe with the target occurrencies \n",
    "        X_TARGET = X_TARGET.sample(n=tam, replace=False)\n",
    "        \n",
    "        # Split into train and test\n",
    "        X_TARGET_TRAIN = X_TARGET[0:int((tam*2)/3)]\n",
    "        X_TARGET_TEST = X_TARGET[int((tam*2)/3):]\n",
    "\n",
    "        X_NOT_TARGET = X_NOT_TARGET.sample(n=tam, replace=False)\n",
    "        X_NOT_TARGET_TRAIN = X_NOT_TARGET[0:int((tam*2)/3)]\n",
    "        X_NOT_TARGET_TEST = X_NOT_TARGET[int((tam*2)/3):]\n",
    "        \n",
    "        # Concatanate the both dataframe created\n",
    "        X_TRAIN = pd.concat([X_TARGET_TRAIN,X_NOT_TARGET_TRAIN])\n",
    "        \n",
    "        # Sample it again\n",
    "        X_TRAIN = X_TRAIN.sample(n=len(X_TRAIN), replace=False)\n",
    "        X_DATA_TRAIN = X_TRAIN.drop(targetName, axis=1)\n",
    "        Y_DATA_TRAIN = X_TRAIN[targetName]\n",
    "\n",
    "        X_TEST = pd.concat([X_TARGET_TEST,X_NOT_TARGET_TEST])\n",
    "        X_TEST = X_TEST.sample(n=len(X_TEST), replace=False)\n",
    "        \n",
    "        X_DATA_TEST = X_TEST.drop(targetName, axis=1)\n",
    "        Y_DATA_TEST = X_TEST[targetName]\n",
    "\n",
    "        fit_gini[col] = clf.fit(X_DATA_TRAIN, Y_DATA_TRAIN)\n",
    "\n",
    "        Y_PREDICT = fit_gini[col].predict(X_DATA_TEST)\n",
    "        acc[col] = accuracy_score(Y_DATA_TEST, Y_PREDICT)\n",
    "        #fpr, tpr, th = roc_curve(Y_DATA_TEST, Y_PREDICT)\n",
    "\n",
    "        #fpr\n",
    "        #tpr\n",
    "        #th\n",
    "\n",
    "        #roc_auc = auc(fpr, tpr)\n",
    "\n",
    "        # method I: plt\n",
    "        #import matplotlib.pyplot as plt\n",
    "        #plt.title('Curva Roc')\n",
    "        #plt.plot(fpr, tpr, 'b', label = 'AUC = %0.2f' % roc_auc)\n",
    "        #plt.legend(loc = 'lower right')\n",
    "        #plt.plot([0, 1], [0, 1],'r--')\n",
    "        #plt.xlim([0, 1])\n",
    "        #plt.ylim([0, 1])\n",
    "        #plt.ylabel('True Positive Rate')\n",
    "        #plt.xlabel('False Positive Rate')\n",
    "        #plt.show()\n",
    "\n",
    "        confusion[col] = confusion_matrix(Y_DATA_TEST, Y_PREDICT)\n",
    "    \n",
    "    return acc, confusion, fit_gini"
   ]
  },
  {
   "cell_type": "markdown",
   "metadata": {},
   "source": [
    "## Modelos\n",
    "A seguir alguns algoritmos serão executados a fim de esoclher qual o melhor modelo a ser usado para classificar os dados"
   ]
  },
  {
   "cell_type": "markdown",
   "metadata": {},
   "source": [
    "---\n",
    "\n",
    "## Árvore de Decisão"
   ]
  },
  {
   "cell_type": "code",
   "execution_count": 93,
   "metadata": {},
   "outputs": [
    {
     "data": {
      "text/plain": [
       "[0.6696389734667246,\n",
       " 0.6665941713788603,\n",
       " 0.6729012614180079,\n",
       " 0.6720313179643324,\n",
       " 0.6774684645498043,\n",
       " 0.6739886907351023,\n",
       " 0.6626794258373205,\n",
       " 0.662026968247064,\n",
       " 0.6674641148325359,\n",
       " 0.6642018268812527]"
      ]
     },
     "execution_count": 93,
     "metadata": {},
     "output_type": "execute_result"
    }
   ],
   "source": [
    "alt = 5\n",
    "\n",
    "clf_gini = DecisionTreeClassifier(criterion = \"gini\", \n",
    "                                  random_state = 100,\n",
    "                                  max_depth=alt, \n",
    "                                  min_samples_leaf=3,\n",
    "                                  min_samples_split=2,\n",
    "                                 )\n",
    "\n",
    "acc, confusion, treeModels = val_score(clf_gini,\n",
    "                                       X_DEFAULT[0:int(0.9*minTam)], \n",
    "                                       X_NOT_DEFAULT[0:int(0.9*minTam)],\n",
    "                                       int(0.9*minTam),\n",
    "                                       10\n",
    "                                      )\n",
    "\n",
    "\n",
    "acc"
   ]
  },
  {
   "cell_type": "markdown",
   "metadata": {},
   "source": [
    "## SVM"
   ]
  },
  {
   "cell_type": "code",
   "execution_count": 96,
   "metadata": {},
   "outputs": [],
   "source": [
    "from sklearn import svm\n",
    "\n",
    "clf_svm = svm.SVC(kernel='rbf')\n",
    "#scores = cross_val_score(clf_svm, X, Y, cv=10)\n",
    "\n",
    "acc, confusion, svmModels = val_score(clf_svm, X_DEFAULT, X_NOT_DEFAULT, int(0.9*minTam), 10)"
   ]
  },
  {
   "cell_type": "code",
   "execution_count": 97,
   "metadata": {},
   "outputs": [
    {
     "data": {
      "text/plain": [
       "[0.7081339712918661,\n",
       " 0.7094388864723793,\n",
       " 0.6931274467159635,\n",
       " 0.7003044802087864,\n",
       " 0.7085689430187038,\n",
       " 0.6994345367551109,\n",
       " 0.6998695084819486,\n",
       " 0.6983471074380165,\n",
       " 0.701174423662462,\n",
       " 0.6992170508916921]"
      ]
     },
     "execution_count": 97,
     "metadata": {},
     "output_type": "execute_result"
    }
   ],
   "source": [
    "acc"
   ]
  },
  {
   "cell_type": "markdown",
   "metadata": {},
   "source": [
    "## Bayes"
   ]
  },
  {
   "cell_type": "code",
   "execution_count": 106,
   "metadata": {},
   "outputs": [
    {
     "data": {
      "text/plain": [
       "[0.645933014354067,\n",
       " 0.640495867768595,\n",
       " 0.6500652457590257,\n",
       " 0.6487603305785123,\n",
       " 0.6020008699434537,\n",
       " 0.6457155284906481,\n",
       " 0.6150500217485864,\n",
       " 0.6622444541104828,\n",
       " 0.6624619399739017,\n",
       " 0.6400608960417573]"
      ]
     },
     "execution_count": 106,
     "metadata": {},
     "output_type": "execute_result"
    }
   ],
   "source": [
    "from sklearn.naive_bayes import BernoulliNB, GaussianNB\n",
    "\n",
    "clf_guassian = GaussianNB()\n",
    "\n",
    "acc, confusion, bayesModels = val_score(clf_guassian,\n",
    "                                        X_DEFAULT,\n",
    "                                        X_NOT_DEFAULT,\n",
    "                                        int(0.9*minTam), \n",
    "                                        10)\n",
    "acc"
   ]
  },
  {
   "cell_type": "markdown",
   "metadata": {},
   "source": [
    "## Gradient Boosting"
   ]
  },
  {
   "cell_type": "code",
   "execution_count": 108,
   "metadata": {},
   "outputs": [
    {
     "data": {
      "text/plain": [
       "[0.7076989995650282,\n",
       " 0.7081339712918661,\n",
       " 0.7140060896041758,\n",
       " 0.7087864288821226,\n",
       " 0.7181383210091344,\n",
       " 0.7107438016528925,\n",
       " 0.7074815137016094,\n",
       " 0.6948673336233144,\n",
       " 0.7057416267942583,\n",
       " 0.7120487168334059]"
      ]
     },
     "execution_count": 108,
     "metadata": {},
     "output_type": "execute_result"
    }
   ],
   "source": [
    "from sklearn.ensemble import GradientBoostingClassifier\n",
    "\n",
    "clf_gradient = GradientBoostingClassifier(n_estimators=100, learning_rate=1.0, \n",
    "                                 max_depth=1, random_state=100)\n",
    "\n",
    "acc, confusion, gradientBoostingModels = val_score(clf_gradient,\n",
    "                                                    X_DEFAULT,\n",
    "                                                    X_NOT_DEFAULT,\n",
    "                                                    int(0.9*minTam), \n",
    "                                                    10)\n",
    "acc"
   ]
  },
  {
   "cell_type": "code",
   "execution_count": 109,
   "metadata": {},
   "outputs": [
    {
     "data": {
      "text/plain": [
       "[0.6839930404523706,\n",
       " 0.6724662896911701,\n",
       " 0.6818181818181818,\n",
       " 0.7033492822966507,\n",
       " 0.6872553284036538,\n",
       " 0.6844280121792083,\n",
       " 0.6837755545889517,\n",
       " 0.6831230969986951,\n",
       " 0.6818181818181818,\n",
       " 0.6842105263157895]"
      ]
     },
     "execution_count": 109,
     "metadata": {},
     "output_type": "execute_result"
    }
   ],
   "source": [
    "from sklearn.ensemble import RandomForestClassifier\n",
    "\n",
    "clf_rand_forest = RandomForestClassifier(max_depth=2, random_state=100)\n",
    "acc, confusion, randomForestModels = val_score(clf_rand_forest,\n",
    "                                                X_DEFAULT,\n",
    "                                                X_NOT_DEFAULT,\n",
    "                                                int(0.9*minTam), \n",
    "                                                10)\n",
    "acc"
   ]
  },
  {
   "cell_type": "code",
   "execution_count": 110,
   "metadata": {},
   "outputs": [
    {
     "data": {
      "text/plain": [
       "[0.7170508916920401,\n",
       " 0.7129186602870813,\n",
       " 0.7066115702479339,\n",
       " 0.7022618529795563,\n",
       " 0.7000869943453676,\n",
       " 0.7083514571552849,\n",
       " 0.7074815137016094,\n",
       " 0.7042192257503262,\n",
       " 0.7161809482383645,\n",
       " 0.7092214006089604]"
      ]
     },
     "execution_count": 110,
     "metadata": {},
     "output_type": "execute_result"
    }
   ],
   "source": [
    "from sklearn.neural_network import MLPClassifier\n",
    "\n",
    "clf_mlp = MLPClassifier()\n",
    "acc, confusion, mlptModels = val_score(clf_mlp,\n",
    "                                        X_DEFAULT,\n",
    "                                        X_NOT_DEFAULT,\n",
    "                                        int(0.9*minTam), \n",
    "                                        10)\n",
    "acc"
   ]
  },
  {
   "cell_type": "markdown",
   "metadata": {},
   "source": [
    "---\n",
    "\n",
    "Para este _dataset_ o MultiLayer Perceptron e o Gradient Boosting se mostraram bons classificadores\n",
    "\n",
    "---"
   ]
  },
  {
   "cell_type": "code",
   "execution_count": null,
   "metadata": {},
   "outputs": [],
   "source": []
  }
 ],
 "metadata": {
  "kernelspec": {
   "display_name": "Python 3",
   "language": "python",
   "name": "python3"
  },
  "language_info": {
   "codemirror_mode": {
    "name": "ipython",
    "version": 3
   },
   "file_extension": ".py",
   "mimetype": "text/x-python",
   "name": "python",
   "nbconvert_exporter": "python",
   "pygments_lexer": "ipython3",
   "version": "3.6.4"
  }
 },
 "nbformat": 4,
 "nbformat_minor": 2
}
