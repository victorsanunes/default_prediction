{
 "cells": [
  {
   "cell_type": "code",
   "execution_count": 1,
   "metadata": {},
   "outputs": [],
   "source": [
    "import pandas as pd\n",
    "import numpy as np\n",
    "import matplotlib.pyplot as plt\n",
    "import math\n",
    "# import seaborn as sns\n",
    "\n",
    "%matplotlib inline\n",
    "from IPython.core.interactiveshell import InteractiveShell\n",
    "InteractiveShell.ast_node_interactivity = \"all\"\n",
    "plt.style.use('ggplot')"
   ]
  },
  {
   "cell_type": "code",
   "execution_count": 2,
   "metadata": {},
   "outputs": [],
   "source": [
    "df = pd.read_excel(\"base_praca_de_pagamento.xlsx\")"
   ]
  },
  {
   "cell_type": "markdown",
   "metadata": {},
   "source": [
    "## Informações sensíveis\n",
    "Retirar informações sensíveis dos clientes para sigilo dos dados. Todos os dados serao convertidos para numericos"
   ]
  },
  {
   "cell_type": "code",
   "execution_count": 3,
   "metadata": {},
   "outputs": [
    {
     "data": {
      "text/plain": [
       "['Nao Praca (Dados ausente)',\n",
       " 'Praca Fraca',\n",
       " 'Nao Praca',\n",
       " 'Praca Forte (Dados ausente) ',\n",
       " 'Praca Forte']"
      ]
     },
     "execution_count": 3,
     "metadata": {},
     "output_type": "execute_result"
    }
   ],
   "source": [
    "all_classes = list(df[\"CLASSE\"].unique())\n",
    "not_unknow = list()\n",
    "for i in (all_classes):\n",
    "    if(not i.startswith(\"Unknow\")):\n",
    "        not_unknow.append(i)\n",
    "not_unknow"
   ]
  },
  {
   "cell_type": "code",
   "execution_count": 4,
   "metadata": {},
   "outputs": [
    {
     "data": {
      "text/html": [
       "<div>\n",
       "<style scoped>\n",
       "    .dataframe tbody tr th:only-of-type {\n",
       "        vertical-align: middle;\n",
       "    }\n",
       "\n",
       "    .dataframe tbody tr th {\n",
       "        vertical-align: top;\n",
       "    }\n",
       "\n",
       "    .dataframe thead th {\n",
       "        text-align: right;\n",
       "    }\n",
       "</style>\n",
       "<table border=\"1\" class=\"dataframe\">\n",
       "  <thead>\n",
       "    <tr style=\"text-align: right;\">\n",
       "      <th></th>\n",
       "      <th>CEDENTE</th>\n",
       "      <th>CNPJ_CEDENTE</th>\n",
       "      <th>CEP_SEDE_CEDENTE</th>\n",
       "      <th>UF_SEDE_CEDENTE</th>\n",
       "      <th>CIDADE_SEDE_CEDENTE</th>\n",
       "      <th>LATITUDE_CEDENTE_SEDE</th>\n",
       "      <th>LONGITUDE_CEDENTE_SEDE</th>\n",
       "      <th>CEP_COBRANCA_CEDENTE</th>\n",
       "      <th>UF_COBRANCA_CEDENTE</th>\n",
       "      <th>CIDADE_COBRANCA_CEDENTE</th>\n",
       "      <th>...</th>\n",
       "      <th>CORRETOR</th>\n",
       "      <th>REGIONAL</th>\n",
       "      <th>SUPERINTENDENTE</th>\n",
       "      <th>ASSISTENTE</th>\n",
       "      <th>Ced x Sac</th>\n",
       "      <th>Ced x Ag. Sac</th>\n",
       "      <th>Ag. Ced x Ag. Sac</th>\n",
       "      <th>Sac x Ag. Sac</th>\n",
       "      <th>LIMITE</th>\n",
       "      <th>CLASSE</th>\n",
       "    </tr>\n",
       "  </thead>\n",
       "  <tbody>\n",
       "    <tr>\n",
       "      <th>0</th>\n",
       "      <td>EBF VAZ INDUSTRIA E COMERCIO LTDA</td>\n",
       "      <td>159451000176</td>\n",
       "      <td>31123010</td>\n",
       "      <td>SP</td>\n",
       "      <td>São Paulo</td>\n",
       "      <td>NaN</td>\n",
       "      <td>NaN</td>\n",
       "      <td>13211840.0</td>\n",
       "      <td>SP</td>\n",
       "      <td>Jundiaí</td>\n",
       "      <td>...</td>\n",
       "      <td>Carlos Alberto Otero de Matos</td>\n",
       "      <td>Claudio Roberto Sillos</td>\n",
       "      <td>Geraldo Magel Teixeira</td>\n",
       "      <td>Juscilene Novais Santos</td>\n",
       "      <td>-1001.0</td>\n",
       "      <td>-1001.0</td>\n",
       "      <td>10316.365797</td>\n",
       "      <td>0.0</td>\n",
       "      <td>30</td>\n",
       "      <td>Nao Praca (Dados ausente)</td>\n",
       "    </tr>\n",
       "    <tr>\n",
       "      <th>1</th>\n",
       "      <td>EBF VAZ INDUSTRIA E COMERCIO LTDA</td>\n",
       "      <td>159451000176</td>\n",
       "      <td>31123010</td>\n",
       "      <td>SP</td>\n",
       "      <td>São Paulo</td>\n",
       "      <td>NaN</td>\n",
       "      <td>NaN</td>\n",
       "      <td>13211840.0</td>\n",
       "      <td>SP</td>\n",
       "      <td>Jundiaí</td>\n",
       "      <td>...</td>\n",
       "      <td>Carlos Alberto Otero de Matos</td>\n",
       "      <td>Claudio Roberto Sillos</td>\n",
       "      <td>Geraldo Magel Teixeira</td>\n",
       "      <td>Juscilene Novais Santos</td>\n",
       "      <td>-1001.0</td>\n",
       "      <td>-1001.0</td>\n",
       "      <td>10316.365797</td>\n",
       "      <td>0.0</td>\n",
       "      <td>30</td>\n",
       "      <td>Nao Praca (Dados ausente)</td>\n",
       "    </tr>\n",
       "    <tr>\n",
       "      <th>2</th>\n",
       "      <td>EBF VAZ INDUSTRIA E COMERCIO LTDA</td>\n",
       "      <td>159451000176</td>\n",
       "      <td>31123010</td>\n",
       "      <td>SP</td>\n",
       "      <td>São Paulo</td>\n",
       "      <td>NaN</td>\n",
       "      <td>NaN</td>\n",
       "      <td>13211840.0</td>\n",
       "      <td>SP</td>\n",
       "      <td>Jundiaí</td>\n",
       "      <td>...</td>\n",
       "      <td>Carlos Alberto Otero de Matos</td>\n",
       "      <td>Claudio Roberto Sillos</td>\n",
       "      <td>Geraldo Magel Teixeira</td>\n",
       "      <td>Juscilene Novais Santos</td>\n",
       "      <td>-1001.0</td>\n",
       "      <td>-1001.0</td>\n",
       "      <td>10316.365797</td>\n",
       "      <td>0.0</td>\n",
       "      <td>30</td>\n",
       "      <td>Nao Praca (Dados ausente)</td>\n",
       "    </tr>\n",
       "    <tr>\n",
       "      <th>10</th>\n",
       "      <td>ACO CEARENSE INDUSTRIAL LTDA</td>\n",
       "      <td>990842000138</td>\n",
       "      <td>61600000</td>\n",
       "      <td>CE</td>\n",
       "      <td>Caucaia</td>\n",
       "      <td>NaN</td>\n",
       "      <td>NaN</td>\n",
       "      <td>61616000.0</td>\n",
       "      <td>CE</td>\n",
       "      <td>CAUCAIA</td>\n",
       "      <td>...</td>\n",
       "      <td>Danilo da Araujo Bastos</td>\n",
       "      <td>Delano Macedo de Vasconcellos</td>\n",
       "      <td>Ronaldo Cesar Rodrigues</td>\n",
       "      <td>Camilla Elias Lima Alves</td>\n",
       "      <td>-1001.0</td>\n",
       "      <td>-1001.0</td>\n",
       "      <td>17798.833317</td>\n",
       "      <td>0.0</td>\n",
       "      <td>30</td>\n",
       "      <td>Nao Praca (Dados ausente)</td>\n",
       "    </tr>\n",
       "    <tr>\n",
       "      <th>13</th>\n",
       "      <td>ACO CEARENSE INDUSTRIAL LTDA</td>\n",
       "      <td>990842000138</td>\n",
       "      <td>61600000</td>\n",
       "      <td>CE</td>\n",
       "      <td>Caucaia</td>\n",
       "      <td>NaN</td>\n",
       "      <td>NaN</td>\n",
       "      <td>61616000.0</td>\n",
       "      <td>CE</td>\n",
       "      <td>CAUCAIA</td>\n",
       "      <td>...</td>\n",
       "      <td>Danilo da Araujo Bastos</td>\n",
       "      <td>Delano Macedo de Vasconcellos</td>\n",
       "      <td>Ronaldo Cesar Rodrigues</td>\n",
       "      <td>Camilla Elias Lima Alves</td>\n",
       "      <td>-1001.0</td>\n",
       "      <td>-1001.0</td>\n",
       "      <td>10138.144759</td>\n",
       "      <td>0.0</td>\n",
       "      <td>30</td>\n",
       "      <td>Nao Praca (Dados ausente)</td>\n",
       "    </tr>\n",
       "  </tbody>\n",
       "</table>\n",
       "<p>5 rows × 58 columns</p>\n",
       "</div>"
      ],
      "text/plain": [
       "                              CEDENTE  CNPJ_CEDENTE  CEP_SEDE_CEDENTE  \\\n",
       "0   EBF VAZ INDUSTRIA E COMERCIO LTDA  159451000176          31123010   \n",
       "1   EBF VAZ INDUSTRIA E COMERCIO LTDA  159451000176          31123010   \n",
       "2   EBF VAZ INDUSTRIA E COMERCIO LTDA  159451000176          31123010   \n",
       "10       ACO CEARENSE INDUSTRIAL LTDA  990842000138          61600000   \n",
       "13       ACO CEARENSE INDUSTRIAL LTDA  990842000138          61600000   \n",
       "\n",
       "   UF_SEDE_CEDENTE CIDADE_SEDE_CEDENTE  LATITUDE_CEDENTE_SEDE  \\\n",
       "0               SP           São Paulo                    NaN   \n",
       "1               SP           São Paulo                    NaN   \n",
       "2               SP           São Paulo                    NaN   \n",
       "10              CE             Caucaia                    NaN   \n",
       "13              CE             Caucaia                    NaN   \n",
       "\n",
       "    LONGITUDE_CEDENTE_SEDE  CEP_COBRANCA_CEDENTE UF_COBRANCA_CEDENTE  \\\n",
       "0                      NaN            13211840.0                  SP   \n",
       "1                      NaN            13211840.0                  SP   \n",
       "2                      NaN            13211840.0                  SP   \n",
       "10                     NaN            61616000.0                  CE   \n",
       "13                     NaN            61616000.0                  CE   \n",
       "\n",
       "   CIDADE_COBRANCA_CEDENTE            ...              \\\n",
       "0                  Jundiaí            ...               \n",
       "1                  Jundiaí            ...               \n",
       "2                  Jundiaí            ...               \n",
       "10                 CAUCAIA            ...               \n",
       "13                 CAUCAIA            ...               \n",
       "\n",
       "                         CORRETOR                       REGIONAL  \\\n",
       "0   Carlos Alberto Otero de Matos         Claudio Roberto Sillos   \n",
       "1   Carlos Alberto Otero de Matos         Claudio Roberto Sillos   \n",
       "2   Carlos Alberto Otero de Matos         Claudio Roberto Sillos   \n",
       "10        Danilo da Araujo Bastos  Delano Macedo de Vasconcellos   \n",
       "13        Danilo da Araujo Bastos  Delano Macedo de Vasconcellos   \n",
       "\n",
       "            SUPERINTENDENTE                ASSISTENTE Ced x Sac Ced x Ag. Sac  \\\n",
       "0    Geraldo Magel Teixeira   Juscilene Novais Santos   -1001.0       -1001.0   \n",
       "1    Geraldo Magel Teixeira   Juscilene Novais Santos   -1001.0       -1001.0   \n",
       "2    Geraldo Magel Teixeira   Juscilene Novais Santos   -1001.0       -1001.0   \n",
       "10  Ronaldo Cesar Rodrigues  Camilla Elias Lima Alves   -1001.0       -1001.0   \n",
       "13  Ronaldo Cesar Rodrigues  Camilla Elias Lima Alves   -1001.0       -1001.0   \n",
       "\n",
       "   Ag. Ced x Ag. Sac  Sac x Ag. Sac  LIMITE                     CLASSE  \n",
       "0       10316.365797            0.0      30  Nao Praca (Dados ausente)  \n",
       "1       10316.365797            0.0      30  Nao Praca (Dados ausente)  \n",
       "2       10316.365797            0.0      30  Nao Praca (Dados ausente)  \n",
       "10      17798.833317            0.0      30  Nao Praca (Dados ausente)  \n",
       "13      10138.144759            0.0      30  Nao Praca (Dados ausente)  \n",
       "\n",
       "[5 rows x 58 columns]"
      ]
     },
     "execution_count": 4,
     "metadata": {},
     "output_type": "execute_result"
    }
   ],
   "source": [
    "df_not_unknow = pd.DataFrame()\n",
    "for i in not_unknow:\n",
    "    df_not_unknow = pd.concat([df_not_unknow, df[df[\"CLASSE\"] == i]])\n",
    "df_not_unknow.head()"
   ]
  },
  {
   "cell_type": "code",
   "execution_count": 5,
   "metadata": {},
   "outputs": [
    {
     "name": "stdout",
     "output_type": "stream",
     "text": [
      "<class 'pandas.core.frame.DataFrame'>\n",
      "Int64Index: 5951 entries, 0 to 9729\n",
      "Data columns (total 58 columns):\n",
      "CEDENTE                                         5951 non-null object\n",
      "CNPJ_CEDENTE                                    5951 non-null int64\n",
      "CEP_SEDE_CEDENTE                                5951 non-null int64\n",
      "UF_SEDE_CEDENTE                                 5951 non-null object\n",
      "CIDADE_SEDE_CEDENTE                             5951 non-null object\n",
      "LATITUDE_CEDENTE_SEDE                           2807 non-null float64\n",
      "LONGITUDE_CEDENTE_SEDE                          2807 non-null float64\n",
      "CEP_COBRANCA_CEDENTE                            5568 non-null float64\n",
      "UF_COBRANCA_CEDENTE                             5568 non-null object\n",
      "CIDADE_COBRANCA_CEDENTE                         5568 non-null object\n",
      "LATITUDE_CEDENTE_COBRANCA                       5550 non-null float64\n",
      "LONGITUDE_CEDENTE_COBRANCA                      5550 non-null float64\n",
      "SACADO                                          5951 non-null object\n",
      "CNPJ_SACADO                                     5951 non-null int64\n",
      "CEP_SEDE_SACADO                                 5951 non-null object\n",
      "UF_SEDE_SACADO                                  2465 non-null object\n",
      "CIDADE_SEDE_SACADO                              2462 non-null object\n",
      "LATITUDE_SACADO_SEDE                            5951 non-null float64\n",
      "LONGITUDE_SACADO_SEDE                           5951 non-null float64\n",
      "CEP_COBRANCA_SACADO                             5951 non-null float64\n",
      "UF_COBRANCA_SACADO                              5951 non-null object\n",
      "CIDADE_COBRANCA_SACADO                          5951 non-null object\n",
      "LATITUDE_SACADO_COBRANCA                        5951 non-null float64\n",
      "LONGITUDE_SACADO_COBRANCA                       5951 non-null float64\n",
      "VALOR_PAGO_TITULO                               5951 non-null float64\n",
      "DATA_PAGAMENTO_TITULO                           5951 non-null datetime64[ns]\n",
      "QUANTIDADE_EMISSAO_SEGUNDA_VIA_BOLETO_TITULO    5667 non-null float64\n",
      "TITULO                                          5951 non-null object\n",
      "VALOR_TITULO                                    5951 non-null float64\n",
      "DATA_VENCIMENTO_TITULO                          5951 non-null datetime64[ns]\n",
      "DATA_EMISSAO_TITULO                             5951 non-null datetime64[ns]\n",
      "TIPO_CHECAGEM                                   5925 non-null object\n",
      "SITUACAO_CARTEIRA                               5951 non-null object\n",
      "CEP_AGENCIA_PAGEMENTO_TITULO                    4510 non-null object\n",
      "UF_PAGAMENTO_TITULO                             4826 non-null object\n",
      "CIDADE_AGENCIA_PAGAMENTO_TITULO                 4826 non-null object\n",
      "BANCO_PAGAMENTO_TITULO                          5364 non-null object\n",
      "AGENCIA_PAGAMENTO_TITULO                        5364 non-null object\n",
      "LATITUDE_PAGAMENTO_TITULO                       3822 non-null float64\n",
      "LONGITUDE_PAGAMENTO_TITULO                      3822 non-null float64\n",
      "CEP_TED                                         5630 non-null object\n",
      "UF_TED                                          5734 non-null object\n",
      "CIDADE_TED                                      5734 non-null object\n",
      "BANCO_TED                                       5928 non-null float64\n",
      "AGENCIA_TED                                     5928 non-null float64\n",
      "LATITUDE_PAGAMENTO_OPERACAO                     5437 non-null float64\n",
      "LONGITUDE_PAGAMENTO_OPERACAO                    5437 non-null float64\n",
      "PLATAFORMA                                      5951 non-null object\n",
      "CORRETOR                                        5951 non-null object\n",
      "REGIONAL                                        5951 non-null object\n",
      "SUPERINTENDENTE                                 5951 non-null object\n",
      "ASSISTENTE                                      5951 non-null object\n",
      "Ced x Sac                                       5951 non-null float64\n",
      "Ced x Ag. Sac                                   5951 non-null float64\n",
      "Ag. Ced x Ag. Sac                               5951 non-null float64\n",
      "Sac x Ag. Sac                                   5951 non-null float64\n",
      "LIMITE                                          5951 non-null int64\n",
      "CLASSE                                          5951 non-null object\n",
      "dtypes: datetime64[ns](3), float64(23), int64(4), object(28)\n",
      "memory usage: 2.7+ MB\n"
     ]
    }
   ],
   "source": [
    "nao_praca = pd.DataFrame()\n",
    "nao_praca = df_not_unknow[df_not_unknow[\"CLASSE\"] == \"Nao Praca (Dados ausente)\"]\n",
    "nao_praca = pd.concat([nao_praca, df_not_unknow[df_not_unknow[\"CLASSE\"] == \"Nao Praca\"]])\n",
    "nao_praca[\"CLASSE\"] = nao_praca[\"CLASSE\"].apply(lambda x: \"Nao Praca\")\n",
    "nao_praca.info()"
   ]
  },
  {
   "cell_type": "code",
   "execution_count": 6,
   "metadata": {},
   "outputs": [
    {
     "name": "stdout",
     "output_type": "stream",
     "text": [
      "<class 'pandas.core.frame.DataFrame'>\n",
      "Int64Index: 3631 entries, 3 to 2248\n",
      "Data columns (total 58 columns):\n",
      "CEDENTE                                         3631 non-null object\n",
      "CNPJ_CEDENTE                                    3631 non-null int64\n",
      "CEP_SEDE_CEDENTE                                3631 non-null int64\n",
      "UF_SEDE_CEDENTE                                 3631 non-null object\n",
      "CIDADE_SEDE_CEDENTE                             3631 non-null object\n",
      "LATITUDE_CEDENTE_SEDE                           3631 non-null float64\n",
      "LONGITUDE_CEDENTE_SEDE                          3631 non-null float64\n",
      "CEP_COBRANCA_CEDENTE                            3631 non-null float64\n",
      "UF_COBRANCA_CEDENTE                             3631 non-null object\n",
      "CIDADE_COBRANCA_CEDENTE                         3631 non-null object\n",
      "LATITUDE_CEDENTE_COBRANCA                       3631 non-null float64\n",
      "LONGITUDE_CEDENTE_COBRANCA                      3631 non-null float64\n",
      "SACADO                                          3631 non-null object\n",
      "CNPJ_SACADO                                     3631 non-null int64\n",
      "CEP_SEDE_SACADO                                 3631 non-null object\n",
      "UF_SEDE_SACADO                                  606 non-null object\n",
      "CIDADE_SEDE_SACADO                              606 non-null object\n",
      "LATITUDE_SACADO_SEDE                            3627 non-null float64\n",
      "LONGITUDE_SACADO_SEDE                           3627 non-null float64\n",
      "CEP_COBRANCA_SACADO                             3631 non-null float64\n",
      "UF_COBRANCA_SACADO                              3631 non-null object\n",
      "CIDADE_COBRANCA_SACADO                          3631 non-null object\n",
      "LATITUDE_SACADO_COBRANCA                        3631 non-null float64\n",
      "LONGITUDE_SACADO_COBRANCA                       3631 non-null float64\n",
      "VALOR_PAGO_TITULO                               3631 non-null float64\n",
      "DATA_PAGAMENTO_TITULO                           3631 non-null datetime64[ns]\n",
      "QUANTIDADE_EMISSAO_SEGUNDA_VIA_BOLETO_TITULO    997 non-null float64\n",
      "TITULO                                          3631 non-null object\n",
      "VALOR_TITULO                                    3631 non-null float64\n",
      "DATA_VENCIMENTO_TITULO                          3631 non-null datetime64[ns]\n",
      "DATA_EMISSAO_TITULO                             3631 non-null datetime64[ns]\n",
      "TIPO_CHECAGEM                                   3617 non-null object\n",
      "SITUACAO_CARTEIRA                               3631 non-null object\n",
      "CEP_AGENCIA_PAGEMENTO_TITULO                    2980 non-null object\n",
      "UF_PAGAMENTO_TITULO                             3087 non-null object\n",
      "CIDADE_AGENCIA_PAGAMENTO_TITULO                 3087 non-null object\n",
      "BANCO_PAGAMENTO_TITULO                          3363 non-null object\n",
      "AGENCIA_PAGAMENTO_TITULO                        3363 non-null object\n",
      "LATITUDE_PAGAMENTO_TITULO                       2495 non-null float64\n",
      "LONGITUDE_PAGAMENTO_TITULO                      2495 non-null float64\n",
      "CEP_TED                                         3496 non-null object\n",
      "UF_TED                                          3506 non-null object\n",
      "CIDADE_TED                                      3506 non-null object\n",
      "BANCO_TED                                       3567 non-null float64\n",
      "AGENCIA_TED                                     3567 non-null float64\n",
      "LATITUDE_PAGAMENTO_OPERACAO                     3461 non-null float64\n",
      "LONGITUDE_PAGAMENTO_OPERACAO                    3461 non-null float64\n",
      "PLATAFORMA                                      3631 non-null object\n",
      "CORRETOR                                        3631 non-null object\n",
      "REGIONAL                                        3631 non-null object\n",
      "SUPERINTENDENTE                                 3631 non-null object\n",
      "ASSISTENTE                                      3631 non-null object\n",
      "Ced x Sac                                       3631 non-null float64\n",
      "Ced x Ag. Sac                                   3631 non-null float64\n",
      "Ag. Ced x Ag. Sac                               3631 non-null float64\n",
      "Sac x Ag. Sac                                   3631 non-null float64\n",
      "LIMITE                                          3631 non-null int64\n",
      "CLASSE                                          3631 non-null object\n",
      "dtypes: datetime64[ns](3), float64(23), int64(4), object(28)\n",
      "memory usage: 1.6+ MB\n"
     ]
    }
   ],
   "source": [
    "praca = pd.DataFrame()\n",
    "praca = df_not_unknow[df_not_unknow[\"CLASSE\"] == \"Praca Fraca\"]\n",
    "praca = pd.concat([praca, df_not_unknow[df_not_unknow[\"CLASSE\"] == \"Praca Forte\"]])\n",
    "praca = pd.concat([praca, df_not_unknow[df_not_unknow[\"CLASSE\"] == 'Praca Forte (Dados ausente) ']])\n",
    "praca[\"CLASSE\"] = praca[\"CLASSE\"].apply(lambda x: \"Praca\")\n",
    "praca.info()"
   ]
  },
  {
   "cell_type": "code",
   "execution_count": 7,
   "metadata": {},
   "outputs": [
    {
     "data": {
      "text/html": [
       "<div>\n",
       "<style scoped>\n",
       "    .dataframe tbody tr th:only-of-type {\n",
       "        vertical-align: middle;\n",
       "    }\n",
       "\n",
       "    .dataframe tbody tr th {\n",
       "        vertical-align: top;\n",
       "    }\n",
       "\n",
       "    .dataframe thead th {\n",
       "        text-align: right;\n",
       "    }\n",
       "</style>\n",
       "<table border=\"1\" class=\"dataframe\">\n",
       "  <thead>\n",
       "    <tr style=\"text-align: right;\">\n",
       "      <th></th>\n",
       "      <th>CEDENTE</th>\n",
       "      <th>CNPJ_CEDENTE</th>\n",
       "      <th>CEP_SEDE_CEDENTE</th>\n",
       "      <th>UF_SEDE_CEDENTE</th>\n",
       "      <th>CIDADE_SEDE_CEDENTE</th>\n",
       "      <th>LATITUDE_CEDENTE_SEDE</th>\n",
       "      <th>LONGITUDE_CEDENTE_SEDE</th>\n",
       "      <th>CEP_COBRANCA_CEDENTE</th>\n",
       "      <th>UF_COBRANCA_CEDENTE</th>\n",
       "      <th>CIDADE_COBRANCA_CEDENTE</th>\n",
       "      <th>...</th>\n",
       "      <th>CORRETOR</th>\n",
       "      <th>REGIONAL</th>\n",
       "      <th>SUPERINTENDENTE</th>\n",
       "      <th>ASSISTENTE</th>\n",
       "      <th>Ced x Sac</th>\n",
       "      <th>Ced x Ag. Sac</th>\n",
       "      <th>Ag. Ced x Ag. Sac</th>\n",
       "      <th>Sac x Ag. Sac</th>\n",
       "      <th>LIMITE</th>\n",
       "      <th>CLASSE</th>\n",
       "    </tr>\n",
       "  </thead>\n",
       "  <tbody>\n",
       "    <tr>\n",
       "      <th>3</th>\n",
       "      <td>IMTEP GSI CLINICA MEDICA HOSP LTDA</td>\n",
       "      <td>196526000199</td>\n",
       "      <td>80010050</td>\n",
       "      <td>PR</td>\n",
       "      <td>Curitiba</td>\n",
       "      <td>-25.43568</td>\n",
       "      <td>-49.27595</td>\n",
       "      <td>80010050.0</td>\n",
       "      <td>PR</td>\n",
       "      <td>Curitiba</td>\n",
       "      <td>...</td>\n",
       "      <td>Mauro Jose Toigo</td>\n",
       "      <td>Claudio Roberto Sillos</td>\n",
       "      <td>Fabiano Kuerten Tirlone</td>\n",
       "      <td>Edna Barros Silva</td>\n",
       "      <td>5009.005128</td>\n",
       "      <td>3874.906704</td>\n",
       "      <td>3874.906704</td>\n",
       "      <td>7010.342827</td>\n",
       "      <td>30</td>\n",
       "      <td>Praca</td>\n",
       "    </tr>\n",
       "    <tr>\n",
       "      <th>7</th>\n",
       "      <td>VESPER TRANSPORTES LTDA</td>\n",
       "      <td>873594000145</td>\n",
       "      <td>13480171</td>\n",
       "      <td>SP</td>\n",
       "      <td>Limeira</td>\n",
       "      <td>-22.56264</td>\n",
       "      <td>-47.40648</td>\n",
       "      <td>13484200.0</td>\n",
       "      <td>SP</td>\n",
       "      <td>Limeira</td>\n",
       "      <td>...</td>\n",
       "      <td>Carlos Alberto Otero de Matos</td>\n",
       "      <td>Claudio Roberto Sillos</td>\n",
       "      <td>Geraldo Magel Teixeira</td>\n",
       "      <td>Juscilene Novais Santos</td>\n",
       "      <td>12748.800912</td>\n",
       "      <td>11169.619891</td>\n",
       "      <td>8975.675190</td>\n",
       "      <td>12930.870452</td>\n",
       "      <td>30</td>\n",
       "      <td>Praca</td>\n",
       "    </tr>\n",
       "    <tr>\n",
       "      <th>8</th>\n",
       "      <td>DUROLINE S/A</td>\n",
       "      <td>795288000138</td>\n",
       "      <td>95112130</td>\n",
       "      <td>RS</td>\n",
       "      <td>Caxias do Sul</td>\n",
       "      <td>-29.17493</td>\n",
       "      <td>-51.24022</td>\n",
       "      <td>95112130.0</td>\n",
       "      <td>RS</td>\n",
       "      <td>CAXIAS DO SUL</td>\n",
       "      <td>...</td>\n",
       "      <td>Roberto Francisco Mazzocchin</td>\n",
       "      <td>Claudio Roberto Sillos</td>\n",
       "      <td>Fabiano Kuerten Tirlone</td>\n",
       "      <td>Claudia Fabiani Machado Goulart</td>\n",
       "      <td>7227.670232</td>\n",
       "      <td>2825.793408</td>\n",
       "      <td>2825.793408</td>\n",
       "      <td>6043.070969</td>\n",
       "      <td>30</td>\n",
       "      <td>Praca</td>\n",
       "    </tr>\n",
       "    <tr>\n",
       "      <th>9</th>\n",
       "      <td>DUROLINE S/A</td>\n",
       "      <td>795288000138</td>\n",
       "      <td>95112130</td>\n",
       "      <td>RS</td>\n",
       "      <td>Caxias do Sul</td>\n",
       "      <td>-29.17493</td>\n",
       "      <td>-51.24022</td>\n",
       "      <td>95112130.0</td>\n",
       "      <td>RS</td>\n",
       "      <td>CAXIAS DO SUL</td>\n",
       "      <td>...</td>\n",
       "      <td>Roberto Francisco Mazzocchin</td>\n",
       "      <td>Claudio Roberto Sillos</td>\n",
       "      <td>Fabiano Kuerten Tirlone</td>\n",
       "      <td>Claudia Fabiani Machado Goulart</td>\n",
       "      <td>13278.267016</td>\n",
       "      <td>6539.768909</td>\n",
       "      <td>6539.768909</td>\n",
       "      <td>19005.870947</td>\n",
       "      <td>30</td>\n",
       "      <td>Praca</td>\n",
       "    </tr>\n",
       "    <tr>\n",
       "      <th>12</th>\n",
       "      <td>VESPER TRANSPORTES LTDA</td>\n",
       "      <td>873594000145</td>\n",
       "      <td>13480171</td>\n",
       "      <td>SP</td>\n",
       "      <td>Limeira</td>\n",
       "      <td>-22.56264</td>\n",
       "      <td>-47.40648</td>\n",
       "      <td>13484200.0</td>\n",
       "      <td>SP</td>\n",
       "      <td>Limeira</td>\n",
       "      <td>...</td>\n",
       "      <td>Carlos Alberto Otero de Matos</td>\n",
       "      <td>Claudio Roberto Sillos</td>\n",
       "      <td>Geraldo Magel Teixeira</td>\n",
       "      <td>Juscilene Novais Santos</td>\n",
       "      <td>10822.593400</td>\n",
       "      <td>16221.853480</td>\n",
       "      <td>10965.937720</td>\n",
       "      <td>11680.954173</td>\n",
       "      <td>30</td>\n",
       "      <td>Praca</td>\n",
       "    </tr>\n",
       "  </tbody>\n",
       "</table>\n",
       "<p>5 rows × 58 columns</p>\n",
       "</div>"
      ],
      "text/plain": [
       "                               CEDENTE  CNPJ_CEDENTE  CEP_SEDE_CEDENTE  \\\n",
       "3   IMTEP GSI CLINICA MEDICA HOSP LTDA  196526000199          80010050   \n",
       "7              VESPER TRANSPORTES LTDA  873594000145          13480171   \n",
       "8                         DUROLINE S/A  795288000138          95112130   \n",
       "9                         DUROLINE S/A  795288000138          95112130   \n",
       "12             VESPER TRANSPORTES LTDA  873594000145          13480171   \n",
       "\n",
       "   UF_SEDE_CEDENTE CIDADE_SEDE_CEDENTE  LATITUDE_CEDENTE_SEDE  \\\n",
       "3               PR            Curitiba              -25.43568   \n",
       "7               SP             Limeira              -22.56264   \n",
       "8               RS       Caxias do Sul              -29.17493   \n",
       "9               RS       Caxias do Sul              -29.17493   \n",
       "12              SP             Limeira              -22.56264   \n",
       "\n",
       "    LONGITUDE_CEDENTE_SEDE  CEP_COBRANCA_CEDENTE UF_COBRANCA_CEDENTE  \\\n",
       "3                -49.27595            80010050.0                  PR   \n",
       "7                -47.40648            13484200.0                  SP   \n",
       "8                -51.24022            95112130.0                  RS   \n",
       "9                -51.24022            95112130.0                  RS   \n",
       "12               -47.40648            13484200.0                  SP   \n",
       "\n",
       "   CIDADE_COBRANCA_CEDENTE   ...                         CORRETOR  \\\n",
       "3                 Curitiba   ...                 Mauro Jose Toigo   \n",
       "7                  Limeira   ...    Carlos Alberto Otero de Matos   \n",
       "8            CAXIAS DO SUL   ...     Roberto Francisco Mazzocchin   \n",
       "9            CAXIAS DO SUL   ...     Roberto Francisco Mazzocchin   \n",
       "12                 Limeira   ...    Carlos Alberto Otero de Matos   \n",
       "\n",
       "                  REGIONAL          SUPERINTENDENTE  \\\n",
       "3   Claudio Roberto Sillos  Fabiano Kuerten Tirlone   \n",
       "7   Claudio Roberto Sillos   Geraldo Magel Teixeira   \n",
       "8   Claudio Roberto Sillos  Fabiano Kuerten Tirlone   \n",
       "9   Claudio Roberto Sillos  Fabiano Kuerten Tirlone   \n",
       "12  Claudio Roberto Sillos   Geraldo Magel Teixeira   \n",
       "\n",
       "                         ASSISTENTE     Ced x Sac Ced x Ag. Sac  \\\n",
       "3                 Edna Barros Silva   5009.005128   3874.906704   \n",
       "7           Juscilene Novais Santos  12748.800912  11169.619891   \n",
       "8   Claudia Fabiani Machado Goulart   7227.670232   2825.793408   \n",
       "9   Claudia Fabiani Machado Goulart  13278.267016   6539.768909   \n",
       "12          Juscilene Novais Santos  10822.593400  16221.853480   \n",
       "\n",
       "   Ag. Ced x Ag. Sac  Sac x Ag. Sac  LIMITE  CLASSE  \n",
       "3        3874.906704    7010.342827      30   Praca  \n",
       "7        8975.675190   12930.870452      30   Praca  \n",
       "8        2825.793408    6043.070969      30   Praca  \n",
       "9        6539.768909   19005.870947      30   Praca  \n",
       "12      10965.937720   11680.954173      30   Praca  \n",
       "\n",
       "[5 rows x 58 columns]"
      ]
     },
     "execution_count": 7,
     "metadata": {},
     "output_type": "execute_result"
    }
   ],
   "source": [
    "df_not_unknow = pd.DataFrame()\n",
    "df_not_unknow = pd.concat([praca, nao_praca])\n",
    "df_not_unknow.head()"
   ]
  },
  {
   "cell_type": "code",
   "execution_count": 8,
   "metadata": {},
   "outputs": [],
   "source": [
    "df_not_unknow.drop([\"CEDENTE\", \n",
    "         \"CIDADE_SEDE_CEDENTE\",\n",
    "         \"UF_SEDE_CEDENTE\",\n",
    "         \"SACADO\", \n",
    "         \"CIDADE_SEDE_SACADO\",\n",
    "         \"UF_SEDE_SACADO\",\n",
    "         \"UF_COBRANCA_CEDENTE\",\n",
    "         \"CIDADE_COBRANCA_CEDENTE\",\n",
    "         \"UF_COBRANCA_SACADO\",\n",
    "         \"CIDADE_COBRANCA_SACADO\",\n",
    "         \"UF_PAGAMENTO_TITULO\",\n",
    "         \"CIDADE_AGENCIA_PAGAMENTO_TITULO\",\n",
    "         \"TITULO\",\n",
    "         \"UF_PAGAMENTO_TITULO\",\n",
    "         \"CIDADE_AGENCIA_PAGAMENTO_TITULO\",\n",
    "         \"UF_TED\",\n",
    "         \"CIDADE_TED\",\n",
    "         \"Ced x Sac\",\n",
    "         \"Ced x Ag. Sac\",\n",
    "         \"Ag. Ced x Ag. Sac\",\n",
    "         \"Sac x Ag. Sac\",\n",
    "         \"SITUACAO_CARTEIRA\",\n",
    "         \"CORRETOR\",\n",
    "         \"REGIONAL\",\n",
    "         \"SUPERINTENDENTE\",\n",
    "         \"ASSISTENTE\"\n",
    "        ], axis=1, inplace=True)"
   ]
  },
  {
   "cell_type": "markdown",
   "metadata": {},
   "source": [
    "### Tratamento CEPs - Regiões"
   ]
  },
  {
   "cell_type": "code",
   "execution_count": 9,
   "metadata": {},
   "outputs": [],
   "source": [
    "def getRegiao(cep, digito):\n",
    "    cep = fixZipCode(str(cep))\n",
    "    try:\n",
    "        return cep[digito]\n",
    "    except (IndexError, TypeError):\n",
    "        return -1\n",
    "\n",
    "def getRegioes(arv, arv_coluna, df, df_coluna):\n",
    "    for i in range(len(arv_coluna)):\n",
    "        arv[arv_coluna[i]] = np.vectorize(getRegiao)(df[df_coluna], i)\n",
    "        "
   ]
  },
  {
   "cell_type": "markdown",
   "metadata": {},
   "source": [
    "#### Comparar os ceps de acordo com os seguintes criterios:\n",
    "1. Por regiao\n",
    "2. Por subregiao\n",
    "3. Por setor\n",
    "4. Por subsetor\n",
    "\n",
    "Se os ceps estiverem na mesma região, compara as subregiões.\n",
    "\n",
    "Fazer essa comparacao até encontrar qual o criterio em que os ceps divergem\n",
    "\n",
    "* Regioes diferentes --> Muito Longe\n",
    "* Regiao igual, e subregiao diferente --> longe\n",
    "* Regiao e subregiao igual, e setor diferente --> perto\n",
    "* Regiao, subregiao e setor igual, e subsetor diferente --> muito perto\n"
   ]
  },
  {
   "cell_type": "code",
   "execution_count": 10,
   "metadata": {},
   "outputs": [],
   "source": [
    "def paresDistancia(cep1, cep2):\n",
    "    # Sao 4 subdivisoes do cep\n",
    "    \n",
    "    if(cep1 != -1 and cep2 != -1):\n",
    "        if(getRegiao(cep1, 0) != getRegiao(cep2, 0)):\n",
    "            return 1 # Regioes muito distantes\n",
    "\n",
    "        elif(getRegiao(cep1, 1) != getRegiao(cep2, 1)):\n",
    "            return 2\n",
    "\n",
    "        elif(getRegiao(cep1, 2) != getRegiao(cep2, 2)):\n",
    "            return 3\n",
    "\n",
    "        else:\n",
    "            return 4\n",
    "    else:\n",
    "        return -1 "
   ]
  },
  {
   "cell_type": "code",
   "execution_count": 11,
   "metadata": {},
   "outputs": [],
   "source": [
    "def fixZipCode(zipcode):\n",
    "\n",
    "    \"\"\"\n",
    "        Ajuste do CEP\n",
    "\n",
    "        Esta funcao ajusta o CEP, retirando um possivel .0 no final e\n",
    "        retornando uma string contendo o CEP contendo apenas digitos\n",
    "    \"\"\"\n",
    "    if str(zipcode) == 'nan':\n",
    "        return -1\n",
    "\n",
    "    if str(zipcode).endswith('.0'):\n",
    "\n",
    "        #Retira o .0\n",
    "        s = str(zipcode)[:-2]\n",
    "        N = len(s)\n",
    "        # Completa com 0 a esquerda\n",
    "        s = \"0\"*(8-N) + s\n",
    "        # s = s[:-3] + \"-\" + s[5:]\n",
    "        return s\n",
    "\n",
    "    elif len(str(zipcode)) == 8:\n",
    "\n",
    "        s = str(zipcode)\n",
    "        # s = s[:-3] + \"-\" + s[5:]\n",
    "        return s\n",
    "\n",
    "    elif len(str(zipcode)) <= 7 and len(str(zipcode)) > 0:\n",
    "\n",
    "        N = len(str(zipcode))\n",
    "        s = \"0\"*(8-N) + str(zipcode)\n",
    "        # s = s[:-3] + \"-\" + s[5:]\n",
    "        return s\n",
    "\n",
    "    elif len(str(zipcode)) > 8 or len(str(zipcode)) <= 0:\n",
    "\n",
    "        return -1003\n",
    "\n",
    "# def getLatLong(cep, df):\n",
    "#     lat = df[df[\"cep\"]==cep][\"latitude\"]\n",
    "#     long = 0\n",
    "    \n",
    "#     if len(lat) < 1:\n",
    "#         lat = None\n",
    "#     else:\n",
    "#         lat = list(lat)[0]\n",
    "#     long = df[df[\"cep\"]==cep][\"longitude\"]\n",
    "#     if len(long) < 1:\n",
    "#         long = None\n",
    "#     else:\n",
    "#         long = list(long)[0]\n",
    "#     return lat, long\n",
    "\n"
   ]
  },
  {
   "cell_type": "code",
   "execution_count": 12,
   "metadata": {},
   "outputs": [
    {
     "data": {
      "text/html": [
       "<div>\n",
       "<style scoped>\n",
       "    .dataframe tbody tr th:only-of-type {\n",
       "        vertical-align: middle;\n",
       "    }\n",
       "\n",
       "    .dataframe tbody tr th {\n",
       "        vertical-align: top;\n",
       "    }\n",
       "\n",
       "    .dataframe thead th {\n",
       "        text-align: right;\n",
       "    }\n",
       "</style>\n",
       "<table border=\"1\" class=\"dataframe\">\n",
       "  <thead>\n",
       "    <tr style=\"text-align: right;\">\n",
       "      <th></th>\n",
       "      <th>CNPJ_CEDENTE</th>\n",
       "      <th>CEP_SEDE_CEDENTE</th>\n",
       "      <th>LATITUDE_CEDENTE_SEDE</th>\n",
       "      <th>LONGITUDE_CEDENTE_SEDE</th>\n",
       "      <th>CEP_COBRANCA_CEDENTE</th>\n",
       "      <th>LATITUDE_CEDENTE_COBRANCA</th>\n",
       "      <th>LONGITUDE_CEDENTE_COBRANCA</th>\n",
       "      <th>CNPJ_SACADO</th>\n",
       "      <th>CEP_SEDE_SACADO</th>\n",
       "      <th>LATITUDE_SACADO_SEDE</th>\n",
       "      <th>...</th>\n",
       "      <th>DIST_SACADO_COBRANCA_CEDENTE</th>\n",
       "      <th>DIST_SACADO_COBRANCA_SACADO</th>\n",
       "      <th>DIST_SACADO_AGENCIA_PAGEMENTO_TITULO</th>\n",
       "      <th>DIST_SACADO_TED</th>\n",
       "      <th>DIST_COBRANCA_CEDENTE_COBRANCA_SACADO</th>\n",
       "      <th>DIST_COBRANCA_CEDENTE_AGENCIA_PAGEMENTO_TITULO</th>\n",
       "      <th>DIST_COBRANCA_CEDENTE_TED</th>\n",
       "      <th>DIST_COBRANCA_SACADO_AGENCIA_PAGEMENTO_TITULO</th>\n",
       "      <th>DIST_COBRANCA_SACADO_TED</th>\n",
       "      <th>DIST_AGENCIA_PAGEMENTO_TITULO_TED</th>\n",
       "    </tr>\n",
       "  </thead>\n",
       "  <tbody>\n",
       "    <tr>\n",
       "      <th>3</th>\n",
       "      <td>196526000199</td>\n",
       "      <td>80010050</td>\n",
       "      <td>-25.43568</td>\n",
       "      <td>-49.27595</td>\n",
       "      <td>80010050.0</td>\n",
       "      <td>-25.43568</td>\n",
       "      <td>-49.27595</td>\n",
       "      <td>33000167000101</td>\n",
       "      <td>20031912</td>\n",
       "      <td>-22.91029</td>\n",
       "      <td>...</td>\n",
       "      <td>1</td>\n",
       "      <td>2</td>\n",
       "      <td>1</td>\n",
       "      <td>1</td>\n",
       "      <td>1</td>\n",
       "      <td>1</td>\n",
       "      <td>4</td>\n",
       "      <td>1</td>\n",
       "      <td>1</td>\n",
       "      <td>1</td>\n",
       "    </tr>\n",
       "    <tr>\n",
       "      <th>7</th>\n",
       "      <td>873594000145</td>\n",
       "      <td>13480171</td>\n",
       "      <td>-22.56264</td>\n",
       "      <td>-47.40648</td>\n",
       "      <td>13484200.0</td>\n",
       "      <td>-22.53211</td>\n",
       "      <td>-47.43200</td>\n",
       "      <td>278016000160</td>\n",
       "      <td>13490970</td>\n",
       "      <td>-22.48025</td>\n",
       "      <td>...</td>\n",
       "      <td>4</td>\n",
       "      <td>4</td>\n",
       "      <td>4</td>\n",
       "      <td>3</td>\n",
       "      <td>4</td>\n",
       "      <td>4</td>\n",
       "      <td>3</td>\n",
       "      <td>4</td>\n",
       "      <td>3</td>\n",
       "      <td>3</td>\n",
       "    </tr>\n",
       "    <tr>\n",
       "      <th>8</th>\n",
       "      <td>795288000138</td>\n",
       "      <td>95112130</td>\n",
       "      <td>-29.17493</td>\n",
       "      <td>-51.24022</td>\n",
       "      <td>95112130.0</td>\n",
       "      <td>-29.17493</td>\n",
       "      <td>-51.24022</td>\n",
       "      <td>2373466000168</td>\n",
       "      <td>87070050</td>\n",
       "      <td>-23.42352</td>\n",
       "      <td>...</td>\n",
       "      <td>1</td>\n",
       "      <td>4</td>\n",
       "      <td>4</td>\n",
       "      <td>1</td>\n",
       "      <td>1</td>\n",
       "      <td>1</td>\n",
       "      <td>3</td>\n",
       "      <td>4</td>\n",
       "      <td>1</td>\n",
       "      <td>1</td>\n",
       "    </tr>\n",
       "    <tr>\n",
       "      <th>9</th>\n",
       "      <td>795288000138</td>\n",
       "      <td>95112130</td>\n",
       "      <td>-29.17493</td>\n",
       "      <td>-51.24022</td>\n",
       "      <td>95112130.0</td>\n",
       "      <td>-29.17493</td>\n",
       "      <td>-51.24022</td>\n",
       "      <td>87488847000145</td>\n",
       "      <td>97095800</td>\n",
       "      <td>-29.69949</td>\n",
       "      <td>...</td>\n",
       "      <td>2</td>\n",
       "      <td>4</td>\n",
       "      <td>1</td>\n",
       "      <td>2</td>\n",
       "      <td>2</td>\n",
       "      <td>1</td>\n",
       "      <td>3</td>\n",
       "      <td>1</td>\n",
       "      <td>2</td>\n",
       "      <td>1</td>\n",
       "    </tr>\n",
       "    <tr>\n",
       "      <th>12</th>\n",
       "      <td>873594000145</td>\n",
       "      <td>13480171</td>\n",
       "      <td>-22.56264</td>\n",
       "      <td>-47.40648</td>\n",
       "      <td>13484200.0</td>\n",
       "      <td>-22.53211</td>\n",
       "      <td>-47.43200</td>\n",
       "      <td>73070294000100</td>\n",
       "      <td>13480308</td>\n",
       "      <td>-22.58501</td>\n",
       "      <td>...</td>\n",
       "      <td>4</td>\n",
       "      <td>4</td>\n",
       "      <td>3</td>\n",
       "      <td>3</td>\n",
       "      <td>4</td>\n",
       "      <td>3</td>\n",
       "      <td>3</td>\n",
       "      <td>3</td>\n",
       "      <td>3</td>\n",
       "      <td>3</td>\n",
       "    </tr>\n",
       "  </tbody>\n",
       "</table>\n",
       "<p>5 rows × 49 columns</p>\n",
       "</div>"
      ],
      "text/plain": [
       "    CNPJ_CEDENTE  CEP_SEDE_CEDENTE  LATITUDE_CEDENTE_SEDE  \\\n",
       "3   196526000199          80010050              -25.43568   \n",
       "7   873594000145          13480171              -22.56264   \n",
       "8   795288000138          95112130              -29.17493   \n",
       "9   795288000138          95112130              -29.17493   \n",
       "12  873594000145          13480171              -22.56264   \n",
       "\n",
       "    LONGITUDE_CEDENTE_SEDE  CEP_COBRANCA_CEDENTE  LATITUDE_CEDENTE_COBRANCA  \\\n",
       "3                -49.27595            80010050.0                  -25.43568   \n",
       "7                -47.40648            13484200.0                  -22.53211   \n",
       "8                -51.24022            95112130.0                  -29.17493   \n",
       "9                -51.24022            95112130.0                  -29.17493   \n",
       "12               -47.40648            13484200.0                  -22.53211   \n",
       "\n",
       "    LONGITUDE_CEDENTE_COBRANCA     CNPJ_SACADO CEP_SEDE_SACADO  \\\n",
       "3                    -49.27595  33000167000101        20031912   \n",
       "7                    -47.43200    278016000160        13490970   \n",
       "8                    -51.24022   2373466000168        87070050   \n",
       "9                    -51.24022  87488847000145        97095800   \n",
       "12                   -47.43200  73070294000100        13480308   \n",
       "\n",
       "    LATITUDE_SACADO_SEDE                ...                 \\\n",
       "3              -22.91029                ...                  \n",
       "7              -22.48025                ...                  \n",
       "8              -23.42352                ...                  \n",
       "9              -29.69949                ...                  \n",
       "12             -22.58501                ...                  \n",
       "\n",
       "    DIST_SACADO_COBRANCA_CEDENTE  DIST_SACADO_COBRANCA_SACADO  \\\n",
       "3                              1                            2   \n",
       "7                              4                            4   \n",
       "8                              1                            4   \n",
       "9                              2                            4   \n",
       "12                             4                            4   \n",
       "\n",
       "    DIST_SACADO_AGENCIA_PAGEMENTO_TITULO  DIST_SACADO_TED  \\\n",
       "3                                      1                1   \n",
       "7                                      4                3   \n",
       "8                                      4                1   \n",
       "9                                      1                2   \n",
       "12                                     3                3   \n",
       "\n",
       "    DIST_COBRANCA_CEDENTE_COBRANCA_SACADO  \\\n",
       "3                                       1   \n",
       "7                                       4   \n",
       "8                                       1   \n",
       "9                                       2   \n",
       "12                                      4   \n",
       "\n",
       "   DIST_COBRANCA_CEDENTE_AGENCIA_PAGEMENTO_TITULO  DIST_COBRANCA_CEDENTE_TED  \\\n",
       "3                                               1                          4   \n",
       "7                                               4                          3   \n",
       "8                                               1                          3   \n",
       "9                                               1                          3   \n",
       "12                                              3                          3   \n",
       "\n",
       "    DIST_COBRANCA_SACADO_AGENCIA_PAGEMENTO_TITULO DIST_COBRANCA_SACADO_TED  \\\n",
       "3                                               1                        1   \n",
       "7                                               4                        3   \n",
       "8                                               4                        1   \n",
       "9                                               1                        2   \n",
       "12                                              3                        3   \n",
       "\n",
       "   DIST_AGENCIA_PAGEMENTO_TITULO_TED  \n",
       "3                                  1  \n",
       "7                                  3  \n",
       "8                                  1  \n",
       "9                                  1  \n",
       "12                                 3  \n",
       "\n",
       "[5 rows x 49 columns]"
      ]
     },
     "execution_count": 12,
     "metadata": {},
     "output_type": "execute_result"
    }
   ],
   "source": [
    "#----------- (CEDENTE)\n",
    "\n",
    "df_not_unknow[\"DIST_CEDENTE_SACADO\"] = np.vectorize(paresDistancia)(df_not_unknow[\"CEP_SEDE_CEDENTE\"],\n",
    "                                                         df_not_unknow[\"CEP_SEDE_SACADO\"])\n",
    "df_not_unknow[\"DIST_CEDENTE_COBRANCA_CEDENTE\"] = np.vectorize(paresDistancia)(df_not_unknow[\"CEP_SEDE_CEDENTE\"],\n",
    "                                                         df_not_unknow[\"CEP_COBRANCA_CEDENTE\"])\n",
    "df_not_unknow[\"DIST_CEDENTE_COBRANCA_SACADO\"] = np.vectorize(paresDistancia)(df_not_unknow[\"CEP_SEDE_CEDENTE\"],\n",
    "                                                         df_not_unknow[\"CEP_COBRANCA_SACADO\"])\n",
    "df_not_unknow[\"DIST_CEDENTE_AGENCIA_PAGEMENTO_TITULO\"] = np.vectorize(paresDistancia)(df_not_unknow[\"CEP_SEDE_CEDENTE\"],\n",
    "                                                         df_not_unknow[\"CEP_AGENCIA_PAGEMENTO_TITULO\"])\n",
    "df_not_unknow[\"DIST_CEDENTE_TED\"] = np.vectorize(paresDistancia)(df_not_unknow[\"CEP_SEDE_CEDENTE\"],\n",
    "                                                         df_not_unknow[\"CEP_TED\"])\n",
    "\n",
    "#----------- (SACADO)\n",
    "\n",
    "df_not_unknow[\"DIST_SACADO_COBRANCA_CEDENTE\"] = np.vectorize(paresDistancia)(df_not_unknow[\"CEP_SEDE_SACADO\"],\n",
    "                                                         df_not_unknow[\"CEP_COBRANCA_CEDENTE\"])\n",
    "df_not_unknow[\"DIST_SACADO_COBRANCA_SACADO\"] = np.vectorize(paresDistancia)(df_not_unknow[\"CEP_SEDE_SACADO\"],\n",
    "                                                         df_not_unknow[\"CEP_COBRANCA_SACADO\"])\n",
    "df_not_unknow[\"DIST_SACADO_AGENCIA_PAGEMENTO_TITULO\"] = np.vectorize(paresDistancia)(df_not_unknow[\"CEP_SEDE_SACADO\"],\n",
    "                                                         df_not_unknow[\"CEP_AGENCIA_PAGEMENTO_TITULO\"])\n",
    "df_not_unknow[\"DIST_SACADO_TED\"] = np.vectorize(paresDistancia)(df_not_unknow[\"CEP_SEDE_SACADO\"],\n",
    "                                                         df_not_unknow[\"CEP_TED\"])\n",
    "#----------- (COBRANCA_CEDENTE)\n",
    "\n",
    "df_not_unknow[\"DIST_COBRANCA_CEDENTE_COBRANCA_SACADO\"] = np.vectorize(paresDistancia)(df_not_unknow[\"CEP_COBRANCA_CEDENTE\"],\n",
    "                                                         df_not_unknow[\"CEP_COBRANCA_SACADO\"])\n",
    "df_not_unknow[\"DIST_COBRANCA_CEDENTE_AGENCIA_PAGEMENTO_TITULO\"] = np.vectorize(paresDistancia)(df_not_unknow[\"CEP_COBRANCA_CEDENTE\"],\n",
    "                                                         df_not_unknow[\"CEP_AGENCIA_PAGEMENTO_TITULO\"])\n",
    "df_not_unknow[\"DIST_COBRANCA_CEDENTE_TED\"] = np.vectorize(paresDistancia)(df_not_unknow[\"CEP_COBRANCA_CEDENTE\"],\n",
    "                                                         df_not_unknow[\"CEP_TED\"])\n",
    "\n",
    "#----------- (COBRANCA_SACADO)\n",
    "\n",
    "df_not_unknow[\"DIST_COBRANCA_SACADO_AGENCIA_PAGEMENTO_TITULO\"] = np.vectorize(paresDistancia)(df_not_unknow[\"CEP_COBRANCA_SACADO\"],\n",
    "                                                         df_not_unknow[\"CEP_AGENCIA_PAGEMENTO_TITULO\"])\n",
    "df_not_unknow[\"DIST_COBRANCA_SACADO_TED\"] = np.vectorize(paresDistancia)(df_not_unknow[\"CEP_COBRANCA_SACADO\"],\n",
    "                                                         df_not_unknow[\"CEP_TED\"])\n",
    "\n",
    "#----------- (CAGENCIA_PAGEMENTO_TITULO)\n",
    "\n",
    "df_not_unknow[\"DIST_AGENCIA_PAGEMENTO_TITULO_TED\"] = np.vectorize(paresDistancia)(df_not_unknow[\"CEP_AGENCIA_PAGEMENTO_TITULO\"],\n",
    "                                                         df_not_unknow[\"CEP_TED\"])\n",
    "\n",
    "df_not_unknow.head()"
   ]
  },
  {
   "cell_type": "markdown",
   "metadata": {},
   "source": [
    "Codificar dados object"
   ]
  },
  {
   "cell_type": "code",
   "execution_count": 13,
   "metadata": {},
   "outputs": [],
   "source": [
    "def encodeFeature(df, column):\n",
    "    '''\n",
    "    Funcao para codificar dados sensiveis\n",
    "    \n",
    "    Retorna o encoder do atributo já fitado\n",
    "    '''\n",
    "    \n",
    "    encoder = preprocessing.LabelEncoder()\n",
    "    encoder.fit(df[column])\n",
    "    \n",
    "    return encoder"
   ]
  },
  {
   "cell_type": "code",
   "execution_count": 14,
   "metadata": {},
   "outputs": [],
   "source": [
    "# Codifica cada uma das variaveis sensiveis para um dicionario separado\n",
    "\n",
    "# encoder_corretor = encodeFeature(df, \"CORRETOR\")\n",
    "# encoder_plataforma = encodeFeature(df, \"PLATAFORMA\") \n",
    "# encoder_assistente = encodeFeature(df, \"ASSISTENTE\")\n",
    "# encoder_regional = encodeFeature(df, \"REGIONAL\")\n",
    "# encoder_superintendente = encodeFeature(df, \"SUPERINTENDENTE\")"
   ]
  },
  {
   "cell_type": "code",
   "execution_count": 15,
   "metadata": {},
   "outputs": [],
   "source": [
    "def valorTitulo(val_pago_titulo, valor_titulo):\n",
    "    if(val_pago_titulo == valor_titulo):\n",
    "        return 1\n",
    "    else:\n",
    "        return 0\n",
    "\n",
    "df_not_unknow[\"VALOR_TITULO_CHECAGEM\"] = np.vectorize(valorTitulo)(df_not_unknow[\"VALOR_PAGO_TITULO\"],\n",
    "                                                         df_not_unknow[\"VALOR_TITULO\"])"
   ]
  },
  {
   "cell_type": "code",
   "execution_count": 16,
   "metadata": {},
   "outputs": [],
   "source": [
    "#def dataTitulo(data_pagamento_titulo, data_vencimento_titulo):\n",
    "    #if(data_pagamento_titulo == data_vencimento_titulo):\n",
    "    #    return 1\n",
    "    #else:\n",
    "    #    return 0\n",
    "\n",
    "#df_not_unknow[\"VALOR_TITULO_CHECAGEM\"] = np.vectorize(valorTitulo)(df_not_unknow[\"VALOR_PAGO_TITULO\"], df_not_unknow[\"VALOR_TITULO\"])"
   ]
  },
  {
   "cell_type": "code",
   "execution_count": 17,
   "metadata": {},
   "outputs": [],
   "source": [
    "# codigo_corretor = encoder_corretor.transform(df[\"CORRETOR\"])\n",
    "# codigo_plataforma = encoder_plataforma.transform(df[\"PLATAFORMA\"])\n",
    "# codigo_assistente = encoder_assistente.transform(df[\"ASSISTENTE\"])\n",
    "# codigo_regional = encoder_regional.transform(df[\"REGIONAL\"])\n",
    "# codigo_superintendente = encoder_superintendente.transform(df[\"SUPERINTENDENTE\"])"
   ]
  },
  {
   "cell_type": "code",
   "execution_count": 18,
   "metadata": {},
   "outputs": [
    {
     "data": {
      "text/plain": [
       "pandas._libs.tslibs.timestamps.Timestamp"
      ]
     },
     "execution_count": 18,
     "metadata": {},
     "output_type": "execute_result"
    }
   ],
   "source": [
    "type(df_not_unknow[\"DATA_VENCIMENTO_TITULO\"].iloc[0])"
   ]
  },
  {
   "cell_type": "code",
   "execution_count": 19,
   "metadata": {},
   "outputs": [
    {
     "data": {
      "text/html": [
       "<div>\n",
       "<style scoped>\n",
       "    .dataframe tbody tr th:only-of-type {\n",
       "        vertical-align: middle;\n",
       "    }\n",
       "\n",
       "    .dataframe tbody tr th {\n",
       "        vertical-align: top;\n",
       "    }\n",
       "\n",
       "    .dataframe thead th {\n",
       "        text-align: right;\n",
       "    }\n",
       "</style>\n",
       "<table border=\"1\" class=\"dataframe\">\n",
       "  <thead>\n",
       "    <tr style=\"text-align: right;\">\n",
       "      <th></th>\n",
       "      <th>CNPJ_CEDENTE</th>\n",
       "      <th>CEP_SEDE_CEDENTE</th>\n",
       "      <th>LATITUDE_CEDENTE_SEDE</th>\n",
       "      <th>LONGITUDE_CEDENTE_SEDE</th>\n",
       "      <th>CEP_COBRANCA_CEDENTE</th>\n",
       "      <th>LATITUDE_CEDENTE_COBRANCA</th>\n",
       "      <th>LONGITUDE_CEDENTE_COBRANCA</th>\n",
       "      <th>CNPJ_SACADO</th>\n",
       "      <th>CEP_SEDE_SACADO</th>\n",
       "      <th>LATITUDE_SACADO_SEDE</th>\n",
       "      <th>...</th>\n",
       "      <th>DIST_SACADO_AGENCIA_PAGEMENTO_TITULO</th>\n",
       "      <th>DIST_SACADO_TED</th>\n",
       "      <th>DIST_COBRANCA_CEDENTE_COBRANCA_SACADO</th>\n",
       "      <th>DIST_COBRANCA_CEDENTE_AGENCIA_PAGEMENTO_TITULO</th>\n",
       "      <th>DIST_COBRANCA_CEDENTE_TED</th>\n",
       "      <th>DIST_COBRANCA_SACADO_AGENCIA_PAGEMENTO_TITULO</th>\n",
       "      <th>DIST_COBRANCA_SACADO_TED</th>\n",
       "      <th>DIST_AGENCIA_PAGEMENTO_TITULO_TED</th>\n",
       "      <th>VALOR_TITULO_CHECAGEM</th>\n",
       "      <th>DATA_TITULO</th>\n",
       "    </tr>\n",
       "  </thead>\n",
       "  <tbody>\n",
       "    <tr>\n",
       "      <th>3</th>\n",
       "      <td>196526000199</td>\n",
       "      <td>80010050</td>\n",
       "      <td>-25.43568</td>\n",
       "      <td>-49.27595</td>\n",
       "      <td>80010050.0</td>\n",
       "      <td>-25.43568</td>\n",
       "      <td>-49.27595</td>\n",
       "      <td>33000167000101</td>\n",
       "      <td>20031912</td>\n",
       "      <td>-22.91029</td>\n",
       "      <td>...</td>\n",
       "      <td>1</td>\n",
       "      <td>1</td>\n",
       "      <td>1</td>\n",
       "      <td>1</td>\n",
       "      <td>4</td>\n",
       "      <td>1</td>\n",
       "      <td>1</td>\n",
       "      <td>1</td>\n",
       "      <td>1</td>\n",
       "      <td>0</td>\n",
       "    </tr>\n",
       "    <tr>\n",
       "      <th>7</th>\n",
       "      <td>873594000145</td>\n",
       "      <td>13480171</td>\n",
       "      <td>-22.56264</td>\n",
       "      <td>-47.40648</td>\n",
       "      <td>13484200.0</td>\n",
       "      <td>-22.53211</td>\n",
       "      <td>-47.43200</td>\n",
       "      <td>278016000160</td>\n",
       "      <td>13490970</td>\n",
       "      <td>-22.48025</td>\n",
       "      <td>...</td>\n",
       "      <td>4</td>\n",
       "      <td>3</td>\n",
       "      <td>4</td>\n",
       "      <td>4</td>\n",
       "      <td>3</td>\n",
       "      <td>4</td>\n",
       "      <td>3</td>\n",
       "      <td>3</td>\n",
       "      <td>1</td>\n",
       "      <td>0</td>\n",
       "    </tr>\n",
       "    <tr>\n",
       "      <th>8</th>\n",
       "      <td>795288000138</td>\n",
       "      <td>95112130</td>\n",
       "      <td>-29.17493</td>\n",
       "      <td>-51.24022</td>\n",
       "      <td>95112130.0</td>\n",
       "      <td>-29.17493</td>\n",
       "      <td>-51.24022</td>\n",
       "      <td>2373466000168</td>\n",
       "      <td>87070050</td>\n",
       "      <td>-23.42352</td>\n",
       "      <td>...</td>\n",
       "      <td>4</td>\n",
       "      <td>1</td>\n",
       "      <td>1</td>\n",
       "      <td>1</td>\n",
       "      <td>3</td>\n",
       "      <td>4</td>\n",
       "      <td>1</td>\n",
       "      <td>1</td>\n",
       "      <td>1</td>\n",
       "      <td>0</td>\n",
       "    </tr>\n",
       "    <tr>\n",
       "      <th>9</th>\n",
       "      <td>795288000138</td>\n",
       "      <td>95112130</td>\n",
       "      <td>-29.17493</td>\n",
       "      <td>-51.24022</td>\n",
       "      <td>95112130.0</td>\n",
       "      <td>-29.17493</td>\n",
       "      <td>-51.24022</td>\n",
       "      <td>87488847000145</td>\n",
       "      <td>97095800</td>\n",
       "      <td>-29.69949</td>\n",
       "      <td>...</td>\n",
       "      <td>1</td>\n",
       "      <td>2</td>\n",
       "      <td>2</td>\n",
       "      <td>1</td>\n",
       "      <td>3</td>\n",
       "      <td>1</td>\n",
       "      <td>2</td>\n",
       "      <td>1</td>\n",
       "      <td>1</td>\n",
       "      <td>0</td>\n",
       "    </tr>\n",
       "    <tr>\n",
       "      <th>12</th>\n",
       "      <td>873594000145</td>\n",
       "      <td>13480171</td>\n",
       "      <td>-22.56264</td>\n",
       "      <td>-47.40648</td>\n",
       "      <td>13484200.0</td>\n",
       "      <td>-22.53211</td>\n",
       "      <td>-47.43200</td>\n",
       "      <td>73070294000100</td>\n",
       "      <td>13480308</td>\n",
       "      <td>-22.58501</td>\n",
       "      <td>...</td>\n",
       "      <td>3</td>\n",
       "      <td>3</td>\n",
       "      <td>4</td>\n",
       "      <td>3</td>\n",
       "      <td>3</td>\n",
       "      <td>3</td>\n",
       "      <td>3</td>\n",
       "      <td>3</td>\n",
       "      <td>1</td>\n",
       "      <td>0</td>\n",
       "    </tr>\n",
       "  </tbody>\n",
       "</table>\n",
       "<p>5 rows × 51 columns</p>\n",
       "</div>"
      ],
      "text/plain": [
       "    CNPJ_CEDENTE  CEP_SEDE_CEDENTE  LATITUDE_CEDENTE_SEDE  \\\n",
       "3   196526000199          80010050              -25.43568   \n",
       "7   873594000145          13480171              -22.56264   \n",
       "8   795288000138          95112130              -29.17493   \n",
       "9   795288000138          95112130              -29.17493   \n",
       "12  873594000145          13480171              -22.56264   \n",
       "\n",
       "    LONGITUDE_CEDENTE_SEDE  CEP_COBRANCA_CEDENTE  LATITUDE_CEDENTE_COBRANCA  \\\n",
       "3                -49.27595            80010050.0                  -25.43568   \n",
       "7                -47.40648            13484200.0                  -22.53211   \n",
       "8                -51.24022            95112130.0                  -29.17493   \n",
       "9                -51.24022            95112130.0                  -29.17493   \n",
       "12               -47.40648            13484200.0                  -22.53211   \n",
       "\n",
       "    LONGITUDE_CEDENTE_COBRANCA     CNPJ_SACADO CEP_SEDE_SACADO  \\\n",
       "3                    -49.27595  33000167000101        20031912   \n",
       "7                    -47.43200    278016000160        13490970   \n",
       "8                    -51.24022   2373466000168        87070050   \n",
       "9                    -51.24022  87488847000145        97095800   \n",
       "12                   -47.43200  73070294000100        13480308   \n",
       "\n",
       "    LATITUDE_SACADO_SEDE     ...      DIST_SACADO_AGENCIA_PAGEMENTO_TITULO  \\\n",
       "3              -22.91029     ...                                         1   \n",
       "7              -22.48025     ...                                         4   \n",
       "8              -23.42352     ...                                         4   \n",
       "9              -29.69949     ...                                         1   \n",
       "12             -22.58501     ...                                         3   \n",
       "\n",
       "    DIST_SACADO_TED  DIST_COBRANCA_CEDENTE_COBRANCA_SACADO  \\\n",
       "3                 1                                      1   \n",
       "7                 3                                      4   \n",
       "8                 1                                      1   \n",
       "9                 2                                      2   \n",
       "12                3                                      4   \n",
       "\n",
       "    DIST_COBRANCA_CEDENTE_AGENCIA_PAGEMENTO_TITULO  DIST_COBRANCA_CEDENTE_TED  \\\n",
       "3                                                1                          4   \n",
       "7                                                4                          3   \n",
       "8                                                1                          3   \n",
       "9                                                1                          3   \n",
       "12                                               3                          3   \n",
       "\n",
       "   DIST_COBRANCA_SACADO_AGENCIA_PAGEMENTO_TITULO  DIST_COBRANCA_SACADO_TED  \\\n",
       "3                                              1                         1   \n",
       "7                                              4                         3   \n",
       "8                                              4                         1   \n",
       "9                                              1                         2   \n",
       "12                                             3                         3   \n",
       "\n",
       "    DIST_AGENCIA_PAGEMENTO_TITULO_TED VALOR_TITULO_CHECAGEM DATA_TITULO  \n",
       "3                                   1                     1           0  \n",
       "7                                   3                     1           0  \n",
       "8                                   1                     1           0  \n",
       "9                                   1                     1           0  \n",
       "12                                  3                     1           0  \n",
       "\n",
       "[5 rows x 51 columns]"
      ]
     },
     "execution_count": 19,
     "metadata": {},
     "output_type": "execute_result"
    }
   ],
   "source": [
    "#limit = [pd.Timedelta(30,unit='d'), pd.Timedelta(60,unit='d'), pd.Timedelta(90,unit='d')]\n",
    "limit = [30, 60, 90]\n",
    "\n",
    "def dataTitulo(data_pagamento_titulo, data_vencimento_titulo):\n",
    "    try:\n",
    "        dif = data_pagamento_titulo - data_vencimento_titulo\n",
    "        #dif = 0\n",
    "        #print(type(data_pagamento_titulo))\n",
    "        #if dif == pd.Timedelta(0,unit='d'):\n",
    "        if dif <= 0:\n",
    "            return 0\n",
    "        for data in range(len(limit)):\n",
    "            if(dif <= limit[data]):\n",
    "                return data + 1\n",
    "\n",
    "        return len(limit) + 1\n",
    "    except(TypeError):\n",
    "        return -1\n",
    "\n",
    "df_not_unknow[\"DATA_TITULO\"] = np.vectorize(dataTitulo)(df_not_unknow[\"DATA_PAGAMENTO_TITULO\"],\n",
    "                                                         df_not_unknow[\"DATA_VENCIMENTO_TITULO\"])\n",
    "\n",
    "#df_not_unknow[df_not_unknow[\"DATA_TITULO\"] == -1][\"DATA_PAGAMENTO_TITULO\"]\n",
    "\n",
    "df_not_unknow.head()\n",
    "\n",
    "#df_not_unknow[\"DATA_PAGAMENTO_TITULO\"].head()\n",
    "#l1 = (df_not_unknow[\"DATA_PAGAMENTO_TITULO\"].iloc[0] - df_not_unknow[\"DATA_PAGAMENTO_TITULO\"].iloc[1]) > pd.Timedelta(5,unit='d')\n",
    "#l1\n",
    "\n",
    "#pd.to_datetime(df_not_unknow[\"DATA_PAGAMENTO_TITULO\"], format='%Y-%m-%d %H:%M:%S')"
   ]
  },
  {
   "cell_type": "code",
   "execution_count": 20,
   "metadata": {},
   "outputs": [
    {
     "data": {
      "text/html": [
       "<div>\n",
       "<style scoped>\n",
       "    .dataframe tbody tr th:only-of-type {\n",
       "        vertical-align: middle;\n",
       "    }\n",
       "\n",
       "    .dataframe tbody tr th {\n",
       "        vertical-align: top;\n",
       "    }\n",
       "\n",
       "    .dataframe thead th {\n",
       "        text-align: right;\n",
       "    }\n",
       "</style>\n",
       "<table border=\"1\" class=\"dataframe\">\n",
       "  <thead>\n",
       "    <tr style=\"text-align: right;\">\n",
       "      <th></th>\n",
       "      <th>CNPJ_CEDENTE</th>\n",
       "      <th>CEP_SEDE_CEDENTE</th>\n",
       "      <th>LATITUDE_CEDENTE_SEDE</th>\n",
       "      <th>LONGITUDE_CEDENTE_SEDE</th>\n",
       "      <th>CEP_COBRANCA_CEDENTE</th>\n",
       "      <th>LATITUDE_CEDENTE_COBRANCA</th>\n",
       "      <th>LONGITUDE_CEDENTE_COBRANCA</th>\n",
       "      <th>CNPJ_SACADO</th>\n",
       "      <th>CEP_SEDE_SACADO</th>\n",
       "      <th>LATITUDE_SACADO_SEDE</th>\n",
       "      <th>...</th>\n",
       "      <th>DIST_SACADO_TED</th>\n",
       "      <th>DIST_COBRANCA_CEDENTE_COBRANCA_SACADO</th>\n",
       "      <th>DIST_COBRANCA_CEDENTE_AGENCIA_PAGEMENTO_TITULO</th>\n",
       "      <th>DIST_COBRANCA_CEDENTE_TED</th>\n",
       "      <th>DIST_COBRANCA_SACADO_AGENCIA_PAGEMENTO_TITULO</th>\n",
       "      <th>DIST_COBRANCA_SACADO_TED</th>\n",
       "      <th>DIST_AGENCIA_PAGEMENTO_TITULO_TED</th>\n",
       "      <th>VALOR_TITULO_CHECAGEM</th>\n",
       "      <th>DATA_TITULO</th>\n",
       "      <th>LIMITE_VAL</th>\n",
       "    </tr>\n",
       "  </thead>\n",
       "  <tbody>\n",
       "    <tr>\n",
       "      <th>3</th>\n",
       "      <td>196526000199</td>\n",
       "      <td>80010050</td>\n",
       "      <td>-25.43568</td>\n",
       "      <td>-49.27595</td>\n",
       "      <td>80010050.0</td>\n",
       "      <td>-25.43568</td>\n",
       "      <td>-49.27595</td>\n",
       "      <td>33000167000101</td>\n",
       "      <td>20031912</td>\n",
       "      <td>-22.91029</td>\n",
       "      <td>...</td>\n",
       "      <td>1</td>\n",
       "      <td>1</td>\n",
       "      <td>1</td>\n",
       "      <td>4</td>\n",
       "      <td>1</td>\n",
       "      <td>1</td>\n",
       "      <td>1</td>\n",
       "      <td>1</td>\n",
       "      <td>0</td>\n",
       "      <td>1</td>\n",
       "    </tr>\n",
       "    <tr>\n",
       "      <th>7</th>\n",
       "      <td>873594000145</td>\n",
       "      <td>13480171</td>\n",
       "      <td>-22.56264</td>\n",
       "      <td>-47.40648</td>\n",
       "      <td>13484200.0</td>\n",
       "      <td>-22.53211</td>\n",
       "      <td>-47.43200</td>\n",
       "      <td>278016000160</td>\n",
       "      <td>13490970</td>\n",
       "      <td>-22.48025</td>\n",
       "      <td>...</td>\n",
       "      <td>3</td>\n",
       "      <td>4</td>\n",
       "      <td>4</td>\n",
       "      <td>3</td>\n",
       "      <td>4</td>\n",
       "      <td>3</td>\n",
       "      <td>3</td>\n",
       "      <td>1</td>\n",
       "      <td>0</td>\n",
       "      <td>1</td>\n",
       "    </tr>\n",
       "    <tr>\n",
       "      <th>8</th>\n",
       "      <td>795288000138</td>\n",
       "      <td>95112130</td>\n",
       "      <td>-29.17493</td>\n",
       "      <td>-51.24022</td>\n",
       "      <td>95112130.0</td>\n",
       "      <td>-29.17493</td>\n",
       "      <td>-51.24022</td>\n",
       "      <td>2373466000168</td>\n",
       "      <td>87070050</td>\n",
       "      <td>-23.42352</td>\n",
       "      <td>...</td>\n",
       "      <td>1</td>\n",
       "      <td>1</td>\n",
       "      <td>1</td>\n",
       "      <td>3</td>\n",
       "      <td>4</td>\n",
       "      <td>1</td>\n",
       "      <td>1</td>\n",
       "      <td>1</td>\n",
       "      <td>0</td>\n",
       "      <td>1</td>\n",
       "    </tr>\n",
       "    <tr>\n",
       "      <th>9</th>\n",
       "      <td>795288000138</td>\n",
       "      <td>95112130</td>\n",
       "      <td>-29.17493</td>\n",
       "      <td>-51.24022</td>\n",
       "      <td>95112130.0</td>\n",
       "      <td>-29.17493</td>\n",
       "      <td>-51.24022</td>\n",
       "      <td>87488847000145</td>\n",
       "      <td>97095800</td>\n",
       "      <td>-29.69949</td>\n",
       "      <td>...</td>\n",
       "      <td>2</td>\n",
       "      <td>2</td>\n",
       "      <td>1</td>\n",
       "      <td>3</td>\n",
       "      <td>1</td>\n",
       "      <td>2</td>\n",
       "      <td>1</td>\n",
       "      <td>1</td>\n",
       "      <td>0</td>\n",
       "      <td>1</td>\n",
       "    </tr>\n",
       "    <tr>\n",
       "      <th>12</th>\n",
       "      <td>873594000145</td>\n",
       "      <td>13480171</td>\n",
       "      <td>-22.56264</td>\n",
       "      <td>-47.40648</td>\n",
       "      <td>13484200.0</td>\n",
       "      <td>-22.53211</td>\n",
       "      <td>-47.43200</td>\n",
       "      <td>73070294000100</td>\n",
       "      <td>13480308</td>\n",
       "      <td>-22.58501</td>\n",
       "      <td>...</td>\n",
       "      <td>3</td>\n",
       "      <td>4</td>\n",
       "      <td>3</td>\n",
       "      <td>3</td>\n",
       "      <td>3</td>\n",
       "      <td>3</td>\n",
       "      <td>3</td>\n",
       "      <td>1</td>\n",
       "      <td>0</td>\n",
       "      <td>1</td>\n",
       "    </tr>\n",
       "  </tbody>\n",
       "</table>\n",
       "<p>5 rows × 52 columns</p>\n",
       "</div>"
      ],
      "text/plain": [
       "    CNPJ_CEDENTE  CEP_SEDE_CEDENTE  LATITUDE_CEDENTE_SEDE  \\\n",
       "3   196526000199          80010050              -25.43568   \n",
       "7   873594000145          13480171              -22.56264   \n",
       "8   795288000138          95112130              -29.17493   \n",
       "9   795288000138          95112130              -29.17493   \n",
       "12  873594000145          13480171              -22.56264   \n",
       "\n",
       "    LONGITUDE_CEDENTE_SEDE  CEP_COBRANCA_CEDENTE  LATITUDE_CEDENTE_COBRANCA  \\\n",
       "3                -49.27595            80010050.0                  -25.43568   \n",
       "7                -47.40648            13484200.0                  -22.53211   \n",
       "8                -51.24022            95112130.0                  -29.17493   \n",
       "9                -51.24022            95112130.0                  -29.17493   \n",
       "12               -47.40648            13484200.0                  -22.53211   \n",
       "\n",
       "    LONGITUDE_CEDENTE_COBRANCA     CNPJ_SACADO CEP_SEDE_SACADO  \\\n",
       "3                    -49.27595  33000167000101        20031912   \n",
       "7                    -47.43200    278016000160        13490970   \n",
       "8                    -51.24022   2373466000168        87070050   \n",
       "9                    -51.24022  87488847000145        97095800   \n",
       "12                   -47.43200  73070294000100        13480308   \n",
       "\n",
       "    LATITUDE_SACADO_SEDE    ...      DIST_SACADO_TED  \\\n",
       "3              -22.91029    ...                    1   \n",
       "7              -22.48025    ...                    3   \n",
       "8              -23.42352    ...                    1   \n",
       "9              -29.69949    ...                    2   \n",
       "12             -22.58501    ...                    3   \n",
       "\n",
       "    DIST_COBRANCA_CEDENTE_COBRANCA_SACADO  \\\n",
       "3                                       1   \n",
       "7                                       4   \n",
       "8                                       1   \n",
       "9                                       2   \n",
       "12                                      4   \n",
       "\n",
       "    DIST_COBRANCA_CEDENTE_AGENCIA_PAGEMENTO_TITULO  DIST_COBRANCA_CEDENTE_TED  \\\n",
       "3                                                1                          4   \n",
       "7                                                4                          3   \n",
       "8                                                1                          3   \n",
       "9                                                1                          3   \n",
       "12                                               3                          3   \n",
       "\n",
       "    DIST_COBRANCA_SACADO_AGENCIA_PAGEMENTO_TITULO DIST_COBRANCA_SACADO_TED  \\\n",
       "3                                               1                        1   \n",
       "7                                               4                        3   \n",
       "8                                               4                        1   \n",
       "9                                               1                        2   \n",
       "12                                              3                        3   \n",
       "\n",
       "    DIST_AGENCIA_PAGEMENTO_TITULO_TED  VALOR_TITULO_CHECAGEM DATA_TITULO  \\\n",
       "3                                   1                      1           0   \n",
       "7                                   3                      1           0   \n",
       "8                                   1                      1           0   \n",
       "9                                   1                      1           0   \n",
       "12                                  3                      1           0   \n",
       "\n",
       "   LIMITE_VAL  \n",
       "3           1  \n",
       "7           1  \n",
       "8           1  \n",
       "9           1  \n",
       "12          1  \n",
       "\n",
       "[5 rows x 52 columns]"
      ]
     },
     "execution_count": 20,
     "metadata": {},
     "output_type": "execute_result"
    }
   ],
   "source": [
    "def limiteVal(limit):\n",
    "    if(limit == 30):\n",
    "        return 1\n",
    "    else:\n",
    "        return 0\n",
    "\n",
    "df_not_unknow[\"LIMITE_VAL\"] = np.vectorize(limiteVal)(df_not_unknow[\"LIMITE\"])\n",
    "\n",
    "df_not_unknow.head()"
   ]
  },
  {
   "cell_type": "code",
   "execution_count": 21,
   "metadata": {},
   "outputs": [
    {
     "data": {
      "text/html": [
       "<div>\n",
       "<style scoped>\n",
       "    .dataframe tbody tr th:only-of-type {\n",
       "        vertical-align: middle;\n",
       "    }\n",
       "\n",
       "    .dataframe tbody tr th {\n",
       "        vertical-align: top;\n",
       "    }\n",
       "\n",
       "    .dataframe thead th {\n",
       "        text-align: right;\n",
       "    }\n",
       "</style>\n",
       "<table border=\"1\" class=\"dataframe\">\n",
       "  <thead>\n",
       "    <tr style=\"text-align: right;\">\n",
       "      <th></th>\n",
       "      <th>CNPJ_CEDENTE</th>\n",
       "      <th>CEP_SEDE_CEDENTE</th>\n",
       "      <th>LATITUDE_CEDENTE_SEDE</th>\n",
       "      <th>LONGITUDE_CEDENTE_SEDE</th>\n",
       "      <th>CEP_COBRANCA_CEDENTE</th>\n",
       "      <th>LATITUDE_CEDENTE_COBRANCA</th>\n",
       "      <th>LONGITUDE_CEDENTE_COBRANCA</th>\n",
       "      <th>CNPJ_SACADO</th>\n",
       "      <th>CEP_SEDE_SACADO</th>\n",
       "      <th>LATITUDE_SACADO_SEDE</th>\n",
       "      <th>...</th>\n",
       "      <th>DIST_SACADO_TED</th>\n",
       "      <th>DIST_COBRANCA_CEDENTE_COBRANCA_SACADO</th>\n",
       "      <th>DIST_COBRANCA_CEDENTE_AGENCIA_PAGEMENTO_TITULO</th>\n",
       "      <th>DIST_COBRANCA_CEDENTE_TED</th>\n",
       "      <th>DIST_COBRANCA_SACADO_AGENCIA_PAGEMENTO_TITULO</th>\n",
       "      <th>DIST_COBRANCA_SACADO_TED</th>\n",
       "      <th>DIST_AGENCIA_PAGEMENTO_TITULO_TED</th>\n",
       "      <th>VALOR_TITULO_CHECAGEM</th>\n",
       "      <th>DATA_TITULO</th>\n",
       "      <th>LIMITE_VAL</th>\n",
       "    </tr>\n",
       "  </thead>\n",
       "  <tbody>\n",
       "    <tr>\n",
       "      <th>9716</th>\n",
       "      <td>81315426000136</td>\n",
       "      <td>89282427</td>\n",
       "      <td>-26.22288</td>\n",
       "      <td>-49.34962</td>\n",
       "      <td>89282427.0</td>\n",
       "      <td>-26.22288</td>\n",
       "      <td>-49.34962</td>\n",
       "      <td>73936965000164</td>\n",
       "      <td>98794440</td>\n",
       "      <td>0.000000</td>\n",
       "      <td>...</td>\n",
       "      <td>1</td>\n",
       "      <td>1</td>\n",
       "      <td>1</td>\n",
       "      <td>4</td>\n",
       "      <td>3</td>\n",
       "      <td>1</td>\n",
       "      <td>1</td>\n",
       "      <td>1</td>\n",
       "      <td>0</td>\n",
       "      <td>1</td>\n",
       "    </tr>\n",
       "    <tr>\n",
       "      <th>9719</th>\n",
       "      <td>81315426000136</td>\n",
       "      <td>89282427</td>\n",
       "      <td>-26.22288</td>\n",
       "      <td>-49.34962</td>\n",
       "      <td>89282427.0</td>\n",
       "      <td>-26.22288</td>\n",
       "      <td>-49.34962</td>\n",
       "      <td>11129379000150</td>\n",
       "      <td>98780540</td>\n",
       "      <td>-27.863204</td>\n",
       "      <td>...</td>\n",
       "      <td>1</td>\n",
       "      <td>1</td>\n",
       "      <td>1</td>\n",
       "      <td>4</td>\n",
       "      <td>1</td>\n",
       "      <td>1</td>\n",
       "      <td>1</td>\n",
       "      <td>1</td>\n",
       "      <td>0</td>\n",
       "      <td>1</td>\n",
       "    </tr>\n",
       "    <tr>\n",
       "      <th>9720</th>\n",
       "      <td>81315426000136</td>\n",
       "      <td>89282427</td>\n",
       "      <td>-26.22288</td>\n",
       "      <td>-49.34962</td>\n",
       "      <td>89282427.0</td>\n",
       "      <td>-26.22288</td>\n",
       "      <td>-49.34962</td>\n",
       "      <td>11129379000150</td>\n",
       "      <td>98780540</td>\n",
       "      <td>-27.863204</td>\n",
       "      <td>...</td>\n",
       "      <td>1</td>\n",
       "      <td>1</td>\n",
       "      <td>1</td>\n",
       "      <td>4</td>\n",
       "      <td>1</td>\n",
       "      <td>1</td>\n",
       "      <td>1</td>\n",
       "      <td>1</td>\n",
       "      <td>0</td>\n",
       "      <td>1</td>\n",
       "    </tr>\n",
       "    <tr>\n",
       "      <th>9728</th>\n",
       "      <td>81315426000136</td>\n",
       "      <td>89282427</td>\n",
       "      <td>-26.22288</td>\n",
       "      <td>-49.34962</td>\n",
       "      <td>89282427.0</td>\n",
       "      <td>-26.22288</td>\n",
       "      <td>-49.34962</td>\n",
       "      <td>57424244000119</td>\n",
       "      <td>07251250</td>\n",
       "      <td>-23.431240</td>\n",
       "      <td>...</td>\n",
       "      <td>1</td>\n",
       "      <td>1</td>\n",
       "      <td>1</td>\n",
       "      <td>4</td>\n",
       "      <td>3</td>\n",
       "      <td>1</td>\n",
       "      <td>1</td>\n",
       "      <td>0</td>\n",
       "      <td>4</td>\n",
       "      <td>1</td>\n",
       "    </tr>\n",
       "    <tr>\n",
       "      <th>9729</th>\n",
       "      <td>81315426000136</td>\n",
       "      <td>89282427</td>\n",
       "      <td>-26.22288</td>\n",
       "      <td>-49.34962</td>\n",
       "      <td>89282427.0</td>\n",
       "      <td>-26.22288</td>\n",
       "      <td>-49.34962</td>\n",
       "      <td>57424244000119</td>\n",
       "      <td>07251250</td>\n",
       "      <td>-23.431240</td>\n",
       "      <td>...</td>\n",
       "      <td>1</td>\n",
       "      <td>1</td>\n",
       "      <td>1</td>\n",
       "      <td>4</td>\n",
       "      <td>3</td>\n",
       "      <td>1</td>\n",
       "      <td>1</td>\n",
       "      <td>0</td>\n",
       "      <td>4</td>\n",
       "      <td>1</td>\n",
       "    </tr>\n",
       "  </tbody>\n",
       "</table>\n",
       "<p>5 rows × 52 columns</p>\n",
       "</div>"
      ],
      "text/plain": [
       "        CNPJ_CEDENTE  CEP_SEDE_CEDENTE  LATITUDE_CEDENTE_SEDE  \\\n",
       "9716  81315426000136          89282427              -26.22288   \n",
       "9719  81315426000136          89282427              -26.22288   \n",
       "9720  81315426000136          89282427              -26.22288   \n",
       "9728  81315426000136          89282427              -26.22288   \n",
       "9729  81315426000136          89282427              -26.22288   \n",
       "\n",
       "      LONGITUDE_CEDENTE_SEDE  CEP_COBRANCA_CEDENTE  LATITUDE_CEDENTE_COBRANCA  \\\n",
       "9716               -49.34962            89282427.0                  -26.22288   \n",
       "9719               -49.34962            89282427.0                  -26.22288   \n",
       "9720               -49.34962            89282427.0                  -26.22288   \n",
       "9728               -49.34962            89282427.0                  -26.22288   \n",
       "9729               -49.34962            89282427.0                  -26.22288   \n",
       "\n",
       "      LONGITUDE_CEDENTE_COBRANCA     CNPJ_SACADO CEP_SEDE_SACADO  \\\n",
       "9716                   -49.34962  73936965000164        98794440   \n",
       "9719                   -49.34962  11129379000150        98780540   \n",
       "9720                   -49.34962  11129379000150        98780540   \n",
       "9728                   -49.34962  57424244000119        07251250   \n",
       "9729                   -49.34962  57424244000119        07251250   \n",
       "\n",
       "      LATITUDE_SACADO_SEDE    ...      DIST_SACADO_TED  \\\n",
       "9716              0.000000    ...                    1   \n",
       "9719            -27.863204    ...                    1   \n",
       "9720            -27.863204    ...                    1   \n",
       "9728            -23.431240    ...                    1   \n",
       "9729            -23.431240    ...                    1   \n",
       "\n",
       "      DIST_COBRANCA_CEDENTE_COBRANCA_SACADO  \\\n",
       "9716                                      1   \n",
       "9719                                      1   \n",
       "9720                                      1   \n",
       "9728                                      1   \n",
       "9729                                      1   \n",
       "\n",
       "      DIST_COBRANCA_CEDENTE_AGENCIA_PAGEMENTO_TITULO  \\\n",
       "9716                                               1   \n",
       "9719                                               1   \n",
       "9720                                               1   \n",
       "9728                                               1   \n",
       "9729                                               1   \n",
       "\n",
       "      DIST_COBRANCA_CEDENTE_TED  \\\n",
       "9716                          4   \n",
       "9719                          4   \n",
       "9720                          4   \n",
       "9728                          4   \n",
       "9729                          4   \n",
       "\n",
       "      DIST_COBRANCA_SACADO_AGENCIA_PAGEMENTO_TITULO DIST_COBRANCA_SACADO_TED  \\\n",
       "9716                                              3                        1   \n",
       "9719                                              1                        1   \n",
       "9720                                              1                        1   \n",
       "9728                                              3                        1   \n",
       "9729                                              3                        1   \n",
       "\n",
       "      DIST_AGENCIA_PAGEMENTO_TITULO_TED  VALOR_TITULO_CHECAGEM DATA_TITULO  \\\n",
       "9716                                  1                      1           0   \n",
       "9719                                  1                      1           0   \n",
       "9720                                  1                      1           0   \n",
       "9728                                  1                      0           4   \n",
       "9729                                  1                      0           4   \n",
       "\n",
       "     LIMITE_VAL  \n",
       "9716          1  \n",
       "9719          1  \n",
       "9720          1  \n",
       "9728          1  \n",
       "9729          1  \n",
       "\n",
       "[5 rows x 52 columns]"
      ]
     },
     "execution_count": 21,
     "metadata": {},
     "output_type": "execute_result"
    }
   ],
   "source": [
    "def qtdBoleto(val):\n",
    "    if(np.isnan(val)):\n",
    "        return -1.0\n",
    "    else:\n",
    "        return val\n",
    "\n",
    "df_not_unknow[\"QUANTIDADE_EMISSAO_SEGUNDA_VIA_BOLETO_TITULO\"] = np.vectorize(qtdBoleto)(df_not_unknow[\"QUANTIDADE_EMISSAO_SEGUNDA_VIA_BOLETO_TITULO\"])\n",
    "\n",
    "df_not_unknow.tail()"
   ]
  },
  {
   "cell_type": "code",
   "execution_count": 22,
   "metadata": {},
   "outputs": [],
   "source": [
    "df_not_unknow_data = df_not_unknow\n",
    "df_not_unknow.drop(\n",
    "        [\"CNPJ_CEDENTE\", \n",
    "         \"CEP_SEDE_CEDENTE\",\n",
    "         \"LATITUDE_CEDENTE_SEDE\",\n",
    "         \"LONGITUDE_CEDENTE_SEDE\", \n",
    "         \"CEP_COBRANCA_CEDENTE\",\n",
    "         \"LATITUDE_CEDENTE_COBRANCA\",\n",
    "         \"LONGITUDE_CEDENTE_COBRANCA\",\n",
    "         \"CNPJ_SACADO\",\n",
    "         \"CEP_SEDE_SACADO\",\n",
    "         \"LATITUDE_SACADO_SEDE\",\n",
    "         \"LONGITUDE_SACADO_SEDE\",\n",
    "         \"CEP_COBRANCA_SACADO\",\n",
    "         \"LATITUDE_SACADO_COBRANCA\",\n",
    "         \"LONGITUDE_SACADO_COBRANCA\",\n",
    "         \"VALOR_PAGO_TITULO\",\n",
    "         \"DATA_PAGAMENTO_TITULO\",\n",
    "         \"VALOR_TITULO\",\n",
    "         \"DATA_VENCIMENTO_TITULO\",\n",
    "         \"DATA_EMISSAO_TITULO\",\n",
    "         \"CEP_AGENCIA_PAGEMENTO_TITULO\",\n",
    "         \"BANCO_PAGAMENTO_TITULO\",\n",
    "         \"AGENCIA_PAGAMENTO_TITULO\",\n",
    "         \"LATITUDE_PAGAMENTO_TITULO\",\n",
    "         \"LONGITUDE_PAGAMENTO_TITULO\",\n",
    "         \"CEP_TED\",\n",
    "         \"BANCO_TED\",\n",
    "         \"AGENCIA_TED\",\n",
    "         \"LATITUDE_PAGAMENTO_OPERACAO\",\n",
    "         \"LONGITUDE_PAGAMENTO_OPERACAO\",\n",
    "         \"LIMITE\",\n",
    "        ], axis=1, inplace=True)"
   ]
  },
  {
   "cell_type": "code",
   "execution_count": 23,
   "metadata": {},
   "outputs": [],
   "source": [
    "df_not_unknow.drop(\n",
    "        [\"DIST_CEDENTE_TED\", \n",
    "         \"DIST_SACADO_TED\",\n",
    "         \"DIST_COBRANCA_CEDENTE_TED\",\n",
    "         \"DIST_COBRANCA_SACADO_TED\", \n",
    "         \"DIST_AGENCIA_PAGEMENTO_TITULO_TED\",\n",
    "         \"DIST_COBRANCA_CEDENTE_AGENCIA_PAGEMENTO_TITULO\",\n",
    "         \"DIST_COBRANCA_SACADO_AGENCIA_PAGEMENTO_TITULO\",\n",
    "         \"DIST_CEDENTE_AGENCIA_PAGEMENTO_TITULO\",\n",
    "         \"DIST_SACADO_AGENCIA_PAGEMENTO_TITULO\"\n",
    "        ], axis=1, inplace=True)"
   ]
  },
  {
   "cell_type": "code",
   "execution_count": 24,
   "metadata": {},
   "outputs": [],
   "source": [
    "df_not_unknow.drop([\"LIMITE_VAL\"], axis=1, inplace=True)"
   ]
  },
  {
   "cell_type": "code",
   "execution_count": 25,
   "metadata": {},
   "outputs": [
    {
     "data": {
      "text/html": [
       "<div>\n",
       "<style scoped>\n",
       "    .dataframe tbody tr th:only-of-type {\n",
       "        vertical-align: middle;\n",
       "    }\n",
       "\n",
       "    .dataframe tbody tr th {\n",
       "        vertical-align: top;\n",
       "    }\n",
       "\n",
       "    .dataframe thead th {\n",
       "        text-align: right;\n",
       "    }\n",
       "</style>\n",
       "<table border=\"1\" class=\"dataframe\">\n",
       "  <thead>\n",
       "    <tr style=\"text-align: right;\">\n",
       "      <th></th>\n",
       "      <th>QUANTIDADE_EMISSAO_SEGUNDA_VIA_BOLETO_TITULO</th>\n",
       "      <th>TIPO_CHECAGEM</th>\n",
       "      <th>PLATAFORMA</th>\n",
       "      <th>CLASSE</th>\n",
       "      <th>DIST_CEDENTE_SACADO</th>\n",
       "      <th>DIST_CEDENTE_COBRANCA_CEDENTE</th>\n",
       "      <th>DIST_CEDENTE_COBRANCA_SACADO</th>\n",
       "      <th>DIST_SACADO_COBRANCA_CEDENTE</th>\n",
       "      <th>DIST_SACADO_COBRANCA_SACADO</th>\n",
       "      <th>DIST_COBRANCA_CEDENTE_COBRANCA_SACADO</th>\n",
       "      <th>VALOR_TITULO_CHECAGEM</th>\n",
       "      <th>DATA_TITULO</th>\n",
       "    </tr>\n",
       "  </thead>\n",
       "  <tbody>\n",
       "    <tr>\n",
       "      <th>3</th>\n",
       "      <td>0.0</td>\n",
       "      <td>0</td>\n",
       "      <td>0</td>\n",
       "      <td>0</td>\n",
       "      <td>1</td>\n",
       "      <td>4</td>\n",
       "      <td>1</td>\n",
       "      <td>1</td>\n",
       "      <td>2</td>\n",
       "      <td>1</td>\n",
       "      <td>1</td>\n",
       "      <td>0</td>\n",
       "    </tr>\n",
       "    <tr>\n",
       "      <th>7</th>\n",
       "      <td>2.0</td>\n",
       "      <td>1</td>\n",
       "      <td>1</td>\n",
       "      <td>0</td>\n",
       "      <td>4</td>\n",
       "      <td>4</td>\n",
       "      <td>4</td>\n",
       "      <td>4</td>\n",
       "      <td>4</td>\n",
       "      <td>4</td>\n",
       "      <td>1</td>\n",
       "      <td>0</td>\n",
       "    </tr>\n",
       "    <tr>\n",
       "      <th>8</th>\n",
       "      <td>0.0</td>\n",
       "      <td>1</td>\n",
       "      <td>0</td>\n",
       "      <td>0</td>\n",
       "      <td>1</td>\n",
       "      <td>4</td>\n",
       "      <td>1</td>\n",
       "      <td>1</td>\n",
       "      <td>4</td>\n",
       "      <td>1</td>\n",
       "      <td>1</td>\n",
       "      <td>0</td>\n",
       "    </tr>\n",
       "    <tr>\n",
       "      <th>9</th>\n",
       "      <td>2.0</td>\n",
       "      <td>1</td>\n",
       "      <td>0</td>\n",
       "      <td>0</td>\n",
       "      <td>2</td>\n",
       "      <td>4</td>\n",
       "      <td>2</td>\n",
       "      <td>2</td>\n",
       "      <td>4</td>\n",
       "      <td>2</td>\n",
       "      <td>1</td>\n",
       "      <td>0</td>\n",
       "    </tr>\n",
       "    <tr>\n",
       "      <th>12</th>\n",
       "      <td>1.0</td>\n",
       "      <td>0</td>\n",
       "      <td>1</td>\n",
       "      <td>0</td>\n",
       "      <td>4</td>\n",
       "      <td>4</td>\n",
       "      <td>4</td>\n",
       "      <td>4</td>\n",
       "      <td>4</td>\n",
       "      <td>4</td>\n",
       "      <td>1</td>\n",
       "      <td>0</td>\n",
       "    </tr>\n",
       "  </tbody>\n",
       "</table>\n",
       "</div>"
      ],
      "text/plain": [
       "    QUANTIDADE_EMISSAO_SEGUNDA_VIA_BOLETO_TITULO  TIPO_CHECAGEM  PLATAFORMA  \\\n",
       "3                                            0.0              0           0   \n",
       "7                                            2.0              1           1   \n",
       "8                                            0.0              1           0   \n",
       "9                                            2.0              1           0   \n",
       "12                                           1.0              0           1   \n",
       "\n",
       "    CLASSE  DIST_CEDENTE_SACADO  DIST_CEDENTE_COBRANCA_CEDENTE  \\\n",
       "3        0                    1                              4   \n",
       "7        0                    4                              4   \n",
       "8        0                    1                              4   \n",
       "9        0                    2                              4   \n",
       "12       0                    4                              4   \n",
       "\n",
       "    DIST_CEDENTE_COBRANCA_SACADO  DIST_SACADO_COBRANCA_CEDENTE  \\\n",
       "3                              1                             1   \n",
       "7                              4                             4   \n",
       "8                              1                             1   \n",
       "9                              2                             2   \n",
       "12                             4                             4   \n",
       "\n",
       "    DIST_SACADO_COBRANCA_SACADO  DIST_COBRANCA_CEDENTE_COBRANCA_SACADO  \\\n",
       "3                             2                                      1   \n",
       "7                             4                                      4   \n",
       "8                             4                                      1   \n",
       "9                             4                                      2   \n",
       "12                            4                                      4   \n",
       "\n",
       "    VALOR_TITULO_CHECAGEM  DATA_TITULO  \n",
       "3                       1            0  \n",
       "7                       1            0  \n",
       "8                       1            0  \n",
       "9                       1            0  \n",
       "12                      1            0  "
      ]
     },
     "execution_count": 25,
     "metadata": {},
     "output_type": "execute_result"
    }
   ],
   "source": [
    "char_cols = df_not_unknow.dtypes.pipe(lambda x: x[x == 'object']).index\n",
    "label_mapping = {}\n",
    "\n",
    "for c in char_cols:\n",
    "    df_not_unknow[c], label_mapping[c] = pd.factorize(df_not_unknow[c])\n",
    "\n",
    "df_not_unknow.head()"
   ]
  },
  {
   "cell_type": "code",
   "execution_count": 26,
   "metadata": {},
   "outputs": [],
   "source": [
    "df_drop = df_not_unknow.drop([\"CLASSE\"], axis=1, inplace=False)"
   ]
  },
  {
   "cell_type": "markdown",
   "metadata": {},
   "source": [
    "## Análise dos Dados\n",
    "A seguir os dados a serem processados serão analisados para maior familiaridade com o problema"
   ]
  },
  {
   "cell_type": "code",
   "execution_count": 27,
   "metadata": {},
   "outputs": [],
   "source": [
    "tam = min(len(nao_praca), len(praca))\n",
    "\n",
    "X_PRACA = pd.DataFrame()\n",
    "X_PRACA = df_not_unknow[df_not_unknow[\"CLASSE\"] == 1]\n",
    "\n",
    "X_NAO_PRACA = pd.DataFrame()\n",
    "X_NAO_PRACA = df_not_unknow[df_not_unknow[\"CLASSE\"] == 0]"
   ]
  },
  {
   "cell_type": "code",
   "execution_count": 28,
   "metadata": {},
   "outputs": [],
   "source": [
    "df_out_svm = df_not_unknow.copy() #CÓPIA"
   ]
  },
  {
   "cell_type": "code",
   "execution_count": 29,
   "metadata": {},
   "outputs": [
    {
     "data": {
      "text/html": [
       "<div>\n",
       "<style scoped>\n",
       "    .dataframe tbody tr th:only-of-type {\n",
       "        vertical-align: middle;\n",
       "    }\n",
       "\n",
       "    .dataframe tbody tr th {\n",
       "        vertical-align: top;\n",
       "    }\n",
       "\n",
       "    .dataframe thead th {\n",
       "        text-align: right;\n",
       "    }\n",
       "</style>\n",
       "<table border=\"1\" class=\"dataframe\">\n",
       "  <thead>\n",
       "    <tr style=\"text-align: right;\">\n",
       "      <th></th>\n",
       "      <th>QUANTIDADE_EMISSAO_SEGUNDA_VIA_BOLETO_TITULO</th>\n",
       "      <th>TIPO_CHECAGEM</th>\n",
       "      <th>PLATAFORMA</th>\n",
       "      <th>CLASSE</th>\n",
       "      <th>DIST_CEDENTE_SACADO</th>\n",
       "      <th>DIST_CEDENTE_COBRANCA_CEDENTE</th>\n",
       "      <th>DIST_CEDENTE_COBRANCA_SACADO</th>\n",
       "      <th>DIST_SACADO_COBRANCA_CEDENTE</th>\n",
       "      <th>DIST_SACADO_COBRANCA_SACADO</th>\n",
       "      <th>DIST_COBRANCA_CEDENTE_COBRANCA_SACADO</th>\n",
       "      <th>VALOR_TITULO_CHECAGEM</th>\n",
       "      <th>DATA_TITULO</th>\n",
       "    </tr>\n",
       "  </thead>\n",
       "  <tbody>\n",
       "    <tr>\n",
       "      <th>0</th>\n",
       "      <td>0.125</td>\n",
       "      <td>0.166667</td>\n",
       "      <td>0.000000</td>\n",
       "      <td>0.0</td>\n",
       "      <td>0.000000</td>\n",
       "      <td>1.0</td>\n",
       "      <td>0.000000</td>\n",
       "      <td>0.000000</td>\n",
       "      <td>0.333333</td>\n",
       "      <td>0.000000</td>\n",
       "      <td>1.0</td>\n",
       "      <td>0.0</td>\n",
       "    </tr>\n",
       "    <tr>\n",
       "      <th>1</th>\n",
       "      <td>0.375</td>\n",
       "      <td>0.333333</td>\n",
       "      <td>0.076923</td>\n",
       "      <td>0.0</td>\n",
       "      <td>1.000000</td>\n",
       "      <td>1.0</td>\n",
       "      <td>1.000000</td>\n",
       "      <td>1.000000</td>\n",
       "      <td>1.000000</td>\n",
       "      <td>1.000000</td>\n",
       "      <td>1.0</td>\n",
       "      <td>0.0</td>\n",
       "    </tr>\n",
       "    <tr>\n",
       "      <th>2</th>\n",
       "      <td>0.125</td>\n",
       "      <td>0.333333</td>\n",
       "      <td>0.000000</td>\n",
       "      <td>0.0</td>\n",
       "      <td>0.000000</td>\n",
       "      <td>1.0</td>\n",
       "      <td>0.000000</td>\n",
       "      <td>0.000000</td>\n",
       "      <td>1.000000</td>\n",
       "      <td>0.000000</td>\n",
       "      <td>1.0</td>\n",
       "      <td>0.0</td>\n",
       "    </tr>\n",
       "    <tr>\n",
       "      <th>3</th>\n",
       "      <td>0.375</td>\n",
       "      <td>0.333333</td>\n",
       "      <td>0.000000</td>\n",
       "      <td>0.0</td>\n",
       "      <td>0.333333</td>\n",
       "      <td>1.0</td>\n",
       "      <td>0.333333</td>\n",
       "      <td>0.333333</td>\n",
       "      <td>1.000000</td>\n",
       "      <td>0.333333</td>\n",
       "      <td>1.0</td>\n",
       "      <td>0.0</td>\n",
       "    </tr>\n",
       "    <tr>\n",
       "      <th>4</th>\n",
       "      <td>0.250</td>\n",
       "      <td>0.166667</td>\n",
       "      <td>0.076923</td>\n",
       "      <td>0.0</td>\n",
       "      <td>1.000000</td>\n",
       "      <td>1.0</td>\n",
       "      <td>1.000000</td>\n",
       "      <td>1.000000</td>\n",
       "      <td>1.000000</td>\n",
       "      <td>1.000000</td>\n",
       "      <td>1.0</td>\n",
       "      <td>0.0</td>\n",
       "    </tr>\n",
       "  </tbody>\n",
       "</table>\n",
       "</div>"
      ],
      "text/plain": [
       "   QUANTIDADE_EMISSAO_SEGUNDA_VIA_BOLETO_TITULO  TIPO_CHECAGEM  PLATAFORMA  \\\n",
       "0                                         0.125       0.166667    0.000000   \n",
       "1                                         0.375       0.333333    0.076923   \n",
       "2                                         0.125       0.333333    0.000000   \n",
       "3                                         0.375       0.333333    0.000000   \n",
       "4                                         0.250       0.166667    0.076923   \n",
       "\n",
       "   CLASSE  DIST_CEDENTE_SACADO  DIST_CEDENTE_COBRANCA_CEDENTE  \\\n",
       "0     0.0             0.000000                            1.0   \n",
       "1     0.0             1.000000                            1.0   \n",
       "2     0.0             0.000000                            1.0   \n",
       "3     0.0             0.333333                            1.0   \n",
       "4     0.0             1.000000                            1.0   \n",
       "\n",
       "   DIST_CEDENTE_COBRANCA_SACADO  DIST_SACADO_COBRANCA_CEDENTE  \\\n",
       "0                      0.000000                      0.000000   \n",
       "1                      1.000000                      1.000000   \n",
       "2                      0.000000                      0.000000   \n",
       "3                      0.333333                      0.333333   \n",
       "4                      1.000000                      1.000000   \n",
       "\n",
       "   DIST_SACADO_COBRANCA_SACADO  DIST_COBRANCA_CEDENTE_COBRANCA_SACADO  \\\n",
       "0                     0.333333                               0.000000   \n",
       "1                     1.000000                               1.000000   \n",
       "2                     1.000000                               0.000000   \n",
       "3                     1.000000                               0.333333   \n",
       "4                     1.000000                               1.000000   \n",
       "\n",
       "   VALOR_TITULO_CHECAGEM  DATA_TITULO  \n",
       "0                    1.0          0.0  \n",
       "1                    1.0          0.0  \n",
       "2                    1.0          0.0  \n",
       "3                    1.0          0.0  \n",
       "4                    1.0          0.0  "
      ]
     },
     "execution_count": 29,
     "metadata": {},
     "output_type": "execute_result"
    }
   ],
   "source": [
    "from sklearn import tree, preprocessing\n",
    "\n",
    "df_out = df_not_unknow.copy()\n",
    "min_max_scaler = preprocessing.MinMaxScaler()\n",
    "df_out = min_max_scaler.fit_transform(df_out)\n",
    "\n",
    "df_out = pd.DataFrame(df_out)\n",
    "\n",
    "df_out.columns = df_not_unknow.columns\n",
    "\n",
    "df_not_unknow = df_out\n",
    "df_not_unknow.head()"
   ]
  },
  {
   "cell_type": "code",
   "execution_count": 30,
   "metadata": {},
   "outputs": [],
   "source": [
    "# df.boxplot(column=\"VALOR_TITULO\", by=\"PLATAFORMA\", figsize=(12,6))"
   ]
  },
  {
   "cell_type": "markdown",
   "metadata": {},
   "source": [
    "### Frequencia de cada classe"
   ]
  },
  {
   "cell_type": "code",
   "execution_count": 31,
   "metadata": {},
   "outputs": [],
   "source": [
    "#df_not_unknow[\"CLASSE\"].value_counts()"
   ]
  },
  {
   "cell_type": "code",
   "execution_count": 32,
   "metadata": {},
   "outputs": [
    {
     "data": {
      "text/plain": [
       "<BarContainer object of 2 artists>"
      ]
     },
     "execution_count": 32,
     "metadata": {},
     "output_type": "execute_result"
    },
    {
     "data": {
      "image/png": "[encoded data removed]",
      "text/plain": [
       "<Figure size 842.4x595.44 with 1 Axes>"
      ]
     },
     "metadata": {},
     "output_type": "display_data"
    }
   ],
   "source": [
    "import matplotlib.pylab as plt\n",
    "import seaborn as sns\n",
    "classes = dict(df_not_unknow[\"CLASSE\"].value_counts())\n",
    "sns.set(rc={'figure.figsize':(11.7,8.27)})\n",
    "plt.bar(range(len(classes)), list(classes.values()), align='center', tick_label=['Nao Praça', 'Praça'],)\n"
   ]
  },
  {
   "cell_type": "markdown",
   "metadata": {},
   "source": [
    "### Concentração das classes por estado"
   ]
  },
  {
   "cell_type": "code",
   "execution_count": 33,
   "metadata": {},
   "outputs": [],
   "source": [
    "#sns.set(rc={'figure.figsize':(11.7,8.27)})\n",
    "#sns.countplot(y=\"UF_SEDE_CEDENTE\", data=nao_praca)"
   ]
  },
  {
   "cell_type": "code",
   "execution_count": 34,
   "metadata": {},
   "outputs": [],
   "source": [
    "#sns.set(rc={'figure.figsize':(11.7,8.27)})\n",
    "#sns.countplot(y=\"UF_SEDE_CEDENTE\", data=praca)"
   ]
  },
  {
   "cell_type": "code",
   "execution_count": 35,
   "metadata": {},
   "outputs": [
    {
     "data": {
      "text/plain": [
       "<matplotlib.axes._subplots.AxesSubplot at 0x2adae670a90>"
      ]
     },
     "execution_count": 35,
     "metadata": {},
     "output_type": "execute_result"
    },
    {
     "data": {
      "image/png": "[encoded data removed]",
      "text/plain": [
       "<Figure size 842.4x595.44 with 1 Axes>"
      ]
     },
     "metadata": {},
     "output_type": "display_data"
    }
   ],
   "source": [
    "sns.set(rc={'figure.figsize':(11.7,8.27)})\n",
    "cc = pd.concat([praca, nao_praca])\n",
    "sns.countplot(hue = \"CLASSE\", y=\"UF_SEDE_CEDENTE\", data=cc)"
   ]
  },
  {
   "cell_type": "markdown",
   "metadata": {},
   "source": [
    "### Analisando o valor pago dos titulos por classe"
   ]
  },
  {
   "cell_type": "code",
   "execution_count": 36,
   "metadata": {},
   "outputs": [
    {
     "data": {
      "text/html": [
       "<div>\n",
       "<style scoped>\n",
       "    .dataframe tbody tr th:only-of-type {\n",
       "        vertical-align: middle;\n",
       "    }\n",
       "\n",
       "    .dataframe tbody tr th {\n",
       "        vertical-align: top;\n",
       "    }\n",
       "\n",
       "    .dataframe thead th {\n",
       "        text-align: right;\n",
       "    }\n",
       "</style>\n",
       "<table border=\"1\" class=\"dataframe\">\n",
       "  <thead>\n",
       "    <tr style=\"text-align: right;\">\n",
       "      <th></th>\n",
       "      <th>VALOR_PAGO_TITULO</th>\n",
       "    </tr>\n",
       "  </thead>\n",
       "  <tbody>\n",
       "    <tr>\n",
       "      <th>count</th>\n",
       "      <td>5951.000000</td>\n",
       "    </tr>\n",
       "    <tr>\n",
       "      <th>mean</th>\n",
       "      <td>9701.240591</td>\n",
       "    </tr>\n",
       "    <tr>\n",
       "      <th>std</th>\n",
       "      <td>21610.557809</td>\n",
       "    </tr>\n",
       "    <tr>\n",
       "      <th>min</th>\n",
       "      <td>0.000000</td>\n",
       "    </tr>\n",
       "    <tr>\n",
       "      <th>25%</th>\n",
       "      <td>1282.900000</td>\n",
       "    </tr>\n",
       "    <tr>\n",
       "      <th>50%</th>\n",
       "      <td>3278.910000</td>\n",
       "    </tr>\n",
       "    <tr>\n",
       "      <th>75%</th>\n",
       "      <td>8747.905000</td>\n",
       "    </tr>\n",
       "    <tr>\n",
       "      <th>max</th>\n",
       "      <td>261678.380000</td>\n",
       "    </tr>\n",
       "  </tbody>\n",
       "</table>\n",
       "</div>"
      ],
      "text/plain": [
       "       VALOR_PAGO_TITULO\n",
       "count        5951.000000\n",
       "mean         9701.240591\n",
       "std         21610.557809\n",
       "min             0.000000\n",
       "25%          1282.900000\n",
       "50%          3278.910000\n",
       "75%          8747.905000\n",
       "max        261678.380000"
      ]
     },
     "execution_count": 36,
     "metadata": {},
     "output_type": "execute_result"
    }
   ],
   "source": [
    "pd.DataFrame(nao_praca[\"VALOR_PAGO_TITULO\"].describe())"
   ]
  },
  {
   "cell_type": "code",
   "execution_count": 37,
   "metadata": {},
   "outputs": [
    {
     "data": {
      "text/plain": [
       "array([[<matplotlib.axes._subplots.AxesSubplot object at 0x000002ADAE4BB1D0>]],\n",
       "      dtype=object)"
      ]
     },
     "execution_count": 37,
     "metadata": {},
     "output_type": "execute_result"
    },
    {
     "data": {
      "image/png": "[encoded data removed]",
      "text/plain": [
       "<Figure size 864x432 with 1 Axes>"
      ]
     },
     "metadata": {},
     "output_type": "display_data"
    }
   ],
   "source": [
    "nao_praca.hist(column=\"VALOR_PAGO_TITULO\", bins=100, figsize=(12,6), )"
   ]
  },
  {
   "cell_type": "code",
   "execution_count": 38,
   "metadata": {},
   "outputs": [],
   "source": [
    "#nao_praca.boxplot(column=\"VALOR_PAGO_TITULO\", by=\"CLASSE\", figsize=(12,6))\n",
    "#praca.boxplot(column=\"VALOR_PAGO_TITULO\", by=\"CLASSE\", figsize=(12,6))"
   ]
  },
  {
   "cell_type": "markdown",
   "metadata": {},
   "source": [
    "### Analisando a plataforma e a classificação"
   ]
  },
  {
   "cell_type": "code",
   "execution_count": 39,
   "metadata": {},
   "outputs": [],
   "source": [
    "#sns.countplot(y=\"PLATAFORMA\", data=praca)"
   ]
  },
  {
   "cell_type": "code",
   "execution_count": 40,
   "metadata": {},
   "outputs": [],
   "source": [
    "#sns.countplot(y=\"PLATAFORMA\", data=nao_praca)"
   ]
  },
  {
   "cell_type": "code",
   "execution_count": 41,
   "metadata": {},
   "outputs": [
    {
     "data": {
      "text/plain": [
       "<matplotlib.axes._subplots.AxesSubplot at 0x2adae731ba8>"
      ]
     },
     "execution_count": 41,
     "metadata": {},
     "output_type": "execute_result"
    },
    {
     "data": {
      "image/png": "[encoded data removed]",
      "text/plain": [
       "<Figure size 842.4x595.44 with 1 Axes>"
      ]
     },
     "metadata": {},
     "output_type": "display_data"
    }
   ],
   "source": [
    "sns.set(rc={'figure.figsize':(11.7,8.27)})\n",
    "cc = pd.concat([praca, nao_praca])\n",
    "sns.countplot(hue = \"CLASSE\", y=\"PLATAFORMA\", data=cc)"
   ]
  },
  {
   "cell_type": "code",
   "execution_count": 42,
   "metadata": {},
   "outputs": [],
   "source": [
    "#sns.set(rc={'figure.figsize':(11.7,8.27)})\n",
    "#sns.heatmap(df_not_unknow.corr(method='pearson', min_periods=1), \n",
    "#            fmt=\".2f\", annot=True,cmap=\"YlGnBu\",\n",
    "#            linewidths=.5)"
   ]
  },
  {
   "cell_type": "markdown",
   "metadata": {},
   "source": [
    "# Análise Dados Processados"
   ]
  },
  {
   "cell_type": "markdown",
   "metadata": {},
   "source": [
    "### QUANTIDADE EMISSÃO SEGUNDA VIA BOLETO TÍTULO"
   ]
  },
  {
   "cell_type": "code",
   "execution_count": 43,
   "metadata": {},
   "outputs": [
    {
     "data": {
      "text/plain": [
       "<matplotlib.axes._subplots.AxesSubplot at 0x2adae3d6c88>"
      ]
     },
     "execution_count": 43,
     "metadata": {},
     "output_type": "execute_result"
    },
    {
     "data": {
      "image/png": "[encoded data removed]",
      "text/plain": [
       "<Figure size 842.4x595.44 with 1 Axes>"
      ]
     },
     "metadata": {},
     "output_type": "display_data"
    }
   ],
   "source": [
    "sns.set(rc={'figure.figsize':(11.7,8.27)})\n",
    "cc = pd.concat([praca, nao_praca])\n",
    "sns.countplot(hue = \"CLASSE\", y=\"QUANTIDADE_EMISSAO_SEGUNDA_VIA_BOLETO_TITULO\", data=cc)"
   ]
  },
  {
   "cell_type": "markdown",
   "metadata": {},
   "source": [
    "### TIPO CHECAGEM"
   ]
  },
  {
   "cell_type": "code",
   "execution_count": 44,
   "metadata": {},
   "outputs": [
    {
     "data": {
      "text/plain": [
       "<matplotlib.axes._subplots.AxesSubplot at 0x2adae70e2e8>"
      ]
     },
     "execution_count": 44,
     "metadata": {},
     "output_type": "execute_result"
    },
    {
     "data": {
      "image/png": "[encoded data removed]",
      "text/plain": [
       "<Figure size 842.4x595.44 with 1 Axes>"
      ]
     },
     "metadata": {},
     "output_type": "display_data"
    }
   ],
   "source": [
    "sns.set(rc={'figure.figsize':(11.7,8.27)})\n",
    "cc = pd.concat([praca, nao_praca])\n",
    "sns.countplot(hue = \"CLASSE\", y=\"TIPO_CHECAGEM\", data=cc)"
   ]
  },
  {
   "cell_type": "markdown",
   "metadata": {},
   "source": [
    "### PLATAFORMA"
   ]
  },
  {
   "cell_type": "code",
   "execution_count": 45,
   "metadata": {},
   "outputs": [
    {
     "data": {
      "text/plain": [
       "<matplotlib.axes._subplots.AxesSubplot at 0x2adae08de10>"
      ]
     },
     "execution_count": 45,
     "metadata": {},
     "output_type": "execute_result"
    },
    {
     "data": {
      "image/png": "[encoded data removed]",
      "text/plain": [
       "<Figure size 842.4x595.44 with 1 Axes>"
      ]
     },
     "metadata": {},
     "output_type": "display_data"
    }
   ],
   "source": [
    "sns.set(rc={'figure.figsize':(11.7,8.27)})\n",
    "cc = pd.concat([praca, nao_praca])\n",
    "sns.countplot(hue = \"CLASSE\", y=\"PLATAFORMA\", data=cc)"
   ]
  },
  {
   "cell_type": "markdown",
   "metadata": {},
   "source": [
    "### DIST_CEDENTE_SACADO"
   ]
  },
  {
   "cell_type": "code",
   "execution_count": 46,
   "metadata": {},
   "outputs": [
    {
     "data": {
      "text/plain": [
       "<matplotlib.axes._subplots.AxesSubplot at 0x2adae15cf60>"
      ]
     },
     "execution_count": 46,
     "metadata": {},
     "output_type": "execute_result"
    },
    {
     "data": {
      "image/png": "[encoded data removed]",
      "text/plain": [
       "<Figure size 842.4x595.44 with 1 Axes>"
      ]
     },
     "metadata": {},
     "output_type": "display_data"
    }
   ],
   "source": [
    "sns.set(rc={'figure.figsize':(11.7,8.27)})\n",
    "#cc = pd.concat([praca, nao_praca])\n",
    "sns.countplot(hue = \"CLASSE\", y=\"DIST_CEDENTE_SACADO\", data=df_out_svm)"
   ]
  },
  {
   "cell_type": "markdown",
   "metadata": {},
   "source": [
    "### DIST_CEDENTE_COBRANCA_CEDENTE"
   ]
  },
  {
   "cell_type": "code",
   "execution_count": 47,
   "metadata": {},
   "outputs": [
    {
     "data": {
      "text/plain": [
       "<matplotlib.axes._subplots.AxesSubplot at 0x2adae1bef28>"
      ]
     },
     "execution_count": 47,
     "metadata": {},
     "output_type": "execute_result"
    },
    {
     "data": {
      "image/png": "[encoded data removed]",
      "text/plain": [
       "<Figure size 842.4x595.44 with 1 Axes>"
      ]
     },
     "metadata": {},
     "output_type": "display_data"
    }
   ],
   "source": [
    "sns.set(rc={'figure.figsize':(11.7,8.27)})\n",
    "#cc = pd.concat([praca, nao_praca])\n",
    "sns.countplot(hue = \"CLASSE\", y=\"DIST_CEDENTE_COBRANCA_CEDENTE\", data=df_out_svm)"
   ]
  },
  {
   "cell_type": "markdown",
   "metadata": {},
   "source": [
    "### DIST_CEDENTE_COBRANCA_SACADO"
   ]
  },
  {
   "cell_type": "code",
   "execution_count": 48,
   "metadata": {},
   "outputs": [
    {
     "data": {
      "text/plain": [
       "<matplotlib.axes._subplots.AxesSubplot at 0x2adae2d3518>"
      ]
     },
     "execution_count": 48,
     "metadata": {},
     "output_type": "execute_result"
    },
    {
     "data": {
      "image/png": "[encoded data removed]",
      "text/plain": [
       "<Figure size 842.4x595.44 with 1 Axes>"
      ]
     },
     "metadata": {},
     "output_type": "display_data"
    }
   ],
   "source": [
    "sns.set(rc={'figure.figsize':(11.7,8.27)})\n",
    "#cc = pd.concat([praca, nao_praca])\n",
    "sns.countplot(hue = \"CLASSE\", y=\"DIST_CEDENTE_COBRANCA_SACADO\", data=df_out_svm)"
   ]
  },
  {
   "cell_type": "markdown",
   "metadata": {},
   "source": [
    "### DIST_SACADO_COBRANCA_CEDENTE"
   ]
  },
  {
   "cell_type": "code",
   "execution_count": 49,
   "metadata": {},
   "outputs": [
    {
     "data": {
      "text/plain": [
       "<matplotlib.axes._subplots.AxesSubplot at 0x2adae329e48>"
      ]
     },
     "execution_count": 49,
     "metadata": {},
     "output_type": "execute_result"
    },
    {
     "data": {
      "image/png": "[encoded data removed]",
      "text/plain": [
       "<Figure size 842.4x595.44 with 1 Axes>"
      ]
     },
     "metadata": {},
     "output_type": "display_data"
    }
   ],
   "source": [
    "sns.set(rc={'figure.figsize':(11.7,8.27)})\n",
    "#cc = pd.concat([praca, nao_praca])\n",
    "sns.countplot(hue = \"CLASSE\", y=\"DIST_SACADO_COBRANCA_CEDENTE\", data=df_out_svm)"
   ]
  },
  {
   "cell_type": "markdown",
   "metadata": {},
   "source": [
    "### DIST_SACADO_COBRANCA_SACADO"
   ]
  },
  {
   "cell_type": "code",
   "execution_count": 50,
   "metadata": {},
   "outputs": [
    {
     "data": {
      "text/plain": [
       "<matplotlib.axes._subplots.AxesSubplot at 0x2adae387ba8>"
      ]
     },
     "execution_count": 50,
     "metadata": {},
     "output_type": "execute_result"
    },
    {
     "data": {
      "image/png": "[encoded data removed]",
      "text/plain": [
       "<Figure size 842.4x595.44 with 1 Axes>"
      ]
     },
     "metadata": {},
     "output_type": "display_data"
    }
   ],
   "source": [
    "sns.set(rc={'figure.figsize':(11.7,8.27)})\n",
    "#cc = pd.concat([praca, nao_praca])\n",
    "sns.countplot(hue = \"CLASSE\", y=\"DIST_SACADO_COBRANCA_SACADO\", data=df_out_svm)"
   ]
  },
  {
   "cell_type": "markdown",
   "metadata": {},
   "source": [
    "### DIST_COBRANCA_CEDENTE_COBRANCA_SACADO"
   ]
  },
  {
   "cell_type": "code",
   "execution_count": 51,
   "metadata": {},
   "outputs": [
    {
     "data": {
      "text/plain": [
       "<matplotlib.axes._subplots.AxesSubplot at 0x2adae428048>"
      ]
     },
     "execution_count": 51,
     "metadata": {},
     "output_type": "execute_result"
    },
    {
     "data": {
      "image/png": "[encoded data removed]",
      "text/plain": [
       "<Figure size 842.4x595.44 with 1 Axes>"
      ]
     },
     "metadata": {},
     "output_type": "display_data"
    }
   ],
   "source": [
    "sns.set(rc={'figure.figsize':(11.7,8.27)})\n",
    "#cc = pd.concat([praca, nao_praca])\n",
    "sns.countplot(hue = \"CLASSE\", y=\"DIST_COBRANCA_CEDENTE_COBRANCA_SACADO\", data=df_out_svm)"
   ]
  },
  {
   "cell_type": "markdown",
   "metadata": {},
   "source": [
    "### VALOR_TITULO_CHECAGEM"
   ]
  },
  {
   "cell_type": "code",
   "execution_count": 52,
   "metadata": {},
   "outputs": [
    {
     "data": {
      "text/plain": [
       "<matplotlib.axes._subplots.AxesSubplot at 0x2adae69b5f8>"
      ]
     },
     "execution_count": 52,
     "metadata": {},
     "output_type": "execute_result"
    },
    {
     "data": {
      "image/png": "[encoded data removed]",
      "text/plain": [
       "<Figure size 842.4x595.44 with 1 Axes>"
      ]
     },
     "metadata": {},
     "output_type": "display_data"
    }
   ],
   "source": [
    "sns.set(rc={'figure.figsize':(11.7,8.27)})\n",
    "#cc = pd.concat([praca, nao_praca])\n",
    "sns.countplot(hue = \"CLASSE\", y=\"VALOR_TITULO_CHECAGEM\", data=df_out_svm)"
   ]
  },
  {
   "cell_type": "markdown",
   "metadata": {},
   "source": [
    "### DATA_TITULO"
   ]
  },
  {
   "cell_type": "code",
   "execution_count": 53,
   "metadata": {},
   "outputs": [
    {
     "data": {
      "text/plain": [
       "<matplotlib.axes._subplots.AxesSubplot at 0x2adae78f0f0>"
      ]
     },
     "execution_count": 53,
     "metadata": {},
     "output_type": "execute_result"
    },
    {
     "data": {
      "image/png": "[encoded data removed]",
      "text/plain": [
       "<Figure size 842.4x595.44 with 1 Axes>"
      ]
     },
     "metadata": {},
     "output_type": "display_data"
    }
   ],
   "source": [
    "sns.set(rc={'figure.figsize':(11.7,8.27)})\n",
    "#cc = pd.concat([praca, nao_praca])\n",
    "sns.countplot(hue = \"CLASSE\", y=\"DATA_TITULO\", data=df_not_unknow)"
   ]
  },
  {
   "cell_type": "markdown",
   "metadata": {},
   "source": [
    "### BOXPLOT"
   ]
  },
  {
   "cell_type": "code",
   "execution_count": 54,
   "metadata": {},
   "outputs": [],
   "source": [
    "#X_PRACA.boxplot(column=\"VALOR_TITULO_CHECAGEM\", by=\"CLASSE\", figsize=(12,6))\n",
    "#X_NAO_PRACA.boxplot(column=\"VALOR_TITULO_CHECAGEM\", by=\"CLASSE\", figsize=(12,6))"
   ]
  },
  {
   "cell_type": "markdown",
   "metadata": {},
   "source": [
    "### COVARÂNCIA"
   ]
  },
  {
   "cell_type": "code",
   "execution_count": 55,
   "metadata": {},
   "outputs": [
    {
     "data": {
      "text/plain": [
       "<matplotlib.axes._subplots.AxesSubplot at 0x2adae7d4668>"
      ]
     },
     "execution_count": 55,
     "metadata": {},
     "output_type": "execute_result"
    },
    {
     "data": {
      "image/png": "[encoded data removed]",
      "text/plain": [
       "<Figure size 842.4x595.44 with 2 Axes>"
      ]
     },
     "metadata": {},
     "output_type": "display_data"
    }
   ],
   "source": [
    "sns.set(rc={'figure.figsize':(11.7,8.27)})\n",
    "sns.heatmap(df_drop.corr(method='pearson', min_periods=1), \n",
    "            fmt=\".2f\", annot=True,cmap=\"YlGnBu\",\n",
    "            linewidths=.5)"
   ]
  },
  {
   "cell_type": "code",
   "execution_count": 56,
   "metadata": {},
   "outputs": [],
   "source": [
    "#sns.set(rc={'figure.figsize':(11.7,8.27)})\n",
    "#sns.heatmap(df_out_svm.corr(method='pearson', min_periods=1), \n",
    "#            fmt=\".2f\", annot=True,cmap=\"YlGnBu\",\n",
    "#            linewidths=.5)"
   ]
  },
  {
   "cell_type": "markdown",
   "metadata": {},
   "source": [
    "# Classificação\n",
    "\n",
    "A seguir os dados serão informados para algoritmos de aprendizado de máquina para que este possa classifica-los"
   ]
  },
  {
   "cell_type": "code",
   "execution_count": 57,
   "metadata": {},
   "outputs": [
    {
     "name": "stderr",
     "output_type": "stream",
     "text": [
      "c:\\program files\\python36\\lib\\site-packages\\sklearn\\cross_validation.py:41: DeprecationWarning: This module was deprecated in version 0.18 in favor of the model_selection module into which all the refactored classes and functions are moved. Also note that the interface of the new CV iterators are different from that of this module. This module will be removed in 0.20.\n",
      "  \"This module will be removed in 0.20.\", DeprecationWarning)\n"
     ]
    }
   ],
   "source": [
    "from sklearn.cross_validation import train_test_split\n",
    "from sklearn.tree import DecisionTreeClassifier\n",
    "from sklearn.metrics import accuracy_score, roc_auc_score, roc_curve, auc, confusion_matrix\n",
    "\n",
    "from sklearn.model_selection import cross_val_score\n",
    "from sklearn.model_selection import StratifiedKFold"
   ]
  },
  {
   "cell_type": "code",
   "execution_count": 58,
   "metadata": {},
   "outputs": [],
   "source": [
    "def val_score(clf, X_PRACA, X_NAO_PRACA, nr = 1):\n",
    "    \n",
    "    times_run = nr\n",
    "\n",
    "    fit_gini = [None] * times_run\n",
    "    acc = [None] * times_run\n",
    "    confusion = [None] * times_run\n",
    "\n",
    "    for col in range(len(fit_gini)):\n",
    "\n",
    "        X_PRACA = X_PRACA.sample(n=tam, replace=False)\n",
    "        X_PRACA_TRAIN = X_PRACA[0:int((tam*2)/3)]\n",
    "        X_PRACA_TEST = X_PRACA[int((tam*2)/3):]\n",
    "\n",
    "        X_NAO_PRACA = X_NAO_PRACA.sample(n=tam, replace=False)\n",
    "        X_NAO_PRACA_TRAIN = X_NAO_PRACA[0:int((tam*2)/3)]\n",
    "        X_NAO_PRACA_TEST = X_NAO_PRACA[int((tam*2)/3):]\n",
    "\n",
    "        X_TRAIN = pd.concat([X_PRACA_TRAIN,X_NAO_PRACA_TRAIN])\n",
    "        X_TRAIN = X_TRAIN.sample(n=len(X_TRAIN), replace=False)\n",
    "        X_DATA_TRAIN = X_TRAIN.drop(\"CLASSE\", axis=1)\n",
    "        Y_DATA_TRAIN = X_TRAIN['CLASSE']\n",
    "\n",
    "        X_TEST = pd.concat([X_PRACA_TEST,X_NAO_PRACA_TEST])\n",
    "        X_TEST = X_TEST.sample(n=len(X_TEST), replace=False)\n",
    "        X_DATA_TEST = X_TEST.drop(\"CLASSE\", axis=1)\n",
    "        Y_DATA_TEST = X_TEST['CLASSE']\n",
    "\n",
    "        fit_gini[col] = clf.fit(X_DATA_TRAIN, Y_DATA_TRAIN)\n",
    "\n",
    "        Y_PREDICT = fit_gini[col].predict(X_DATA_TEST)\n",
    "        acc[col] = accuracy_score(Y_DATA_TEST, Y_PREDICT)\n",
    "        #fpr, tpr, th = roc_curve(Y_DATA_TEST, Y_PREDICT)\n",
    "\n",
    "        #fpr\n",
    "        #tpr\n",
    "        #th\n",
    "\n",
    "        #roc_auc = auc(fpr, tpr)\n",
    "\n",
    "        # method I: plt\n",
    "        #import matplotlib.pyplot as plt\n",
    "        #plt.title('Curva Roc')\n",
    "        #plt.plot(fpr, tpr, 'b', label = 'AUC = %0.2f' % roc_auc)\n",
    "        #plt.legend(loc = 'lower right')\n",
    "        #plt.plot([0, 1], [0, 1],'r--')\n",
    "        #plt.xlim([0, 1])\n",
    "        #plt.ylim([0, 1])\n",
    "        #plt.ylabel('True Positive Rate')\n",
    "        #plt.xlabel('False Positive Rate')\n",
    "        #plt.show()\n",
    "\n",
    "        confusion[col] = confusion_matrix(Y_DATA_TEST, Y_PREDICT)\n",
    "    \n",
    "    return acc, confusion"
   ]
  },
  {
   "cell_type": "markdown",
   "metadata": {},
   "source": [
    "## Árvore de Decisão"
   ]
  },
  {
   "cell_type": "code",
   "execution_count": 86,
   "metadata": {},
   "outputs": [],
   "source": [
    "alt = 5\n",
    "\n",
    "clf_gini = DecisionTreeClassifier(criterion = \"gini\", \n",
    "                                  random_state = 100,\n",
    "                                  max_depth=alt, \n",
    "                                  min_samples_leaf=3,\n",
    "                                  min_samples_split=2,\n",
    "                                 )\n",
    "\n",
    "acc, confusion = val_score(clf_gini, X_PRACA, X_NAO_PRACA, 10)\n"
   ]
  },
  {
   "cell_type": "code",
   "execution_count": 87,
   "metadata": {},
   "outputs": [
    {
     "data": {
      "text/plain": [
       "[0.9360033030553262,\n",
       " 0.9397192402972749,\n",
       " 0.9343517753922378,\n",
       " 0.9339388934764657,\n",
       " 0.9421965317919075,\n",
       " 0.9409578860445913,\n",
       " 0.9405450041288191,\n",
       " 0.935177539223782,\n",
       " 0.9368290668868704,\n",
       " 0.9397192402972749]"
      ]
     },
     "execution_count": 87,
     "metadata": {},
     "output_type": "execute_result"
    }
   ],
   "source": [
    "acc"
   ]
  },
  {
   "cell_type": "code",
   "execution_count": 88,
   "metadata": {},
   "outputs": [
    {
     "name": "stdout",
     "output_type": "stream",
     "text": [
      "1)\n",
      "[[1128   83]\n",
      " [  72 1139]]\n",
      "2)\n",
      "[[1129   82]\n",
      " [  64 1147]]\n",
      "3)\n",
      "[[1135   76]\n",
      " [  83 1128]]\n",
      "4)\n",
      "[[1136   75]\n",
      " [  85 1126]]\n",
      "5)\n",
      "[[1143   68]\n",
      " [  72 1139]]\n",
      "6)\n",
      "[[1142   69]\n",
      " [  74 1137]]\n",
      "7)\n",
      "[[1134   77]\n",
      " [  67 1144]]\n",
      "8)\n",
      "[[1138   73]\n",
      " [  84 1127]]\n",
      "9)\n",
      "[[1140   71]\n",
      " [  82 1129]]\n",
      "10)\n",
      "[[1138   73]\n",
      " [  73 1138]]\n"
     ]
    }
   ],
   "source": [
    "for col in range(len(confusion)):\n",
    "    print(str(col+1) + \")\\n\" + str(confusion[col]))"
   ]
  },
  {
   "cell_type": "code",
   "execution_count": 89,
   "metadata": {},
   "outputs": [],
   "source": [
    "import graphviz\n",
    "\n",
    "dot_data = tree.export_graphviz(clf_gini, out_file=\"out.dot\", \n",
    "                                feature_names=df_drop.columns,\n",
    "                                class_names=['NÃO PRAÇA','PRAÇA'],\n",
    "                                filled=True, rounded=True,\n",
    "                                special_characters=True)\n",
    "\n",
    "graph = graphviz.Source(dot_data)"
   ]
  },
  {
   "cell_type": "code",
   "execution_count": 90,
   "metadata": {},
   "outputs": [],
   "source": [
    "import pydot\n",
    "\n",
    "(image,) = pydot.graph_from_dot_file('out.dot')\n",
    "image.write_png(\"out\" + str(alt) +\".png\")"
   ]
  },
  {
   "cell_type": "markdown",
   "metadata": {},
   "source": [
    "## SVM"
   ]
  },
  {
   "cell_type": "code",
   "execution_count": 91,
   "metadata": {},
   "outputs": [],
   "source": [
    "from sklearn import svm\n",
    "\n",
    "clf_svm = svm.SVC(kernel='rbf')\n",
    "#scores = cross_val_score(clf_svm, X, Y, cv=10)\n",
    "\n",
    "acc, confusion = val_score(clf_svm, X_PRACA, X_NAO_PRACA, 10)"
   ]
  },
  {
   "cell_type": "code",
   "execution_count": 92,
   "metadata": {},
   "outputs": [
    {
     "data": {
      "text/plain": [
       "[0.9265070189925682,\n",
       " 0.9310487200660611,\n",
       " 0.9293971924029728,\n",
       " 0.9248554913294798,\n",
       " 0.9293971924029728,\n",
       " 0.9227910817506193,\n",
       " 0.921552436003303,\n",
       " 0.9298100743187449,\n",
       " 0.9302229562345169,\n",
       " 0.9302229562345169]"
      ]
     },
     "execution_count": 92,
     "metadata": {},
     "output_type": "execute_result"
    }
   ],
   "source": [
    "acc"
   ]
  },
  {
   "cell_type": "code",
   "execution_count": 93,
   "metadata": {},
   "outputs": [
    {
     "name": "stdout",
     "output_type": "stream",
     "text": [
      "1)\n",
      "[[1138   73]\n",
      " [ 105 1106]]\n",
      "2)\n",
      "[[1147   64]\n",
      " [ 103 1108]]\n",
      "3)\n",
      "[[1146   65]\n",
      " [ 106 1105]]\n",
      "4)\n",
      "[[1143   68]\n",
      " [ 114 1097]]\n",
      "5)\n",
      "[[1150   61]\n",
      " [ 110 1101]]\n",
      "6)\n",
      "[[1137   74]\n",
      " [ 113 1098]]\n",
      "7)\n",
      "[[1137   74]\n",
      " [ 116 1095]]\n",
      "8)\n",
      "[[1135   76]\n",
      " [  94 1117]]\n",
      "9)\n",
      "[[1151   60]\n",
      " [ 109 1102]]\n",
      "10)\n",
      "[[1144   67]\n",
      " [ 102 1109]]\n"
     ]
    }
   ],
   "source": [
    "for col in range(len(confusion)):\n",
    "    print(str(col+1) + \")\\n\" + str(confusion[col]))"
   ]
  },
  {
   "cell_type": "markdown",
   "metadata": {},
   "source": [
    "### Bayes"
   ]
  },
  {
   "cell_type": "code",
   "execution_count": 94,
   "metadata": {},
   "outputs": [],
   "source": [
    "from sklearn.naive_bayes import BernoulliNB, GaussianNB\n",
    "\n",
    "clf_guassian = GaussianNB()\n",
    "\n",
    "acc, confusion = val_score(clf_guassian, X_PRACA, X_NAO_PRACA, 10)"
   ]
  },
  {
   "cell_type": "code",
   "execution_count": 95,
   "metadata": {},
   "outputs": [
    {
     "data": {
      "text/plain": [
       "[0.8711808422791082,\n",
       " 0.85177539223782,\n",
       " 0.8662262592898431,\n",
       " 0.8728323699421965,\n",
       " 0.8649876135425268,\n",
       " 0.8583815028901735,\n",
       " 0.8649876135425268,\n",
       " 0.865813377374071,\n",
       " 0.8625103220478944,\n",
       " 0.8596201486374897]"
      ]
     },
     "execution_count": 95,
     "metadata": {},
     "output_type": "execute_result"
    }
   ],
   "source": [
    "acc"
   ]
  },
  {
   "cell_type": "code",
   "execution_count": 96,
   "metadata": {},
   "outputs": [
    {
     "name": "stdout",
     "output_type": "stream",
     "text": [
      "1)\n",
      "[[1121   90]\n",
      " [ 222  989]]\n",
      "2)\n",
      "[[1110  101]\n",
      " [ 258  953]]\n",
      "3)\n",
      "[[1091  120]\n",
      " [ 204 1007]]\n",
      "4)\n",
      "[[1093  118]\n",
      " [ 190 1021]]\n",
      "5)\n",
      "[[1113   98]\n",
      " [ 229  982]]\n",
      "6)\n",
      "[[1114   97]\n",
      " [ 246  965]]\n",
      "7)\n",
      "[[1110  101]\n",
      " [ 226  985]]\n",
      "8)\n",
      "[[1114   97]\n",
      " [ 228  983]]\n",
      "9)\n",
      "[[1109  102]\n",
      " [ 231  980]]\n",
      "10)\n",
      "[[1117   94]\n",
      " [ 246  965]]\n"
     ]
    }
   ],
   "source": [
    "for col in range(len(confusion)):\n",
    "    print(str(col+1) + \")\\n\" + str(confusion[col]))"
   ]
  },
  {
   "cell_type": "markdown",
   "metadata": {},
   "source": [
    "### Gradient Boosting"
   ]
  },
  {
   "cell_type": "code",
   "execution_count": 97,
   "metadata": {},
   "outputs": [],
   "source": [
    "from sklearn.ensemble import GradientBoostingClassifier\n",
    "\n",
    "clf_gradient = GradientBoostingClassifier(n_estimators=100, learning_rate=1.0, \n",
    "                                 max_depth=1, random_state=100)\n",
    "\n",
    "acc, confusion = val_score(clf_gradient, X_PRACA, X_NAO_PRACA, 10)"
   ]
  },
  {
   "cell_type": "code",
   "execution_count": 98,
   "metadata": {},
   "outputs": [
    {
     "data": {
      "text/plain": [
       "[0.9269199009083402,\n",
       " 0.9335260115606936,\n",
       " 0.9289843104872006,\n",
       " 0.9339388934764657,\n",
       " 0.9248554913294798,\n",
       " 0.9314616019818331,\n",
       " 0.9372419488026424,\n",
       " 0.9298100743187449,\n",
       " 0.9322873658133773,\n",
       " 0.9380677126341866]"
      ]
     },
     "execution_count": 98,
     "metadata": {},
     "output_type": "execute_result"
    }
   ],
   "source": [
    "acc"
   ]
  },
  {
   "cell_type": "code",
   "execution_count": 99,
   "metadata": {},
   "outputs": [
    {
     "name": "stdout",
     "output_type": "stream",
     "text": [
      "1)\n",
      "[[1141   70]\n",
      " [ 107 1104]]\n",
      "2)\n",
      "[[1137   74]\n",
      " [  87 1124]]\n",
      "3)\n",
      "[[1136   75]\n",
      " [  97 1114]]\n",
      "4)\n",
      "[[1138   73]\n",
      " [  87 1124]]\n",
      "5)\n",
      "[[1130   81]\n",
      " [ 101 1110]]\n",
      "6)\n",
      "[[1134   77]\n",
      " [  89 1122]]\n",
      "7)\n",
      "[[1141   70]\n",
      " [  82 1129]]\n",
      "8)\n",
      "[[1145   66]\n",
      " [ 104 1107]]\n",
      "9)\n",
      "[[1139   72]\n",
      " [  92 1119]]\n",
      "10)\n",
      "[[1148   63]\n",
      " [  87 1124]]\n"
     ]
    }
   ],
   "source": [
    "for col in range(len(confusion)):\n",
    "    print(str(col+1) + \")\\n\" + str(confusion[col]))"
   ]
  },
  {
   "cell_type": "markdown",
   "metadata": {},
   "source": [
    "### Random Forest"
   ]
  },
  {
   "cell_type": "code",
   "execution_count": 100,
   "metadata": {},
   "outputs": [],
   "source": [
    "from sklearn.ensemble import RandomForestClassifier\n",
    "\n",
    "clf_rand_forest = RandomForestClassifier(max_depth=2, random_state=100)\n",
    "\n",
    "acc, confusion = val_score(clf_rand_forest, X_PRACA, X_NAO_PRACA, 10)"
   ]
  },
  {
   "cell_type": "code",
   "execution_count": 101,
   "metadata": {},
   "outputs": [
    {
     "data": {
      "text/plain": [
       "[0.9037985136251032,\n",
       " 0.8926507018992568,\n",
       " 0.8885218827415359,\n",
       " 0.8938893476465731,\n",
       " 0.8984310487200661,\n",
       " 0.8864574731626754,\n",
       " 0.9000825763831544,\n",
       " 0.8976052848885219,\n",
       " 0.9050371593724195,\n",
       " 0.8914120561519405]"
      ]
     },
     "execution_count": 101,
     "metadata": {},
     "output_type": "execute_result"
    }
   ],
   "source": [
    "acc"
   ]
  },
  {
   "cell_type": "code",
   "execution_count": 102,
   "metadata": {},
   "outputs": [
    {
     "name": "stdout",
     "output_type": "stream",
     "text": [
      "1)\n",
      "[[1037  174]\n",
      " [  59 1152]]\n",
      "2)\n",
      "[[1025  186]\n",
      " [  74 1137]]\n",
      "3)\n",
      "[[1008  203]\n",
      " [  67 1144]]\n",
      "4)\n",
      "[[1029  182]\n",
      " [  75 1136]]\n",
      "5)\n",
      "[[1041  170]\n",
      " [  76 1135]]\n",
      "6)\n",
      "[[1004  207]\n",
      " [  68 1143]]\n",
      "7)\n",
      "[[1043  168]\n",
      " [  74 1137]]\n",
      "8)\n",
      "[[1033  178]\n",
      " [  70 1141]]\n",
      "9)\n",
      "[[1038  173]\n",
      " [  57 1154]]\n",
      "10)\n",
      "[[1015  196]\n",
      " [  67 1144]]\n"
     ]
    }
   ],
   "source": [
    "for col in range(len(confusion)):\n",
    "    print(str(col+1) + \")\\n\" + str(confusion[col]))"
   ]
  },
  {
   "cell_type": "markdown",
   "metadata": {},
   "source": [
    "### MLP"
   ]
  },
  {
   "cell_type": "code",
   "execution_count": 103,
   "metadata": {},
   "outputs": [],
   "source": [
    "from sklearn.neural_network import MLPClassifier\n",
    "\n",
    "clf_mlp = MLPClassifier()\n",
    "\n",
    "acc, confusion = val_score(clf_mlp, X_PRACA, X_NAO_PRACA, 10)"
   ]
  },
  {
   "cell_type": "code",
   "execution_count": 104,
   "metadata": {},
   "outputs": [
    {
     "data": {
      "text/plain": [
       "[0.9327002477291495,\n",
       " 0.9293971924029728,\n",
       " 0.9417836498761354,\n",
       " 0.9318744838976053,\n",
       " 0.935177539223782,\n",
       " 0.9302229562345169,\n",
       " 0.9413707679603633,\n",
       " 0.9331131296449215,\n",
       " 0.9322873658133773,\n",
       " 0.935177539223782]"
      ]
     },
     "execution_count": 104,
     "metadata": {},
     "output_type": "execute_result"
    }
   ],
   "source": [
    "acc"
   ]
  },
  {
   "cell_type": "code",
   "execution_count": 105,
   "metadata": {},
   "outputs": [
    {
     "name": "stdout",
     "output_type": "stream",
     "text": [
      "1)\n",
      "[[1138   73]\n",
      " [  90 1121]]\n",
      "2)\n",
      "[[1147   64]\n",
      " [ 107 1104]]\n",
      "3)\n",
      "[[1151   60]\n",
      " [  81 1130]]\n",
      "4)\n",
      "[[1136   75]\n",
      " [  90 1121]]\n",
      "5)\n",
      "[[1149   62]\n",
      " [  95 1116]]\n",
      "6)\n",
      "[[1129   82]\n",
      " [  87 1124]]\n",
      "7)\n",
      "[[1151   60]\n",
      " [  82 1129]]\n",
      "8)\n",
      "[[1141   70]\n",
      " [  92 1119]]\n",
      "9)\n",
      "[[1122   89]\n",
      " [  75 1136]]\n",
      "10)\n",
      "[[1137   74]\n",
      " [  83 1128]]\n"
     ]
    }
   ],
   "source": [
    "for col in range(len(confusion)):\n",
    "    print(str(col+1) + \")\\n\" + str(confusion[col]))"
   ]
  },
  {
   "cell_type": "code",
   "execution_count": null,
   "metadata": {},
   "outputs": [],
   "source": []
  }
 ],
 "metadata": {
  "kernelspec": {
   "display_name": "Python 3",
   "language": "python",
   "name": "python3"
  },
  "language_info": {
   "codemirror_mode": {
    "name": "ipython",
    "version": 3
   },
   "file_extension": ".py",
   "mimetype": "text/x-python",
   "name": "python",
   "nbconvert_exporter": "python",
   "pygments_lexer": "ipython3",
   "version": "3.6.4"
  }
 },
 "nbformat": 4,
 "nbformat_minor": 2
}
